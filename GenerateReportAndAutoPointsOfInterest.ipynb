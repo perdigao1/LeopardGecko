{
 "cells": [
  {
   "cell_type": "code",
   "execution_count": 1,
   "id": "exterior-adaptation",
   "metadata": {},
   "outputs": [],
   "source": [
    "#To generate a report about the consistency score of combined predicted data\n",
    "#It also gives regions of interest, that could be good to resegment the data\n",
    "#and test again with the Machine Learning\n",
    "\n",
    "#To generate a pdf of this report, use the command line and type\n",
    "#jupyter nbconvert --no-input --execute --to pdf GenerateReportAndAutoPointsOfInterest.ipynb\n",
    "\n",
    "# This software requires leopardgecko.py and its dependencies\n",
    "# For the pdf export to work it also needs the python packages\n",
    "# nbconvert and nbformat\n",
    "#and a TeX distribution\n",
    "#https://nbconvert.readthedocs.io/en/latest/\n",
    "\n",
    "import leopardgecko as lg\n",
    "import os\n",
    "import numpy as np\n",
    "import matplotlib.pyplot as plt"
   ]
  },
  {
   "cell_type": "code",
   "execution_count": 2,
   "id": "popular-reducing",
   "metadata": {},
   "outputs": [],
   "source": [
    "# **Configuration Settings**\n",
    "\n",
    "#Data weighing\n",
    "dweightingmethod = 'MaxMinSquare'\n",
    "\n",
    "#Average Pooling settings\n",
    "w_avg = 512 #Chunks for the average pooling 3D using the GPU. Should not affect final data\n",
    "k_width = 256\n",
    "s_stride= 128\n",
    "\n",
    "bForceRecalculation = False\n",
    "# True: In case AvgPool of score data already exists, force recalculation\n",
    "# False: Use existing file if it exists\n",
    "\n",
    "mySegmentedVolumes = []"
   ]
  },
  {
   "cell_type": "code",
   "execution_count": 3,
   "id": "hispanic-payday",
   "metadata": {},
   "outputs": [],
   "source": [
    "#Set data filename and location here\n",
    "\n",
    "\n",
    "#Blood Vessel (placenta)\n",
    "data_filename = '/workspace/for_luis/2020-04-09_final_4_volumes_combined.h5'\n",
    "#Optional for plotting the score of the volume that was segmented manually\n",
    "#Define what voluem was used in format (zmin,zmax , ymin,ymax , xmin,xmax )\n",
    "#In don't want to define volume just make this =None\n",
    "mySegmentedVolumes.append( (900,1156 , 185,441 , 1750,2006) ) #This is the one that was used for teaching the neural network\n",
    "\n",
    "mySegmentedVolumes.append( (512,768 , 1280,1536 , 1536,1792) )\n",
    "mySegmentedVolumes.append( (0,256 , 1536,1792 , 1792,2048) )\n",
    "mySegmentedVolumes.append( (0,256 , 1024,1280 , 512,768) )\n",
    "mySegmentedVolumes.append( (1536,1792 , 256,512 , 0,256) )\n",
    "mySegmentedVolumes.append( (684,1068 , 2012,2396 , 457,841) )\n",
    "mySegmentedVolumes.append( (1067,1991 , 1074,1458 , 1354,1738) )\n",
    "\n",
    "\n",
    "\n",
    "#Maternal/foetal\n",
    "#data_filename = '/workspace/for_luis/2020-05-15_final_4_volumes_combined.h5'\n",
    "#mySegmentedVolume = (310,694 , 1242,1626 , 510,894 )"
   ]
  },
  {
   "cell_type": "code",
   "execution_count": 4,
   "id": "unique-freeware",
   "metadata": {},
   "outputs": [
    {
     "name": "stdout",
     "output_type": "stream",
     "text": [
      "Data filename :  /workspace/for_luis/2020-04-09_final_4_volumes_combined.h5\n"
     ]
    }
   ],
   "source": [
    "print (\"Data filename : \" , data_filename)\n",
    "#Check if average pooling has already been done"
   ]
  },
  {
   "cell_type": "code",
   "execution_count": 5,
   "id": "precise-daily",
   "metadata": {},
   "outputs": [],
   "source": [
    "predicteddata_lg = lg.PredictedData(data_filename)"
   ]
  },
  {
   "cell_type": "code",
   "execution_count": 6,
   "id": "nonprofit-offer",
   "metadata": {
    "scrolled": true
   },
   "outputs": [
    {
     "name": "stdout",
     "output_type": "stream",
     "text": [
      "Shape:  (2120, 2520, 2520)\n"
     ]
    }
   ],
   "source": [
    "print(\"Shape: \" , predicteddata_lg.data_da.shape )"
   ]
  },
  {
   "cell_type": "code",
   "execution_count": 7,
   "id": "individual-breast",
   "metadata": {},
   "outputs": [
    {
     "name": "stdout",
     "output_type": "stream",
     "text": [
      "Values: max = 12 , min = 12 \n"
     ]
    }
   ],
   "source": [
    "#Get Maximum and minimum value\n",
    "print ( \"Values: max = {} , min = {} \".format(predicteddata_lg.vmax, predicteddata_lg.vmax) )"
   ]
  },
  {
   "cell_type": "markdown",
   "id": "professional-ending",
   "metadata": {},
   "source": [
    "# Consistency score (CS)"
   ]
  },
  {
   "cell_type": "code",
   "execution_count": 8,
   "id": "modular-yesterday",
   "metadata": {},
   "outputs": [
    {
     "name": "stdout",
     "output_type": "stream",
     "text": [
      "Weighting data to get consistency score using method MaxMinSquare\n"
     ]
    }
   ],
   "source": [
    "print (\"Weighting data to get consistency score using method\" ,dweightingmethod)"
   ]
  },
  {
   "cell_type": "code",
   "execution_count": 9,
   "id": "innovative-kingdom",
   "metadata": {},
   "outputs": [],
   "source": [
    "cs , cs_avg = predicteddata_lg.setWeightedData(dweightingmethod)"
   ]
  },
  {
   "cell_type": "code",
   "execution_count": 10,
   "id": "enormous-august",
   "metadata": {},
   "outputs": [
    {
     "name": "stdout",
     "output_type": "stream",
     "text": [
      "Consistency score whole volume average = 32.36612531003841\n"
     ]
    }
   ],
   "source": [
    "print(\"Consistency score whole volume average = {}\".format(cs_avg))"
   ]
  },
  {
   "cell_type": "code",
   "execution_count": 11,
   "id": "iraqi-sheffield",
   "metadata": {},
   "outputs": [
    {
     "name": "stdout",
     "output_type": "stream",
     "text": [
      "Manually segmented volume [ 900:1156 , 185:441 , 1750:2006 ] has consistency score of 34.89816457033157 .\n"
     ]
    }
   ],
   "source": [
    "cscore_segm = None\n",
    "if len(mySegmentedVolumes)>0 :\n",
    "    g =mySegmentedVolumes[0]\n",
    "    cscore_segm = predicteddata_lg.getWeightedValueAverageOfVolume( g )\n",
    "    print (\"Manually segmented volume [ {}:{} , {}:{} , {}:{} ] has consistency score of {} .\". \\\n",
    "      format( g[0], g[1] , g[2],g[3] , g[4],g[5] ,  cscore_segm) )"
   ]
  },
  {
   "cell_type": "markdown",
   "id": "tight-demonstration",
   "metadata": {},
   "source": [
    "# Average pooling of CS"
   ]
  },
  {
   "cell_type": "markdown",
   "id": "removable-regard",
   "metadata": {},
   "source": [
    "Parameters used for average pooling"
   ]
  },
  {
   "cell_type": "code",
   "execution_count": 12,
   "id": "blond-climate",
   "metadata": {},
   "outputs": [
    {
     "name": "stdout",
     "output_type": "stream",
     "text": [
      "Sub-volume width : 256\n",
      "Stride (jump) : 128\n"
     ]
    }
   ],
   "source": [
    "print(\"Sub-volume width : {}\".format(k_width))\n",
    "print(\"Stride (jump) : {}\".format(s_stride))"
   ]
  },
  {
   "cell_type": "code",
   "execution_count": 13,
   "id": "unknown-confusion",
   "metadata": {},
   "outputs": [
    {
     "name": "stdout",
     "output_type": "stream",
     "text": [
      "Consistency Score AvgPool3D data filename:  2020-04-09_final_4_volumes_combined_VolAvg_k256_s128.h5\n"
     ]
    }
   ],
   "source": [
    "#Decide here the filename of the file to store the avgpooled data\n",
    "#If the file exists, then the calculation was probably been done before\n",
    "# and existing file\n",
    "#To override this and force recalculation (long) set flag ...\n",
    "\n",
    "#Save file (locally, at the same folder as this notebook)\n",
    "pathhead, pathtail = os.path.split(data_filename)\n",
    "pathname , ext = os.path.splitext(pathtail)\n",
    "newpathname = pathname + \"_VolAvg_k\" + str(k_width)+\"_s\"+str(s_stride)\n",
    "newfilename = newpathname + '.h5'\n",
    "print (\"Consistency Score AvgPool3D data filename: \", newfilename)"
   ]
  },
  {
   "cell_type": "code",
   "execution_count": 14,
   "id": "reasonable-bathroom",
   "metadata": {
    "scrolled": true
   },
   "outputs": [
    {
     "name": "stdout",
     "output_type": "stream",
     "text": [
      "File already exists, and recalculation is not required so the results in this file will be used\n"
     ]
    }
   ],
   "source": [
    "scoredata_lg = None\n",
    "\n",
    "#Check file exists or if recalculation is intended\n",
    "if ( os.path.exists(newfilename) and not bForceRecalculation) :\n",
    "    print(\"File already exists, and recalculation is not required so the results in this file will be used\")\n",
    "    #Load data using leopardgecko ScoreData class\n",
    "    scoredata_lg = lg.ScoreData.fromFile(newfilename)\n",
    "    \n",
    "else:\n",
    "    #Calculate the AvgPool3D of the Consistency score\n",
    "    scoredata_lg = predicteddata_lg.AvgPool3D_LargeData(w_avg , k_width , s_stride , do_weighting = False)\n",
    "    scoredata_lg.saveToFile(newfilename)"
   ]
  },
  {
   "cell_type": "markdown",
   "id": "smaller-patient",
   "metadata": {},
   "source": [
    "# Histogram of Consistency score and regions-of-interest\n",
    "Blue - Consistency score histogram \\\n",
    "red lines - points of interest \\\n",
    "green line -  consistency score for the region that was manually segmented"
   ]
  },
  {
   "cell_type": "code",
   "execution_count": 15,
   "id": "romance-strategy",
   "metadata": {
    "scrolled": false
   },
   "outputs": [
    {
     "name": "stdout",
     "output_type": "stream",
     "text": [
      "Gaussian fit to peak, parameters amplitude=336.99165968746934 , mean=33.27826868431828 ,stdev=0.842132052886519\n"
     ]
    }
   ],
   "source": [
    "#Gets points of interest (see leopardgecko.py code to see how this was determined)\n",
    "poi = scoredata_lg.SelectRegionsOfInterest_V0()"
   ]
  },
  {
   "cell_type": "code",
   "execution_count": 16,
   "id": "boxed-folder",
   "metadata": {},
   "outputs": [
    {
     "name": "stdout",
     "output_type": "stream",
     "text": [
      "P0 [ 1792:2048 , 1536:1792 , 128:384 ] centered at (1920, 1664, 256) cscore=20.512474536895752\n",
      "P1 [ 1792:2048 , 1664:1920 , 128:384 ] centered at (1920, 1792, 256) cscore=25.616242706775665\n",
      "P2 [ 640:896 , 640:896 , 1024:1280 ] centered at (768, 768, 1152) cscore=30.682079195976257\n",
      "P3 [ 640:896 , 1152:1408 , 1024:1280 ] centered at (768, 1280, 1152) cscore=32.287492752075195\n",
      "P4 [ 768:1024 , 896:1152 , 1024:1280 ] centered at (896, 1024, 1152) cscore=33.244472205638885\n"
     ]
    }
   ],
   "source": [
    "#Prints a report about the locations of the points of interest\n",
    "def point_ReportResultAs_Vol_Center_CScore(p3d , width):\n",
    "    w2 = int(width/2)\n",
    "\n",
    "    p = p3d[0] #First element is the voxel coordinates\n",
    "    point_dist = p3d[1] #Second element is the distance to...\n",
    "    point_cscore = p3d[2] #Second element is the consistency score\n",
    "\n",
    "    s = \"[ \" + str(p[0]-w2) + \":\" + str(p[0]+w2) + \" , \" + \\\n",
    "        str(p[1]-w2) + \":\" + str(p[1]+w2) + \" , \" + \\\n",
    "        str(p[2]-w2) + \":\" + str(p[2]+w2) + \\\n",
    "        \" ]\"\n",
    "    s +=  \" centered at \" + str(p)\n",
    "    s += \" cscore=\" + str(point_cscore)\n",
    "    return s\n",
    "\n",
    "for i in range( len(poi) ):\n",
    "    print (\"P{}\".format(i) , point_ReportResultAs_Vol_Center_CScore( poi[i] , k_width) )"
   ]
  },
  {
   "cell_type": "code",
   "execution_count": 17,
   "id": "convertible-earthquake",
   "metadata": {
    "scrolled": true
   },
   "outputs": [
    {
     "data": {
      "image/png": "[encoded data removed]",
      "text/plain": [
       "<Figure size 432x288 with 1 Axes>"
      ]
     },
     "metadata": {
      "needs_background": "light"
     },
     "output_type": "display_data"
    }
   ],
   "source": [
    "#Plots the Consistency score histogram and highlights points of interest\n",
    "plt.plot(scoredata_lg.histogram_bins, scoredata_lg.histogram)\n",
    "plt.xlabel('Score')\n",
    "plt.ylabel('Counts')\n",
    "\n",
    "for i in range( len(poi) ):\n",
    "    x0 = poi[i][2] #gets the point score\n",
    "    plt.axvline( x0, color='red')\n",
    "\n",
    "    #Annotate lines\n",
    "    #plt.annotate( 'P{}'.format(i), ( x0, fgaussian(x0, popt[0], popt[1], popt[2]) ) )\n",
    "    plt.annotate( 'P{}'.format(i), ( x0, i*40 ) )\n",
    "    #uses the gaussian approximation to get a rough location of the point"
   ]
  },
  {
   "cell_type": "code",
   "execution_count": 18,
   "id": "hydraulic-attempt",
   "metadata": {},
   "outputs": [],
   "source": [
    "#In case leopardgeck has been modified, run these commands bellow\n",
    "#import importlib\n",
    "#importlib.reload(lg)"
   ]
  },
  {
   "cell_type": "markdown",
   "id": "roman-scholarship",
   "metadata": {},
   "source": [
    "# Manually segmented volumes - CS"
   ]
  },
  {
   "cell_type": "code",
   "execution_count": 19,
   "id": "inside-institution",
   "metadata": {
    "scrolled": true
   },
   "outputs": [
    {
     "name": "stdout",
     "output_type": "stream",
     "text": [
      "V0 [ 900:1156 , 185:441 , 1750:2006 ] , consistency score of 34.89816457033157\n",
      "V1 [ 512:768 , 1280:1536 , 1536:1792 ] , consistency score of 34.19626897573471\n",
      "V2 [ 0:256 , 1536:1792 , 1792:2048 ] , consistency score of 33.13370609283447\n",
      "V3 [ 0:256 , 1024:1280 , 512:768 ] , consistency score of 34.22354298830032\n",
      "V4 [ 1536:1792 , 256:512 , 0:256 ] , consistency score of 29.879499673843384\n",
      "V5 [ 684:1068 , 2012:2396 , 457:841 ] , consistency score of 33.60379462771945\n",
      "V6 [ 1067:1991 , 1074:1458 , 1354:1738 ] , consistency score of 33.338957639311644\n"
     ]
    },
    {
     "data": {
      "image/png": "[encoded data removed]",
      "text/plain": [
       "<Figure size 432x288 with 1 Axes>"
      ]
     },
     "metadata": {
      "needs_background": "light"
     },
     "output_type": "display_data"
    }
   ],
   "source": [
    "#Create a new histogram with the pre-segmented volume scores highlighted\n",
    "plt.plot(scoredata_lg.histogram_bins, scoredata_lg.histogram)\n",
    "plt.xlabel('Score')\n",
    "plt.ylabel('Counts')\n",
    "\n",
    "hmax = np.amax(scoredata_lg.histogram)\n",
    "\n",
    "for i in range( len(mySegmentedVolumes) ):\n",
    "    #For each of the segmented volumes, calculates the Consistency Score\n",
    "    g =mySegmentedVolumes[i]\n",
    "    cscore_segm = predicteddata_lg.getWeightedValueAverageOfVolume( g )\n",
    "    plt.axvline( cscore_segm , color='green')\n",
    "    #plt.annotate(\"V{}\".format(i) , (cscore_segm , (hmax / predicteddata_lg.vmax * cscore_segm) ) )\n",
    "    plt.annotate(\"V{}\".format(i) , (cscore_segm , i*40 ) )\n",
    "    \n",
    "    print (\"V{} [ {}:{} , {}:{} , {}:{} ] , consistency score of {}\". \\\n",
    "      format( i, g[0], g[1] , g[2],g[3] , g[4],g[5] ,  cscore_segm) )\n",
    "#plt.show()"
   ]
  }
 ],
 "metadata": {
  "kernelspec": {
   "display_name": "Python 3",
   "language": "python",
   "name": "python3"
  },
  "language_info": {
   "codemirror_mode": {
    "name": "ipython",
    "version": 3
   },
   "file_extension": ".py",
   "mimetype": "text/x-python",
   "name": "python",
   "nbconvert_exporter": "python",
   "pygments_lexer": "ipython3",
   "version": "3.8.6"
  }
 },
 "nbformat": 4,
 "nbformat_minor": 5
}
