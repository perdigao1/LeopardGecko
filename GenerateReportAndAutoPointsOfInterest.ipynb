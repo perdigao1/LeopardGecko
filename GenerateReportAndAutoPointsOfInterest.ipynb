{
 "cells": [
  {
   "cell_type": "code",
   "execution_count": 1,
   "id": "exterior-adaptation",
   "metadata": {},
   "outputs": [],
   "source": [
    "import leopardgecko as lg\n",
    "import os"
   ]
  },
  {
   "cell_type": "code",
   "execution_count": 2,
   "id": "popular-reducing",
   "metadata": {},
   "outputs": [],
   "source": [
    "# **Configuration Settings**\n",
    "\n",
    "#Set data filename and location here\n",
    "data_filename = '/workspace/for_luis/2020-05-15_final_4_volumes_combined.h5'\n",
    "\n",
    "\n",
    "#Data weighing\n",
    "dweightingmethod = 'MaxMinSquare'\n",
    "\n",
    "#Average Pooling settings\n",
    "w_avg = 512 #Chunks for the average pooling 3D using the GPU. Should not affect final data\n",
    "k_width = 256\n",
    "s_stride= 128\n",
    "\n",
    "bForceRecalculation = False\n",
    "# True: In case AvgPool of score data already exists, force recalculation\n",
    "# False: Use existing file if it exists"
   ]
  },
  {
   "cell_type": "code",
   "execution_count": 3,
   "id": "unique-freeware",
   "metadata": {},
   "outputs": [
    {
     "name": "stdout",
     "output_type": "stream",
     "text": [
      "Data filename :  /workspace/for_luis/2020-05-15_final_4_volumes_combined.h5\n"
     ]
    }
   ],
   "source": [
    "print (\"Data filename : \" , data_filename)\n",
    "#Check if average pooling has already been done"
   ]
  },
  {
   "cell_type": "code",
   "execution_count": 4,
   "id": "precise-daily",
   "metadata": {},
   "outputs": [],
   "source": [
    "predicteddata_lg = lg.PredictedData(data_filename)"
   ]
  },
  {
   "cell_type": "code",
   "execution_count": 5,
   "id": "nonprofit-offer",
   "metadata": {
    "scrolled": true
   },
   "outputs": [
    {
     "name": "stdout",
     "output_type": "stream",
     "text": [
      "Shape:  (2120, 2520, 2520)\n"
     ]
    }
   ],
   "source": [
    "print(\"Shape: \" , predicteddata_lg.data_da.shape )"
   ]
  },
  {
   "cell_type": "code",
   "execution_count": 6,
   "id": "individual-breast",
   "metadata": {},
   "outputs": [
    {
     "name": "stdout",
     "output_type": "stream",
     "text": [
      "Values: max = 12 , min = 12 \n"
     ]
    }
   ],
   "source": [
    "#Get Maximum and minimum value\n",
    "print ( \"Values: max = {} , min = {} \".format(predicteddata_lg.vmax, predicteddata_lg.vmax) )"
   ]
  },
  {
   "cell_type": "markdown",
   "id": "professional-ending",
   "metadata": {},
   "source": [
    "## Consistency score (CS)"
   ]
  },
  {
   "cell_type": "code",
   "execution_count": 7,
   "id": "modular-yesterday",
   "metadata": {},
   "outputs": [
    {
     "name": "stdout",
     "output_type": "stream",
     "text": [
      "Weighting data to get consistency score using method MaxMinSquare\n"
     ]
    }
   ],
   "source": [
    "print (\"Weighting data to get consistency score using method\" ,dweightingmethod)"
   ]
  },
  {
   "cell_type": "code",
   "execution_count": 8,
   "id": "innovative-kingdom",
   "metadata": {},
   "outputs": [],
   "source": [
    "cs , cs_avg = predicteddata_lg.setWeightedData(dweightingmethod)"
   ]
  },
  {
   "cell_type": "code",
   "execution_count": 9,
   "id": "enormous-august",
   "metadata": {},
   "outputs": [
    {
     "name": "stdout",
     "output_type": "stream",
     "text": [
      "Consistency score whole volume average = 31.63297872567528\n"
     ]
    }
   ],
   "source": [
    "print(\"Consistency score whole volume average = {}\".format(cs_avg))"
   ]
  },
  {
   "cell_type": "markdown",
   "id": "tight-demonstration",
   "metadata": {},
   "source": [
    "## Average pooling of CS"
   ]
  },
  {
   "cell_type": "markdown",
   "id": "removable-regard",
   "metadata": {},
   "source": [
    "Parameters used for average pooling"
   ]
  },
  {
   "cell_type": "code",
   "execution_count": 10,
   "id": "blond-climate",
   "metadata": {},
   "outputs": [
    {
     "name": "stdout",
     "output_type": "stream",
     "text": [
      "Sub-volume width : 256\n",
      "Stride (jump) : 128\n"
     ]
    }
   ],
   "source": [
    "print(\"Sub-volume width : {}\".format(k_width))\n",
    "print(\"Stride (jump) : {}\".format(s_stride))"
   ]
  },
  {
   "cell_type": "code",
   "execution_count": 11,
   "id": "unknown-confusion",
   "metadata": {},
   "outputs": [
    {
     "name": "stdout",
     "output_type": "stream",
     "text": [
      "Consistency Score AvgPool3D data filename:  2020-05-15_final_4_volumes_combined_VolAvg_k256_s128.h5\n"
     ]
    }
   ],
   "source": [
    "#Decide here the filename of the file to store the avgpooled data\n",
    "#If the file exists, then the calculation was probably been done before\n",
    "# and existing file\n",
    "#To override this and force recalculation (long) set flag ...\n",
    "\n",
    "#Save file (locally, at the same folder as this notebook)\n",
    "pathhead, pathtail = os.path.split(data_filename)\n",
    "pathname , ext = os.path.splitext(pathtail)\n",
    "newpathname = pathname + \"_VolAvg_k\" + str(k_width)+\"_s\"+str(s_stride)\n",
    "newfilename = newpathname + '.h5'\n",
    "print (\"Consistency Score AvgPool3D data filename: \", newfilename)"
   ]
  },
  {
   "cell_type": "code",
   "execution_count": 39,
   "id": "reasonable-bathroom",
   "metadata": {},
   "outputs": [
    {
     "name": "stdout",
     "output_type": "stream",
     "text": [
      "File already exists, and recalculation is not required so the results in this file will be used\n"
     ]
    }
   ],
   "source": [
    "scoredata_lg = None\n",
    "\n",
    "#Check file exists or if recalculation is intended\n",
    "if ( os.path.exists(newfilename) and not bForceRecalculation) :\n",
    "    print(\"File already exists, and recalculation is not required so the results in this file will be used\")\n",
    "    #Load data using leopardgecko ScoreData class\n",
    "    scoredata_lg = lg.ScoreData.fromFile(newfilename)\n",
    "    \n",
    "else:\n",
    "    #Calculate the AvgPool3D of the Consistency score\n",
    "    scoredata_lg = predicteddata_lg.AvgPool3D_LargeData(w_avg , k_width , s_stride , do_weighting = False)\n",
    "    scoredata_lg.saveToFile(filename)"
   ]
  },
  {
   "cell_type": "markdown",
   "id": "smaller-patient",
   "metadata": {},
   "source": [
    "Histogram of Consistency score and regions-of-interest"
   ]
  },
  {
   "cell_type": "code",
   "execution_count": 40,
   "id": "romance-strategy",
   "metadata": {},
   "outputs": [
    {
     "name": "stdout",
     "output_type": "stream",
     "text": [
      "Gaussian fit to peak, parameters amplitude=358.8877863645087 , mean=32.41279758349522 ,stdev=0.8238044108958923\n",
      "Volume region with bad consistency  [ 640:896 , 1024:1280 , 0:256 ] centered at (768, 1152, 128) cscore=19.948430836200714\n",
      "Volume region with bad-mid consistency  [ 640:896 , 1024:1280 , 0:256 ] centered at (768, 1152, 128) cscore=19.948430836200714\n",
      "Volume region with mid consistency  [ 128:384 , 896:1152 , 768:1024 ] centered at (256, 1024, 896) cscore=30.01243132352829\n",
      "Volume region with half-commonest consistency  [ 768:1024 , 896:1152 , 1024:1280 ] centered at (896, 1024, 1152) cscore=31.418264627456665\n",
      "Volume region with commonest consistency  [ 768:1024 , 1024:1280 , 896:1152 ] centered at (896, 1152, 1024) cscore=32.43788939714432\n"
     ]
    },
    {
     "data": {
      "image/png": "[encoded data removed]",
      "text/plain": [
       "<Figure size 432x288 with 1 Axes>"
      ]
     },
     "metadata": {
      "needs_background": "light"
     },
     "output_type": "display_data"
    }
   ],
   "source": [
    "poi = scoredata_lg.SelectRegionsOfInterest_V0()"
   ]
  },
  {
   "cell_type": "code",
   "execution_count": 38,
   "id": "hydraulic-attempt",
   "metadata": {
    "scrolled": true
   },
   "outputs": [
    {
     "data": {
      "text/plain": [
       "<module 'leopardgecko' from '/home/ypu66991/Programming/Git_LeopardGecko/leopardgecko.py'>"
      ]
     },
     "execution_count": 38,
     "metadata": {},
     "output_type": "execute_result"
    }
   ],
   "source": [
    "import importlib\n",
    "importlib.reload(lg)"
   ]
  },
  {
   "cell_type": "code",
   "execution_count": null,
   "id": "stuffed-atlantic",
   "metadata": {},
   "outputs": [],
   "source": []
  }
 ],
 "metadata": {
  "kernelspec": {
   "display_name": "Python 3",
   "language": "python",
   "name": "python3"
  },
  "language_info": {
   "codemirror_mode": {
    "name": "ipython",
    "version": 3
   },
   "file_extension": ".py",
   "mimetype": "text/x-python",
   "name": "python",
   "nbconvert_exporter": "python",
   "pygments_lexer": "ipython3",
   "version": "3.8.6"
  }
 },
 "nbformat": 4,
 "nbformat_minor": 5
}
