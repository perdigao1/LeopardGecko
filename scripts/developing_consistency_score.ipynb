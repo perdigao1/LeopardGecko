{
 "cells": [
  {
   "cell_type": "code",
   "execution_count": 1,
   "metadata": {},
   "outputs": [],
   "source": [
    "import numpy as np\n",
    "from leopardgecko import ConsistencyScore as lgcs\n",
    "import matplotlib.pyplot as plt\n",
    "import logging\n",
    "\n",
    "#logging.basicConfig(level=logging.DEBUG)"
   ]
  },
  {
   "cell_type": "markdown",
   "metadata": {},
   "source": [
    "Create several 3D arrays for testing."
   ]
  },
  {
   "cell_type": "markdown",
   "metadata": {},
   "source": [
    "# Consistency score labels\n",
    "\n",
    "12 different arrays to simulate prediction ways\n",
    "\n",
    "3 classes, background=0, label1 and label2"
   ]
  },
  {
   "cell_type": "code",
   "execution_count": 2,
   "metadata": {},
   "outputs": [],
   "source": [
    "shape0 = (2,32,32)"
   ]
  },
  {
   "cell_type": "code",
   "execution_count": 3,
   "metadata": {},
   "outputs": [],
   "source": [
    "data_ways=np.zeros((12,*shape0), dtype=np.uint8) # ways, z,y,x"
   ]
  },
  {
   "cell_type": "code",
   "execution_count": 4,
   "metadata": {},
   "outputs": [],
   "source": [
    "for i in range(12):\n",
    "    data0 = np.zeros(shape0,dtype=np.uint8)\n",
    "\n",
    "    data0[:,:, 4:i*2+8 ]=1\n",
    "\n",
    "    data0[:,0:4,:]=0\n",
    "    data0[:,4:8,:]=1\n",
    "    data0[:,8:12,:]=2\n",
    "\n",
    "    #bar with most inconsistency\n",
    "    data0[:,12:16,:]= i%3\n",
    "\n",
    "    data_ways[i,...]=data0"
   ]
  },
  {
   "cell_type": "code",
   "execution_count": 5,
   "metadata": {},
   "outputs": [
    {
     "data": {
      "image/png": "[encoded data removed]",
      "text/plain": [
       "<Figure size 1500x400 with 12 Axes>"
      ]
     },
     "metadata": {},
     "output_type": "display_data"
    }
   ],
   "source": [
    "fig, axs = plt.subplots(1, 12, sharey=True, figsize=(15,4))\n",
    "\n",
    "for i in range(12):\n",
    "    axs[i].imshow(data_ways[i,0,:,:])"
   ]
  },
  {
   "cell_type": "markdown",
   "metadata": {},
   "source": [
    "run consistency score calculation"
   ]
  },
  {
   "cell_type": "code",
   "execution_count": 6,
   "metadata": {},
   "outputs": [],
   "source": [
    "cslabels = lgcs.getCScoreFromMultipleWayLabelsPred(data_ways)"
   ]
  },
  {
   "cell_type": "code",
   "execution_count": 7,
   "metadata": {},
   "outputs": [
    {
     "data": {
      "text/plain": [
       "dtype('float32')"
      ]
     },
     "execution_count": 7,
     "metadata": {},
     "output_type": "execute_result"
    }
   ],
   "source": [
    "cslabels.dtype"
   ]
  },
  {
   "cell_type": "code",
   "execution_count": 8,
   "metadata": {},
   "outputs": [
    {
     "data": {
      "text/plain": [
       "<matplotlib.image.AxesImage at 0x7f55287f6c10>"
      ]
     },
     "execution_count": 8,
     "metadata": {},
     "output_type": "execute_result"
    },
    {
     "data": {
      "image/png": "[encoded data removed]",
      "text/plain": [
       "<Figure size 640x480 with 1 Axes>"
      ]
     },
     "metadata": {},
     "output_type": "display_data"
    }
   ],
   "source": [
    "plt.imshow(cslabels[0,:,:])"
   ]
  },
  {
   "cell_type": "code",
   "execution_count": 9,
   "metadata": {},
   "outputs": [
    {
     "data": {
      "text/plain": [
       "1.0"
      ]
     },
     "execution_count": 9,
     "metadata": {},
     "output_type": "execute_result"
    }
   ],
   "source": [
    "cslabels[0,0,0]"
   ]
  },
  {
   "cell_type": "code",
   "execution_count": 10,
   "metadata": {},
   "outputs": [
    {
     "data": {
      "text/plain": [
       "1.0"
      ]
     },
     "execution_count": 10,
     "metadata": {},
     "output_type": "execute_result"
    }
   ],
   "source": [
    "cslabels.max()"
   ]
  },
  {
   "cell_type": "code",
   "execution_count": 11,
   "metadata": {},
   "outputs": [
    {
     "data": {
      "text/plain": [
       "-8.326673e-17"
      ]
     },
     "execution_count": 11,
     "metadata": {},
     "output_type": "execute_result"
    }
   ],
   "source": [
    "cslabels.min()"
   ]
  },
  {
   "cell_type": "code",
   "execution_count": 12,
   "metadata": {},
   "outputs": [
    {
     "data": {
      "text/plain": [
       "array([1.        , 1.        , 1.        , 1.        , 1.        ,\n",
       "       1.        , 1.        , 1.        , 0.7708333 , 0.7708333 ,\n",
       "       0.5833333 , 0.5833333 , 0.4375    , 0.4375    , 0.33333334,\n",
       "       0.33333334, 0.27083334, 0.27083334, 0.25      , 0.25      ,\n",
       "       0.27083334, 0.27083334, 0.33333334, 0.33333334, 0.4375    ,\n",
       "       0.4375    , 0.5833333 , 0.5833333 , 0.7708333 , 0.7708333 ,\n",
       "       1.        , 1.        ], dtype=float32)"
      ]
     },
     "execution_count": 12,
     "metadata": {},
     "output_type": "execute_result"
    }
   ],
   "source": [
    "cslabels[0,20,:]"
   ]
  },
  {
   "cell_type": "markdown",
   "metadata": {},
   "source": [
    "OK"
   ]
  },
  {
   "cell_type": "code",
   "execution_count": 35,
   "metadata": {},
   "outputs": [
    {
     "name": "stdout",
     "output_type": "stream",
     "text": [
      "True\n",
      "True\n"
     ]
    }
   ],
   "source": [
    "print( np.allclose( cslabels[:,0:12,:], 1.0) )\n",
    "print( np.allclose( cslabels[:,12:16,:], 0.0) )"
   ]
  },
  {
   "cell_type": "code",
   "execution_count": 36,
   "metadata": {},
   "outputs": [
    {
     "name": "stdout",
     "output_type": "stream",
     "text": [
      "True\n"
     ]
    }
   ],
   "source": [
    "exp_res_profile = np.array([1.        , 1.        , 1.        , 1.        , 1.        ,\n",
    "    1.        , 1.        , 1.        , 0.7708333 , 0.7708333 ,\n",
    "    0.5833333 , 0.5833333 , 0.4375    , 0.4375    , 0.33333334,\n",
    "    0.33333334, 0.27083334, 0.27083334, 0.25      , 0.25      ,\n",
    "    0.27083334, 0.27083334, 0.33333334, 0.33333334, 0.4375    ,\n",
    "    0.4375    , 0.5833333 , 0.5833333 , 0.7708333 , 0.7708333 ,\n",
    "    1.        , 1.        ]\n",
    ")\n",
    "\n",
    "print( np.allclose( exp_res_profile, cslabels[0,20,:]))"
   ]
  },
  {
   "cell_type": "markdown",
   "metadata": {},
   "source": [
    "# test CS with Probabilities"
   ]
  },
  {
   "cell_type": "code",
   "execution_count": 13,
   "metadata": {},
   "outputs": [],
   "source": [
    "shape1 = (*shape0,3) # z,y,x, class"
   ]
  },
  {
   "cell_type": "code",
   "execution_count": 14,
   "metadata": {},
   "outputs": [
    {
     "data": {
      "text/plain": [
       "(12, 2, 32, 32, 3)"
      ]
     },
     "execution_count": 14,
     "metadata": {},
     "output_type": "execute_result"
    }
   ],
   "source": [
    "pdata_ways=np.zeros((12,*shape1), dtype=np.float32) # ways, z,y,x, class\n",
    "pdata_ways.shape"
   ]
  },
  {
   "cell_type": "code",
   "execution_count": 15,
   "metadata": {},
   "outputs": [],
   "source": [
    "#Default. certainty for class 0\n",
    "pdata_ways[:,:,:,:,0]=1\n",
    "pdata_ways[:,:,:,:,1]=0\n",
    "pdata_ways[:,:,:,:,2]=0\n",
    "\n",
    "#Top bar, certainty for background in all ways\n",
    "# no change needed\n",
    "\n",
    "#Second bar, certainty for class 1\n",
    "pdata_ways[:,:,4:8,:,0]=0\n",
    "pdata_ways[:,:,4:8,:,1]=1\n",
    "pdata_ways[:,:,4:8,:,2]=0\n",
    "\n",
    "#Third bar, certainty for class 2\n",
    "pdata_ways[:,:,8:12,:,0]=0\n",
    "pdata_ways[:,:,8:12,:,1]=0\n",
    "pdata_ways[:,:,8:12,:,2]=1\n",
    "\n",
    "#Fourth bar, 1/3 for all\n",
    "pdata_ways[:,:,12:16,:,0]=1.0/3.0\n",
    "pdata_ways[:,:,12:16,:,1]=1.0/3.0\n",
    "pdata_ways[:,:,12:16,:,2]=1.0/3.0\n",
    "\n",
    "# Fifth bar, varying across ways, certainty depending on mod(ways)\n",
    "\n",
    "for i in range(12):\n",
    "    pdata_ways[i,:,16:20,:,0]= ((i%3)==0)*1\n",
    "    pdata_ways[i,:,16:20,:,1]= (((i+2)%3) ==0)*1\n",
    "    pdata_ways[i,:,16:20,:,2]= (((i+1)%3) ==0)*1"
   ]
  },
  {
   "cell_type": "code",
   "execution_count": 16,
   "metadata": {},
   "outputs": [
    {
     "data": {
      "image/png": "[encoded data removed]",
      "text/plain": [
       "<Figure size 1500x400 with 36 Axes>"
      ]
     },
     "metadata": {},
     "output_type": "display_data"
    }
   ],
   "source": [
    "fig, axs = plt.subplots(3, 12, sharey=True, sharex=True, figsize=(15,4))\n",
    "\n",
    "for iways in range(12):\n",
    "    for iclass in range(3):\n",
    "        ax=axs[iclass][iways]\n",
    "        ax.imshow(pdata_ways[iways,0,:,:,iclass])\n",
    "        ax.set_axis_off()"
   ]
  },
  {
   "cell_type": "code",
   "execution_count": 17,
   "metadata": {},
   "outputs": [],
   "source": [
    "# Check it is acceptable probabilities, probsum=1\n",
    "\n",
    "pdata_ways_probs_sum =np.sum(pdata_ways, axis=4)"
   ]
  },
  {
   "cell_type": "code",
   "execution_count": 18,
   "metadata": {},
   "outputs": [
    {
     "data": {
      "image/png": "[encoded data removed]",
      "text/plain": [
       "<Figure size 1500x400 with 12 Axes>"
      ]
     },
     "metadata": {},
     "output_type": "display_data"
    }
   ],
   "source": [
    "fig, axs = plt.subplots(1, 12, sharey=True, sharex=True, figsize=(15,4))\n",
    "\n",
    "for iways in range(12):\n",
    "    ax=axs[iways]\n",
    "    ax.imshow(pdata_ways_probs_sum[iways,0,:,:])\n",
    "    ax.set_axis_off()"
   ]
  },
  {
   "cell_type": "code",
   "execution_count": 19,
   "metadata": {},
   "outputs": [
    {
     "data": {
      "text/plain": [
       "True"
      ]
     },
     "execution_count": 19,
     "metadata": {},
     "output_type": "execute_result"
    }
   ],
   "source": [
    "np.allclose(pdata_ways_probs_sum,1.0)"
   ]
  },
  {
   "cell_type": "markdown",
   "metadata": {},
   "source": [
    "Calculate CS"
   ]
  },
  {
   "cell_type": "code",
   "execution_count": 20,
   "metadata": {},
   "outputs": [
    {
     "name": "stdout",
     "output_type": "stream",
     "text": [
      "getCScoreFromAllProbsData(), Nways:12 , Nc:3\n"
     ]
    }
   ],
   "source": [
    "csprobs = lgcs.getCScoreFromMultipleWayProbsPred(pdata_ways)"
   ]
  },
  {
   "cell_type": "code",
   "execution_count": 21,
   "metadata": {},
   "outputs": [
    {
     "data": {
      "text/plain": [
       "<matplotlib.image.AxesImage at 0x7f5527b435b0>"
      ]
     },
     "execution_count": 21,
     "metadata": {},
     "output_type": "execute_result"
    },
    {
     "data": {
      "image/png": "[encoded data removed]",
      "text/plain": [
       "<Figure size 640x480 with 1 Axes>"
      ]
     },
     "metadata": {},
     "output_type": "display_data"
    }
   ],
   "source": [
    "plt.imshow(csprobs[0,:,:])"
   ]
  },
  {
   "cell_type": "code",
   "execution_count": 22,
   "metadata": {},
   "outputs": [
    {
     "name": "stdout",
     "output_type": "stream",
     "text": [
      "0.99999994\n",
      "0.0\n"
     ]
    }
   ],
   "source": [
    "print(csprobs.max())\n",
    "print(csprobs.min())"
   ]
  },
  {
   "cell_type": "code",
   "execution_count": 40,
   "metadata": {},
   "outputs": [
    {
     "data": {
      "text/plain": [
       "array([9.9999994e-01, 9.9999994e-01, 9.9999994e-01, 9.9999994e-01,\n",
       "       9.9999994e-01, 9.9999994e-01, 9.9999994e-01, 9.9999994e-01,\n",
       "       9.9999994e-01, 9.9999994e-01, 9.9999994e-01, 9.9999994e-01,\n",
       "       0.0000000e+00, 0.0000000e+00, 0.0000000e+00, 0.0000000e+00,\n",
       "       4.4703484e-08, 4.4703484e-08, 4.4703484e-08, 4.4703484e-08,\n",
       "       9.9999994e-01, 9.9999994e-01, 9.9999994e-01, 9.9999994e-01,\n",
       "       9.9999994e-01, 9.9999994e-01, 9.9999994e-01, 9.9999994e-01,\n",
       "       9.9999994e-01, 9.9999994e-01, 9.9999994e-01, 9.9999994e-01],\n",
       "      dtype=float32)"
      ]
     },
     "execution_count": 40,
     "metadata": {},
     "output_type": "execute_result"
    }
   ],
   "source": [
    "csprobs[0,:,10]"
   ]
  },
  {
   "cell_type": "code",
   "execution_count": 41,
   "metadata": {},
   "outputs": [
    {
     "name": "stdout",
     "output_type": "stream",
     "text": [
      "True\n",
      "True\n",
      "True\n"
     ]
    }
   ],
   "source": [
    "print(np.allclose(csprobs[:,0:12,:], 1.0))\n",
    "print(np.allclose(csprobs[:,12:20,:], 0.0, atol=1e-7))\n",
    "print(np.allclose(csprobs[:,20:,:], 1.0))"
   ]
  },
  {
   "cell_type": "markdown",
   "metadata": {},
   "source": [
    "# Test the Accumation feature to calculate scores from probability data"
   ]
  },
  {
   "cell_type": "code",
   "execution_count": 23,
   "metadata": {},
   "outputs": [],
   "source": [
    "cs_cl = lgcs.cConsistencyScoreMultipleWayProbsAccumulate()"
   ]
  },
  {
   "cell_type": "code",
   "execution_count": 24,
   "metadata": {},
   "outputs": [],
   "source": [
    "for iways in range(12):\n",
    "    cs_cl.accumulate(pdata_ways[iways,...])"
   ]
  },
  {
   "cell_type": "code",
   "execution_count": 25,
   "metadata": {},
   "outputs": [],
   "source": [
    "csprobs_acc = cs_cl.getCScore()"
   ]
  },
  {
   "cell_type": "code",
   "execution_count": 26,
   "metadata": {},
   "outputs": [
    {
     "data": {
      "text/plain": [
       "<matplotlib.image.AxesImage at 0x7f5527ab7af0>"
      ]
     },
     "execution_count": 26,
     "metadata": {},
     "output_type": "execute_result"
    },
    {
     "data": {
      "image/png": "[encoded data removed]",
      "text/plain": [
       "<Figure size 640x480 with 1 Axes>"
      ]
     },
     "metadata": {},
     "output_type": "display_data"
    }
   ],
   "source": [
    "plt.imshow(csprobs_acc[0,:,:]) #looks different"
   ]
  },
  {
   "cell_type": "markdown",
   "metadata": {},
   "source": [
    "Should be the same as previous bar calculation"
   ]
  },
  {
   "cell_type": "code",
   "execution_count": 27,
   "metadata": {},
   "outputs": [
    {
     "data": {
      "text/plain": [
       "(2, 32, 32, 3)"
      ]
     },
     "execution_count": 27,
     "metadata": {},
     "output_type": "execute_result"
    }
   ],
   "source": [
    "cs_cl.probs_accum.shape"
   ]
  },
  {
   "cell_type": "code",
   "execution_count": 28,
   "metadata": {},
   "outputs": [
    {
     "data": {
      "text/plain": [
       "array([3.9999995, 3.9999995, 3.9999995], dtype=float32)"
      ]
     },
     "execution_count": 28,
     "metadata": {},
     "output_type": "execute_result"
    }
   ],
   "source": [
    "cs_cl.probs_accum[0,15,0]"
   ]
  },
  {
   "cell_type": "code",
   "execution_count": 29,
   "metadata": {},
   "outputs": [
    {
     "data": {
      "text/plain": [
       "array([4., 4., 4.], dtype=float32)"
      ]
     },
     "execution_count": 29,
     "metadata": {},
     "output_type": "execute_result"
    }
   ],
   "source": [
    "cs_cl.probs_accum[0,18,0]"
   ]
  },
  {
   "cell_type": "code",
   "execution_count": 30,
   "metadata": {},
   "outputs": [
    {
     "name": "stdout",
     "output_type": "stream",
     "text": [
      "0.99999994\n",
      "0.0\n"
     ]
    }
   ],
   "source": [
    "print(csprobs_acc.max())\n",
    "print(csprobs_acc.min())"
   ]
  },
  {
   "cell_type": "markdown",
   "metadata": {},
   "source": [
    "OK now!!"
   ]
  },
  {
   "cell_type": "code",
   "execution_count": null,
   "metadata": {},
   "outputs": [],
   "source": []
  }
 ],
 "metadata": {
  "kernelspec": {
   "display_name": "Python 3",
   "language": "python",
   "name": "python3"
  },
  "language_info": {
   "codemirror_mode": {
    "name": "ipython",
    "version": 3
   },
   "file_extension": ".py",
   "mimetype": "text/x-python",
   "name": "python",
   "nbconvert_exporter": "python",
   "pygments_lexer": "ipython3",
   "version": "3.9.18"
  }
 },
 "nbformat": 4,
 "nbformat_minor": 2
}
