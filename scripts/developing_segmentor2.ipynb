{
 "cells": [
  {
   "cell_type": "markdown",
   "metadata": {},
   "source": [
    "Development scripts for segmentor2"
   ]
  },
  {
   "cell_type": "code",
   "execution_count": null,
   "metadata": {},
   "outputs": [],
   "source": [
    "import numpy as np\n",
    "import tifffile\n",
    "import napari\n",
    "import leopardgecko.segmentor as lgs\n",
    "\n",
    "import logging\n",
    "logging.basicConfig(level=logging.INFO)"
   ]
  },
  {
   "cell_type": "markdown",
   "metadata": {},
   "source": [
    "# Load data and respective labels\n",
    "\n",
    "data and labels filenames as a tuple. This is not required but it makes it easier to setup training with multiple volumes"
   ]
  },
  {
   "cell_type": "code",
   "execution_count": null,
   "metadata": {},
   "outputs": [],
   "source": [
    "data_labels_fn=[\n",
    "    (\"test_data/TS_0005_crop.tif\", \"test_data/TS_0005_ribos_membr_crop.tif\"),\n",
    "]"
   ]
  },
  {
   "cell_type": "code",
   "execution_count": null,
   "metadata": {},
   "outputs": [],
   "source": [
    "traindatas=[]\n",
    "trainlabels=[]\n",
    "\n",
    "for datafn0, labelfn0 in data_labels_fn:\n",
    "     #Make sure data and labels are curated in the correct data format\n",
    "    traindatas.append(tifffile.imread(datafn0))\n",
    "    trainlabels.append(tifffile.imread(labelfn0)) #In this case labels are already in uint8"
   ]
  }
 ],
 "metadata": {
  "kernelspec": {
   "display_name": "dev",
   "language": "python",
   "name": "python3"
  },
  "language_info": {
   "name": "python",
   "version": "3.11.7"
  }
 },
 "nbformat": 4,
 "nbformat_minor": 2
}
