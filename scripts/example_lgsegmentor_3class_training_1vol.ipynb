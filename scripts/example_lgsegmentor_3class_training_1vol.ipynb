{
 "cells": [
  {
   "cell_type": "markdown",
   "metadata": {},
   "source": [
    "This notebook show an example on how to train a lgsegmentor multi-axis multi-plane Unet and MLP classifer (lgsegmentor) from a single data volume with 3 classes"
   ]
  },
  {
   "cell_type": "code",
   "execution_count": 1,
   "metadata": {},
   "outputs": [],
   "source": [
    "import numpy as np\n",
    "import tifffile\n",
    "import napari\n",
    "import leopardgecko.segmentor as lgs\n",
    "\n",
    "import logging\n",
    "logging.basicConfig(level=logging.INFO)"
   ]
  },
  {
   "cell_type": "markdown",
   "metadata": {},
   "source": [
    "# Load data and respective labels\n",
    "\n",
    "data and labels filenames as a tuple. This is not required but it makes it easier to setup training with multiple volumes"
   ]
  },
  {
   "cell_type": "code",
   "execution_count": 2,
   "metadata": {},
   "outputs": [],
   "source": [
    "data_labels_fn=[\n",
    "    (\"test_data/TS_0005_crop.tif\", \"test_data/TS_0005_ribos_membr_crop.tif\"),\n",
    "]"
   ]
  },
  {
   "cell_type": "code",
   "execution_count": 3,
   "metadata": {},
   "outputs": [],
   "source": [
    "traindatas=[]\n",
    "trainlabels=[]\n",
    "\n",
    "for datafn0, labelfn0 in data_labels_fn:\n",
    "     #Make sure data and labels are curated in the correct data format\n",
    "    traindatas.append(tifffile.imread(datafn0))\n",
    "    trainlabels.append(tifffile.imread(labelfn0)) #In this case labels are already in uint8"
   ]
  },
  {
   "cell_type": "markdown",
   "metadata": {},
   "source": [
    "# Setup lg segmentor"
   ]
  },
  {
   "cell_type": "code",
   "execution_count": 4,
   "metadata": {},
   "outputs": [],
   "source": [
    "#Create the class\n",
    "lgsegmentor0 = lgs.cMultiAxisRotationsSegmentor()"
   ]
  },
  {
   "cell_type": "markdown",
   "metadata": {},
   "source": [
    "Check default settings and modify as needed"
   ]
  },
  {
   "cell_type": "code",
   "execution_count": 5,
   "metadata": {},
   "outputs": [
    {
     "data": {
      "text/plain": [
       "namespace(data_im_dirname='data',\n",
       "          seg_im_out_dirname='seg',\n",
       "          model_output_fn='trained_2d_model',\n",
       "          clip_data=False,\n",
       "          st_dev_factor=2.575,\n",
       "          data_hdf5_path='/data',\n",
       "          seg_hdf5_path='/data',\n",
       "          training_axes='All',\n",
       "          image_size=256,\n",
       "          downsample=False,\n",
       "          training_set_proportion=0.8,\n",
       "          cuda_device=0,\n",
       "          num_cyc_frozen=8,\n",
       "          num_cyc_unfrozen=5,\n",
       "          patience=3,\n",
       "          loss_criterion='DiceLoss',\n",
       "          alpha=0.75,\n",
       "          beta=0.25,\n",
       "          eval_metric='MeanIoU',\n",
       "          pct_lr_inc=0.3,\n",
       "          starting_lr='1e-6',\n",
       "          end_lr=50,\n",
       "          lr_find_epochs=1,\n",
       "          lr_reduce_factor=500,\n",
       "          plot_lr_graph=False,\n",
       "          model={'type': 'U_Net',\n",
       "                 'encoder_name': 'resnet34',\n",
       "                 'encoder_weights': 'imagenet'})"
      ]
     },
     "execution_count": 5,
     "metadata": {},
     "output_type": "execute_result"
    }
   ],
   "source": [
    "lgsegmentor0.NN1_train_settings #default NN1 settings"
   ]
  },
  {
   "cell_type": "markdown",
   "metadata": {},
   "source": [
    "Note that clip_data is false by default."
   ]
  },
  {
   "cell_type": "code",
   "execution_count": 6,
   "metadata": {},
   "outputs": [],
   "source": [
    "lgsegmentor0.NN1_train_settings.image_size=256 # size for unet input. Images with different pixelsize will be resized before training\n",
    "\n",
    "lgsegmentor0.NN1_train_settings.clip_data=True #  Data has negative values so either we normalise to int or we can set clip_data to True\n",
    "#lgsegmentor0.NN1_train_settings.clip_data=False # data has already been normalised, so clipping is not needed, neither is desired\n",
    "\n",
    "lgsegmentor0.NN1_train_settings.num_cyc_frozen=10\n",
    "lgsegmentor0.NN1_train_settings.num_cyc_unfrozen=8"
   ]
  },
  {
   "cell_type": "code",
   "execution_count": 7,
   "metadata": {},
   "outputs": [
    {
     "data": {
      "text/plain": [
       "namespace(hidden_layer_sizes=[10, 10],\n",
       "          activation='tanh',\n",
       "          random_state=1,\n",
       "          verbose=True,\n",
       "          learning_rate_init=0.001,\n",
       "          solver='sgd',\n",
       "          max_iter=1000,\n",
       "          ntrain=262144)"
      ]
     },
     "execution_count": 7,
     "metadata": {},
     "output_type": "execute_result"
    }
   ],
   "source": [
    "lgsegmentor0.NN2_settings"
   ]
  },
  {
   "cell_type": "markdown",
   "metadata": {},
   "source": [
    "Set CUDA device.\n",
    "\n",
    "To change cuda device don't change with .cuda_device, but rather use setcudadevice(devnumber)\n",
    "\n",
    "You may want to check usage and memory-usage with command `!nvidia-smi` to see what is available before starting training"
   ]
  },
  {
   "cell_type": "code",
   "execution_count": 8,
   "metadata": {},
   "outputs": [
    {
     "name": "stdout",
     "output_type": "stream",
     "text": [
      "Fri Oct 20 23:02:29 2023       \n",
      "+-----------------------------------------------------------------------------+\n",
      "| NVIDIA-SMI 470.57.02    Driver Version: 470.57.02    CUDA Version: 11.4     |\n",
      "|-------------------------------+----------------------+----------------------+\n",
      "| GPU  Name        Persistence-M| Bus-Id        Disp.A | Volatile Uncorr. ECC |\n",
      "| Fan  Temp  Perf  Pwr:Usage/Cap|         Memory-Usage | GPU-Util  Compute M. |\n",
      "|                               |                      |               MIG M. |\n",
      "|===============================+======================+======================|\n",
      "|   0  Tesla V100-PCIE...  On   | 00000000:00:05.0 Off |                    0 |\n",
      "| N/A   62C    P0   207W / 250W |  29897MiB / 32510MiB |    100%      Default |\n",
      "|                               |                      |                  N/A |\n",
      "+-------------------------------+----------------------+----------------------+\n",
      "|   1  Tesla V100-PCIE...  On   | 00000000:00:06.0 Off |                    0 |\n",
      "| N/A   26C    P0    23W / 250W |      8MiB / 32510MiB |      0%      Default |\n",
      "|                               |                      |                  N/A |\n",
      "+-------------------------------+----------------------+----------------------+\n",
      "                                                                               \n",
      "+-----------------------------------------------------------------------------+\n",
      "| Processes:                                                                  |\n",
      "|  GPU   GI   CI        PID   Type   Process name                  GPU Memory |\n",
      "|        ID   ID                                                   Usage      |\n",
      "|=============================================================================|\n",
      "|    0   N/A  N/A      2187      G   /usr/lib/xorg/Xorg                  4MiB |\n",
      "|    0   N/A  N/A   2160132      C   ...n/4.0.0/bin/relion_refine    29889MiB |\n",
      "|    1   N/A  N/A      2187      G   /usr/lib/xorg/Xorg                  4MiB |\n",
      "+-----------------------------------------------------------------------------+\n"
     ]
    }
   ],
   "source": [
    "!nvidia-smi"
   ]
  },
  {
   "cell_type": "code",
   "execution_count": 10,
   "metadata": {},
   "outputs": [],
   "source": [
    "lgsegmentor0.set_cuda_device(1)"
   ]
  },
  {
   "cell_type": "markdown",
   "metadata": {},
   "source": [
    "Start training. It will take a while and will print a lot of messages. At the end `res` will contain metrics information"
   ]
  },
  {
   "cell_type": "code",
   "execution_count": 11,
   "metadata": {},
   "outputs": [
    {
     "name": "stderr",
     "output_type": "stream",
     "text": [
      "INFO:root:traindata and trainlabels are list\n",
      "INFO:root:nsets:1\n",
      "INFO:root:tempdir_data_path:/tmp/tmpgjk3m74t\n",
      "INFO:root:tempdir_seg_path:/tmp/tmpbqagsrfz\n",
      "INFO:root:Calculating mean of data...\n",
      "INFO:root:Mean value: 3.455104887485504\n",
      "INFO:root:Calculating standard deviation.\n",
      "INFO:root:Std dev: 22.350231922160148. Calculating stats.\n",
      "INFO:root:Lower bound: -54.096742312076884, upper bound: 61.00695208704789\n",
      "INFO:root:Number of voxels above upper bound to be clipped 82108 - percentage 0.489%\n",
      "INFO:root:Number of voxels below lower bound to be clipped 174907 - percentage 1.043%\n",
      "INFO:root:Rescaling intensities.\n",
      "INFO:root:Data is already in integer dtype, converting to float for rescaling.\n",
      "INFO:root:Converting to uint8.\n",
      "INFO:root:Number of classes in segmentation dataset: 3\n",
      "INFO:root:These classes are: [0 1 2]\n",
      "INFO:root:Slicing data volume and saving slices to disk\n",
      "100%|██████████| 768/768 [00:05<00:00, 152.41it/s]\n",
      "INFO:root:Slicing label volume and saving slices to disk\n",
      "100%|██████████| 768/768 [00:01<00:00, 616.15it/s]\n",
      "INFO:root:Free GPU memory is 31.75 GB. Batch size will be 12.\n",
      "INFO:root:Using DiceLoss\n",
      "INFO:root:Using MeanIoU\n",
      "INFO:root:Setting up the model on device 1.\n",
      "INFO:root:Sending the U-Net model to device 1\n",
      "INFO:root:Freezing model with 24430387 trainable parameters, 24430387 total parameters.\n",
      "INFO:root:Model has 3341043 trainable parameters, 24430387 total parameters.\n",
      "INFO:root:Trainer created.\n",
      "INFO:root:Finding learning rate for model.\n",
      "INFO:root:Training for 1 epochs to create a learning rate plot.\n",
      "Epoch 1, batch number: 100%|██████████████████████████████| 51/51 [00:27<00:00,  1.86it/s]\n",
      "INFO:root:LR to use 0.0019809962314855556\n",
      "INFO:root:Setting up the model on device 1.\n",
      "INFO:root:Sending the U-Net model to device 1\n",
      "INFO:root:Freezing model with 24430387 trainable parameters, 24430387 total parameters.\n",
      "INFO:root:Model has 3341043 trainable parameters, 24430387 total parameters.\n",
      "INFO:root:Trainer created.\n",
      "INFO:root:Epoch 1 of 10\n",
      "Training batch: 100%|██████████████████████████████| 51/51 [00:03<00:00, 12.85it/s]\n",
      "Validation batch: 100%|██████████████████████████████| 13/13 [00:00<00:00, 14.57it/s]\n",
      "INFO:root:Epoch 1. Training loss: 0.7278399537591373, Validation Loss: 0.7364679208168616. MeanIoU: 0.3233208656311035\n",
      "INFO:root:Time taken for epoch 1: 4.87 seconds\n",
      "INFO:root:Validation loss decreased (inf --> 0.736468).  Saving model ...\n",
      "INFO:root:Epoch 2 of 10\n",
      "Training batch: 100%|██████████████████████████████| 51/51 [00:04<00:00, 12.21it/s]\n",
      "Validation batch: 100%|██████████████████████████████| 13/13 [00:00<00:00, 14.69it/s]\n",
      "INFO:root:Epoch 2. Training loss: 0.4900970786225562, Validation Loss: 0.6213700175285339. MeanIoU: 0.34407833218574524\n",
      "INFO:root:Time taken for epoch 2: 5.07 seconds\n",
      "INFO:root:Validation loss decreased (0.736468 --> 0.621370).  Saving model ...\n",
      "INFO:root:Epoch 3 of 10\n",
      "Training batch: 100%|██████████████████████████████| 51/51 [00:03<00:00, 13.12it/s]\n",
      "Validation batch: 100%|██████████████████████████████| 13/13 [00:00<00:00, 13.51it/s]\n",
      "INFO:root:Epoch 3. Training loss: 0.4124179599331875, Validation Loss: 0.3775959060742305. MeanIoU: 0.40421345829963684\n",
      "INFO:root:Time taken for epoch 3: 4.86 seconds\n",
      "INFO:root:Validation loss decreased (0.621370 --> 0.377596).  Saving model ...\n",
      "INFO:root:Epoch 4 of 10\n",
      "Training batch: 100%|██████████████████████████████| 51/51 [00:04<00:00, 12.74it/s]\n",
      "Validation batch: 100%|██████████████████████████████| 13/13 [00:00<00:00, 16.20it/s]\n",
      "INFO:root:Epoch 4. Training loss: 0.3676607538672054, Validation Loss: 0.37758453534199643. MeanIoU: 0.4222920835018158\n",
      "INFO:root:Time taken for epoch 4: 4.82 seconds\n",
      "INFO:root:Validation loss decreased (0.377596 --> 0.377585).  Saving model ...\n",
      "INFO:root:Epoch 5 of 10\n",
      "Training batch: 100%|██████████████████████████████| 51/51 [00:03<00:00, 12.91it/s]\n",
      "Validation batch: 100%|██████████████████████████████| 13/13 [00:01<00:00, 12.87it/s]\n",
      "INFO:root:Epoch 5. Training loss: 0.3411019771706824, Validation Loss: 0.3515652051338783. MeanIoU: 0.45458653569221497\n",
      "INFO:root:Time taken for epoch 5: 4.97 seconds\n",
      "INFO:root:Validation loss decreased (0.377585 --> 0.351565).  Saving model ...\n",
      "INFO:root:Epoch 6 of 10\n",
      "Training batch: 100%|██████████████████████████████| 51/51 [00:04<00:00, 12.59it/s]\n",
      "Validation batch: 100%|██████████████████████████████| 13/13 [00:00<00:00, 14.00it/s]\n",
      "INFO:root:Epoch 6. Training loss: 0.33024390889149086, Validation Loss: 0.34904298874048084. MeanIoU: 0.41918471455574036\n",
      "INFO:root:Time taken for epoch 6: 5.00 seconds\n",
      "INFO:root:Validation loss decreased (0.351565 --> 0.349043).  Saving model ...\n",
      "INFO:root:Epoch 7 of 10\n",
      "Training batch: 100%|██████████████████████████████| 51/51 [00:03<00:00, 13.86it/s]\n",
      "Validation batch: 100%|██████████████████████████████| 13/13 [00:00<00:00, 14.50it/s]\n",
      "INFO:root:Epoch 7. Training loss: 0.33298080224616855, Validation Loss: 0.30756782109920794. MeanIoU: 0.4712046980857849\n",
      "INFO:root:Time taken for epoch 7: 4.59 seconds\n",
      "INFO:root:Validation loss decreased (0.349043 --> 0.307568).  Saving model ...\n",
      "INFO:root:Epoch 8 of 10\n",
      "Training batch: 100%|██████████████████████████████| 51/51 [00:03<00:00, 12.86it/s]\n",
      "Validation batch: 100%|██████████████████████████████| 13/13 [00:00<00:00, 13.19it/s]\n",
      "INFO:root:Epoch 8. Training loss: 0.31795142795525344, Validation Loss: 0.28286198010811436. MeanIoU: 0.4766504466533661\n",
      "INFO:root:Time taken for epoch 8: 4.96 seconds\n",
      "INFO:root:Validation loss decreased (0.307568 --> 0.282862).  Saving model ...\n",
      "INFO:root:Epoch 9 of 10\n",
      "Training batch: 100%|██████████████████████████████| 51/51 [00:04<00:00, 11.18it/s]\n",
      "Validation batch: 100%|██████████████████████████████| 13/13 [00:00<00:00, 15.70it/s]\n",
      "INFO:root:Epoch 9. Training loss: 0.3114113644057629, Validation Loss: 0.28469856885763317. MeanIoU: 0.47983190417289734\n",
      "INFO:root:Time taken for epoch 9: 5.40 seconds\n",
      "INFO:root:EarlyStopping counter: 1 out of 3\n",
      "INFO:root:Epoch 10 of 10\n",
      "Training batch: 100%|██████████████████████████████| 51/51 [00:04<00:00, 12.47it/s]\n",
      "Validation batch: 100%|██████████████████████████████| 13/13 [00:01<00:00, 12.83it/s]\n",
      "INFO:root:Epoch 10. Training loss: 0.30831850393145693, Validation Loss: 0.2767381209593553. MeanIoU: 0.4758698046207428\n",
      "INFO:root:Time taken for epoch 10: 5.11 seconds\n",
      "INFO:root:Validation loss decreased (0.282862 --> 0.276738).  Saving model ...\n",
      "INFO:root:Loading model weights.\n",
      "INFO:root:Setting up the model on device 1.\n",
      "INFO:root:Sending the U-Net model to device 1\n",
      "INFO:root:Model has 24430387 trainable parameters, 24430387 total parameters.\n",
      "INFO:root:Trainer created.\n",
      "INFO:root:Loading in weights from saved checkpoint.\n",
      "INFO:root:Loading model weights.\n",
      "INFO:root:Finding learning rate for model.\n",
      "INFO:root:Training for 1 epochs to create a learning rate plot.\n",
      "Epoch 1, batch number: 100%|██████████████████████████████| 51/51 [00:05<00:00, 10.04it/s]\n",
      "INFO:root:LR to use 3.476900575436815e-07\n",
      "INFO:root:Setting up the model on device 1.\n",
      "INFO:root:Sending the U-Net model to device 1\n",
      "INFO:root:Model has 24430387 trainable parameters, 24430387 total parameters.\n",
      "INFO:root:Trainer created.\n",
      "INFO:root:Loading in weights from saved checkpoint.\n",
      "INFO:root:Loading model weights.\n",
      "INFO:root:Epoch 1 of 8\n",
      "Training batch: 100%|██████████████████████████████| 51/51 [00:04<00:00, 11.40it/s]\n",
      "Validation batch: 100%|██████████████████████████████| 13/13 [00:00<00:00, 15.94it/s]\n",
      "INFO:root:Epoch 1. Training loss: 0.3044777944976208, Validation Loss: 0.2779405437982999. MeanIoU: 0.4733113646507263\n",
      "INFO:root:Time taken for epoch 1: 5.30 seconds\n",
      "INFO:root:EarlyStopping counter: 1 out of 3\n",
      "INFO:root:Epoch 2 of 8\n",
      "Training batch: 100%|██████████████████████████████| 51/51 [00:04<00:00, 10.87it/s]\n",
      "Validation batch: 100%|██████████████████████████████| 13/13 [00:00<00:00, 15.96it/s]\n",
      "INFO:root:Epoch 2. Training loss: 0.3001561246666254, Validation Loss: 0.27650768481768095. MeanIoU: 0.4750571846961975\n",
      "INFO:root:Time taken for epoch 2: 5.52 seconds\n",
      "INFO:root:Validation loss decreased (0.276738 --> 0.276508).  Saving model ...\n",
      "INFO:root:Epoch 3 of 8\n",
      "Training batch: 100%|██████████████████████████████| 51/51 [00:04<00:00, 10.33it/s]\n",
      "Validation batch: 100%|██████████████████████████████| 13/13 [00:00<00:00, 14.97it/s]\n",
      "INFO:root:Epoch 3. Training loss: 0.3066280776379155, Validation Loss: 0.2788706742800199. MeanIoU: 0.4732678532600403\n",
      "INFO:root:Time taken for epoch 3: 5.82 seconds\n",
      "INFO:root:EarlyStopping counter: 1 out of 3\n",
      "INFO:root:Epoch 4 of 8\n",
      "Training batch: 100%|██████████████████████████████| 51/51 [00:04<00:00, 12.20it/s]\n",
      "Validation batch: 100%|██████████████████████████████| 13/13 [00:00<00:00, 14.55it/s]\n",
      "INFO:root:Epoch 4. Training loss: 0.3067910285557018, Validation Loss: 0.27613734281980074. MeanIoU: 0.4745575487613678\n",
      "INFO:root:Time taken for epoch 4: 5.09 seconds\n",
      "INFO:root:Validation loss decreased (0.276508 --> 0.276137).  Saving model ...\n",
      "INFO:root:Epoch 5 of 8\n",
      "Training batch: 100%|██████████████████████████████| 51/51 [00:04<00:00, 10.58it/s]\n",
      "Validation batch: 100%|██████████████████████████████| 13/13 [00:00<00:00, 15.06it/s]\n",
      "INFO:root:Epoch 5. Training loss: 0.3089692008261587, Validation Loss: 0.2798370122909546. MeanIoU: 0.46741071343421936\n",
      "INFO:root:Time taken for epoch 5: 5.70 seconds\n",
      "INFO:root:EarlyStopping counter: 1 out of 3\n",
      "INFO:root:Epoch 6 of 8\n",
      "Training batch: 100%|██████████████████████████████| 51/51 [00:04<00:00, 10.40it/s]\n",
      "Validation batch: 100%|██████████████████████████████| 13/13 [00:00<00:00, 16.04it/s]\n",
      "INFO:root:Epoch 6. Training loss: 0.30448537597469255, Validation Loss: 0.2765376246892489. MeanIoU: 0.47739097476005554\n",
      "INFO:root:Time taken for epoch 6: 5.72 seconds\n",
      "INFO:root:EarlyStopping counter: 2 out of 3\n",
      "INFO:root:Epoch 7 of 8\n",
      "Training batch: 100%|██████████████████████████████| 51/51 [00:04<00:00, 11.29it/s]\n",
      "Validation batch: 100%|██████████████████████████████| 13/13 [00:00<00:00, 15.65it/s]\n",
      "INFO:root:Epoch 7. Training loss: 0.301274390781627, Validation Loss: 0.2760932812323937. MeanIoU: 0.47511154413223267\n",
      "INFO:root:Time taken for epoch 7: 5.36 seconds\n",
      "INFO:root:Validation loss decreased (0.276137 --> 0.276093).  Saving model ...\n",
      "INFO:root:Epoch 8 of 8\n",
      "Training batch: 100%|██████████████████████████████| 51/51 [00:05<00:00,  9.01it/s]\n",
      "Validation batch: 100%|██████████████████████████████| 13/13 [00:00<00:00, 14.68it/s]\n",
      "INFO:root:Epoch 8. Training loss: 0.3103603019433863, Validation Loss: 0.279034293614901. MeanIoU: 0.4769490361213684\n",
      "INFO:root:Time taken for epoch 8: 6.56 seconds\n",
      "INFO:root:EarlyStopping counter: 1 out of 3\n",
      "INFO:root:Loading model weights.\n",
      "INFO:root:Deleting 768 images.\n",
      "INFO:root:Deleting the empty directory.\n",
      "INFO:root:Deleting 768 images.\n",
      "INFO:root:Deleting the empty directory.\n",
      "INFO:root:tempdir_data and tempdir_seg cleanup.\n",
      "INFO:root:tempdir_pred_path:/tmp/tmpg4bnlsi7\n",
      "INFO:root:number of data sets to predict: 1\n",
      "INFO:root:Data to predict index:0\n",
      "INFO:root:Calculating mean of data...\n",
      "INFO:root:Mean value: 3.455104887485504\n",
      "INFO:root:Calculating standard deviation.\n",
      "INFO:root:Std dev: 22.350231922160148. Calculating stats.\n",
      "INFO:root:Lower bound: -54.096742312076884, upper bound: 61.00695208704789\n",
      "INFO:root:Number of voxels above upper bound to be clipped 82108 - percentage 0.489%\n",
      "INFO:root:Number of voxels below lower bound to be clipped 174907 - percentage 1.043%\n",
      "INFO:root:Rescaling intensities.\n",
      "INFO:root:Data is already in integer dtype, converting to float for rescaling.\n",
      "INFO:root:Converting to uint8.\n",
      "INFO:root:Loading model dictionary from file.\n",
      "INFO:root:Sending the U-Net model to device 1\n",
      "INFO:root:Loading in the saved weights.\n",
      "INFO:root:Volume to be rotated by 0 degrees\n",
      "INFO:root:Predicting YX slices:\n",
      "INFO:root:Free GPU memory is 31.15 GB. Batch size will be 4.\n",
      "INFO:root:Predicting segmentation for volume of shape (256, 256, 256).\n",
      "Prediction batch: 100%|██████████████████████████████| 64/64 [00:01<00:00, 54.42it/s]\n",
      "INFO:root:Completed prediction. Now manipulating result before returning.\n",
      "INFO:root:Saving data of shape (256, 256, 256, 3) to /tmp/tmpg4bnlsi7/pred_0_YX_0.h5 with kwargs {}.\n",
      "INFO:root:Saving data of shape (256, 256, 256) to /tmp/tmpg4bnlsi7/pred_0_YX_labels_0.h5 with kwargs {}.\n",
      "INFO:root:Predicting ZX slices:\n",
      "INFO:root:Free GPU memory is 31.15 GB. Batch size will be 4.\n",
      "INFO:root:Predicting segmentation for volume of shape (256, 256, 256).\n",
      "Prediction batch: 100%|██████████████████████████████| 64/64 [00:01<00:00, 46.39it/s]\n",
      "INFO:root:Completed prediction. Now manipulating result before returning.\n",
      "INFO:root:Saving data of shape (256, 256, 256, 3) to /tmp/tmpg4bnlsi7/pred_0_ZX_0.h5 with kwargs {}.\n",
      "INFO:root:Saving data of shape (256, 256, 256) to /tmp/tmpg4bnlsi7/pred_0_ZX_labels_0.h5 with kwargs {}.\n",
      "INFO:root:Predicting ZY slices:\n",
      "INFO:root:Free GPU memory is 31.15 GB. Batch size will be 4.\n",
      "INFO:root:Predicting segmentation for volume of shape (256, 256, 256).\n",
      "Prediction batch: 100%|██████████████████████████████| 64/64 [00:01<00:00, 48.45it/s]\n",
      "INFO:root:Completed prediction. Now manipulating result before returning.\n",
      "INFO:root:Saving data of shape (256, 256, 256, 3) to /tmp/tmpg4bnlsi7/pred_0_ZY_0.h5 with kwargs {}.\n",
      "INFO:root:Saving data of shape (256, 256, 256) to /tmp/tmpg4bnlsi7/pred_0_ZY_labels_0.h5 with kwargs {}.\n",
      "INFO:root:Volume to be rotated by 90 degrees\n",
      "INFO:root:Predicting YX slices:\n",
      "INFO:root:Free GPU memory is 31.15 GB. Batch size will be 4.\n",
      "INFO:root:Predicting segmentation for volume of shape (256, 256, 256).\n",
      "Prediction batch: 100%|██████████████████████████████| 64/64 [00:01<00:00, 53.09it/s]\n",
      "INFO:root:Completed prediction. Now manipulating result before returning.\n",
      "INFO:root:Saving data of shape (256, 256, 256, 3) to /tmp/tmpg4bnlsi7/pred_0_YX_90.h5 with kwargs {}.\n",
      "INFO:root:Saving data of shape (256, 256, 256) to /tmp/tmpg4bnlsi7/pred_0_YX_labels_90.h5 with kwargs {}.\n",
      "INFO:root:Predicting ZX slices:\n",
      "INFO:root:Free GPU memory is 31.15 GB. Batch size will be 4.\n",
      "INFO:root:Predicting segmentation for volume of shape (256, 256, 256).\n",
      "Prediction batch: 100%|██████████████████████████████| 64/64 [00:01<00:00, 53.81it/s]\n",
      "INFO:root:Completed prediction. Now manipulating result before returning.\n",
      "INFO:root:Saving data of shape (256, 256, 256, 3) to /tmp/tmpg4bnlsi7/pred_0_ZX_90.h5 with kwargs {}.\n",
      "INFO:root:Saving data of shape (256, 256, 256) to /tmp/tmpg4bnlsi7/pred_0_ZX_labels_90.h5 with kwargs {}.\n",
      "INFO:root:Predicting ZY slices:\n",
      "INFO:root:Free GPU memory is 31.15 GB. Batch size will be 4.\n",
      "INFO:root:Predicting segmentation for volume of shape (256, 256, 256).\n",
      "Prediction batch: 100%|██████████████████████████████| 64/64 [00:01<00:00, 50.66it/s]\n",
      "INFO:root:Completed prediction. Now manipulating result before returning.\n",
      "INFO:root:Saving data of shape (256, 256, 256, 3) to /tmp/tmpg4bnlsi7/pred_0_ZY_90.h5 with kwargs {}.\n",
      "INFO:root:Saving data of shape (256, 256, 256) to /tmp/tmpg4bnlsi7/pred_0_ZY_labels_90.h5 with kwargs {}.\n",
      "INFO:root:Volume to be rotated by 180 degrees\n",
      "INFO:root:Predicting YX slices:\n",
      "INFO:root:Free GPU memory is 31.15 GB. Batch size will be 4.\n",
      "INFO:root:Predicting segmentation for volume of shape (256, 256, 256).\n",
      "Prediction batch: 100%|██████████████████████████████| 64/64 [00:01<00:00, 55.93it/s]\n",
      "INFO:root:Completed prediction. Now manipulating result before returning.\n",
      "INFO:root:Saving data of shape (256, 256, 256, 3) to /tmp/tmpg4bnlsi7/pred_0_YX_180.h5 with kwargs {}.\n",
      "INFO:root:Saving data of shape (256, 256, 256) to /tmp/tmpg4bnlsi7/pred_0_YX_labels_180.h5 with kwargs {}.\n",
      "INFO:root:Predicting ZX slices:\n",
      "INFO:root:Free GPU memory is 31.15 GB. Batch size will be 4.\n",
      "INFO:root:Predicting segmentation for volume of shape (256, 256, 256).\n",
      "Prediction batch: 100%|██████████████████████████████| 64/64 [00:01<00:00, 59.43it/s]\n",
      "INFO:root:Completed prediction. Now manipulating result before returning.\n",
      "INFO:root:Saving data of shape (256, 256, 256, 3) to /tmp/tmpg4bnlsi7/pred_0_ZX_180.h5 with kwargs {}.\n",
      "INFO:root:Saving data of shape (256, 256, 256) to /tmp/tmpg4bnlsi7/pred_0_ZX_labels_180.h5 with kwargs {}.\n",
      "INFO:root:Predicting ZY slices:\n",
      "INFO:root:Free GPU memory is 31.15 GB. Batch size will be 4.\n",
      "INFO:root:Predicting segmentation for volume of shape (256, 256, 256).\n",
      "Prediction batch: 100%|██████████████████████████████| 64/64 [00:01<00:00, 46.56it/s]\n",
      "INFO:root:Completed prediction. Now manipulating result before returning.\n",
      "INFO:root:Saving data of shape (256, 256, 256, 3) to /tmp/tmpg4bnlsi7/pred_0_ZY_180.h5 with kwargs {}.\n",
      "INFO:root:Saving data of shape (256, 256, 256) to /tmp/tmpg4bnlsi7/pred_0_ZY_labels_180.h5 with kwargs {}.\n",
      "INFO:root:Volume to be rotated by 270 degrees\n",
      "INFO:root:Predicting YX slices:\n",
      "INFO:root:Free GPU memory is 31.15 GB. Batch size will be 4.\n",
      "INFO:root:Predicting segmentation for volume of shape (256, 256, 256).\n",
      "Prediction batch: 100%|██████████████████████████████| 64/64 [00:01<00:00, 49.49it/s]\n",
      "INFO:root:Completed prediction. Now manipulating result before returning.\n",
      "INFO:root:Saving data of shape (256, 256, 256, 3) to /tmp/tmpg4bnlsi7/pred_0_YX_270.h5 with kwargs {}.\n",
      "INFO:root:Saving data of shape (256, 256, 256) to /tmp/tmpg4bnlsi7/pred_0_YX_labels_270.h5 with kwargs {}.\n",
      "INFO:root:Predicting ZX slices:\n",
      "INFO:root:Free GPU memory is 31.15 GB. Batch size will be 4.\n",
      "INFO:root:Predicting segmentation for volume of shape (256, 256, 256).\n",
      "Prediction batch: 100%|██████████████████████████████| 64/64 [00:01<00:00, 42.23it/s]\n",
      "INFO:root:Completed prediction. Now manipulating result before returning.\n",
      "INFO:root:Saving data of shape (256, 256, 256, 3) to /tmp/tmpg4bnlsi7/pred_0_ZX_270.h5 with kwargs {}.\n",
      "INFO:root:Saving data of shape (256, 256, 256) to /tmp/tmpg4bnlsi7/pred_0_ZX_labels_270.h5 with kwargs {}.\n",
      "INFO:root:Predicting ZY slices:\n",
      "INFO:root:Free GPU memory is 31.15 GB. Batch size will be 4.\n",
      "INFO:root:Predicting segmentation for volume of shape (256, 256, 256).\n",
      "Prediction batch: 100%|██████████████████████████████| 64/64 [00:01<00:00, 48.12it/s]\n",
      "INFO:root:Completed prediction. Now manipulating result before returning.\n",
      "INFO:root:Saving data of shape (256, 256, 256, 3) to /tmp/tmpg4bnlsi7/pred_0_ZY_270.h5 with kwargs {}.\n",
      "INFO:root:Saving data of shape (256, 256, 256) to /tmp/tmpg4bnlsi7/pred_0_ZY_labels_270.h5 with kwargs {}.\n",
      "INFO:root:NN1_predict returned\n",
      "INFO:root:            pred_data_probs_filenames  \\\n",
      "0     /tmp/tmpg4bnlsi7/pred_0_YX_0.h5   \n",
      "1     /tmp/tmpg4bnlsi7/pred_0_ZX_0.h5   \n",
      "2     /tmp/tmpg4bnlsi7/pred_0_ZY_0.h5   \n",
      "3    /tmp/tmpg4bnlsi7/pred_0_YX_90.h5   \n",
      "4    /tmp/tmpg4bnlsi7/pred_0_ZX_90.h5   \n",
      "5    /tmp/tmpg4bnlsi7/pred_0_ZY_90.h5   \n",
      "6   /tmp/tmpg4bnlsi7/pred_0_YX_180.h5   \n",
      "7   /tmp/tmpg4bnlsi7/pred_0_ZX_180.h5   \n",
      "8   /tmp/tmpg4bnlsi7/pred_0_ZY_180.h5   \n",
      "9   /tmp/tmpg4bnlsi7/pred_0_YX_270.h5   \n",
      "10  /tmp/tmpg4bnlsi7/pred_0_ZX_270.h5   \n",
      "11  /tmp/tmpg4bnlsi7/pred_0_ZY_270.h5   \n",
      "\n",
      "                  pred_data_labels_filenames  pred_sets pred_planes  \\\n",
      "0     /tmp/tmpg4bnlsi7/pred_0_YX_labels_0.h5          0          YX   \n",
      "1     /tmp/tmpg4bnlsi7/pred_0_ZX_labels_0.h5          0          ZX   \n",
      "2     /tmp/tmpg4bnlsi7/pred_0_ZY_labels_0.h5          0          ZY   \n",
      "3    /tmp/tmpg4bnlsi7/pred_0_YX_labels_90.h5          0          YX   \n",
      "4    /tmp/tmpg4bnlsi7/pred_0_ZX_labels_90.h5          0          ZX   \n",
      "5    /tmp/tmpg4bnlsi7/pred_0_ZY_labels_90.h5          0          ZY   \n",
      "6   /tmp/tmpg4bnlsi7/pred_0_YX_labels_180.h5          0          YX   \n",
      "7   /tmp/tmpg4bnlsi7/pred_0_ZX_labels_180.h5          0          ZX   \n",
      "8   /tmp/tmpg4bnlsi7/pred_0_ZY_labels_180.h5          0          ZY   \n",
      "9   /tmp/tmpg4bnlsi7/pred_0_YX_labels_270.h5          0          YX   \n",
      "10  /tmp/tmpg4bnlsi7/pred_0_ZX_labels_270.h5          0          ZX   \n",
      "11  /tmp/tmpg4bnlsi7/pred_0_ZY_labels_270.h5          0          ZY   \n",
      "\n",
      "    pred_rots  pred_ipred      pred_shapes  \n",
      "0           0           0  (256, 256, 256)  \n",
      "1           0           1  (256, 256, 256)  \n",
      "2           0           2  (256, 256, 256)  \n",
      "3          90           3  (256, 256, 256)  \n",
      "4          90           4  (256, 256, 256)  \n",
      "5          90           5  (256, 256, 256)  \n",
      "6         180           6  (256, 256, 256)  \n",
      "7         180           7  (256, 256, 256)  \n",
      "8         180           8  (256, 256, 256)  \n",
      "9         270           9  (256, 256, 256)  \n",
      "10        270          10  (256, 256, 256)  \n",
      "11        270          11  (256, 256, 256)  \n",
      "INFO:root:Collecting NN1 metrics\n",
      "INFO:root:MetricScoreOfVols_Accuracy()\n",
      "INFO:root:MetricScoreOfVols_Dice()\n",
      "INFO:root:Number of class segmentations in first volume 3\n",
      "INFO:root:Number of class segmentations in second volume 3\n",
      "INFO:root:Calculating using numpy\n",
      "INFO:root:dicescores = {1: 0.5248780244227103, 2: 0.7247847444469265}\n",
      "INFO:root:prediction iset:0, ipred:0, filename: /tmp/tmpg4bnlsi7/pred_0_YX_labels_0.h5, accuracy:0.9497919082641602, dice:(0.6248313844348183, {1: 0.5248780244227103, 2: 0.7247847444469265})\n",
      "INFO:root:MetricScoreOfVols_Accuracy()\n",
      "INFO:root:MetricScoreOfVols_Dice()\n",
      "INFO:root:Number of class segmentations in first volume 3\n",
      "INFO:root:Number of class segmentations in second volume 3\n",
      "INFO:root:Calculating using numpy\n",
      "INFO:root:dicescores = {1: 0.4416904980081336, 2: 0.6019785742493567}\n",
      "INFO:root:prediction iset:0, ipred:1, filename: /tmp/tmpg4bnlsi7/pred_0_ZX_labels_0.h5, accuracy:0.9431583881378174, dice:(0.5218345361287452, {1: 0.4416904980081336, 2: 0.6019785742493567})\n",
      "INFO:root:MetricScoreOfVols_Accuracy()\n",
      "INFO:root:MetricScoreOfVols_Dice()\n",
      "INFO:root:Number of class segmentations in first volume 3\n",
      "INFO:root:Number of class segmentations in second volume 3\n",
      "INFO:root:Calculating using numpy\n",
      "INFO:root:dicescores = {1: 0.34862151963429056, 2: 0.6381058234813294}\n",
      "INFO:root:prediction iset:0, ipred:2, filename: /tmp/tmpg4bnlsi7/pred_0_ZY_labels_0.h5, accuracy:0.9427548050880432, dice:(0.49336367155780997, {1: 0.34862151963429056, 2: 0.6381058234813294})\n",
      "INFO:root:MetricScoreOfVols_Accuracy()\n",
      "INFO:root:MetricScoreOfVols_Dice()\n",
      "INFO:root:Number of class segmentations in first volume 3\n",
      "INFO:root:Number of class segmentations in second volume 3\n",
      "INFO:root:Calculating using numpy\n",
      "INFO:root:dicescores = {1: 0.4925699634498936, 2: 0.6890878027039073}\n",
      "INFO:root:prediction iset:0, ipred:3, filename: /tmp/tmpg4bnlsi7/pred_0_YX_labels_90.h5, accuracy:0.9478611946105957, dice:(0.5908288830769005, {1: 0.4925699634498936, 2: 0.6890878027039073})\n",
      "INFO:root:MetricScoreOfVols_Accuracy()\n",
      "INFO:root:MetricScoreOfVols_Dice()\n",
      "INFO:root:Number of class segmentations in first volume 3\n",
      "INFO:root:Number of class segmentations in second volume 3\n",
      "INFO:root:Calculating using numpy\n",
      "INFO:root:dicescores = {1: 0.40878529742997505, 2: 0.5260659813209703}\n",
      "INFO:root:prediction iset:0, ipred:4, filename: /tmp/tmpg4bnlsi7/pred_0_ZX_labels_90.h5, accuracy:0.9408658742904663, dice:(0.46742563937547266, {1: 0.40878529742997505, 2: 0.5260659813209703})\n",
      "INFO:root:MetricScoreOfVols_Accuracy()\n",
      "INFO:root:MetricScoreOfVols_Dice()\n",
      "INFO:root:Number of class segmentations in first volume 3\n",
      "INFO:root:Number of class segmentations in second volume 3\n",
      "INFO:root:Calculating using numpy\n",
      "INFO:root:dicescores = {1: 0.318974825747352, 2: 0.595716037091164}\n",
      "INFO:root:prediction iset:0, ipred:5, filename: /tmp/tmpg4bnlsi7/pred_0_ZY_labels_90.h5, accuracy:0.9398422241210938, dice:(0.457345431419258, {1: 0.318974825747352, 2: 0.595716037091164})\n",
      "INFO:root:MetricScoreOfVols_Accuracy()\n",
      "INFO:root:MetricScoreOfVols_Dice()\n",
      "INFO:root:Number of class segmentations in first volume 3\n",
      "INFO:root:Number of class segmentations in second volume 3\n",
      "INFO:root:Calculating using numpy\n",
      "INFO:root:dicescores = {1: 0.4955608776640782, 2: 0.6760912502698099}\n",
      "INFO:root:prediction iset:0, ipred:6, filename: /tmp/tmpg4bnlsi7/pred_0_YX_labels_180.h5, accuracy:0.9470621943473816, dice:(0.585826063966944, {1: 0.4955608776640782, 2: 0.6760912502698099})\n",
      "INFO:root:MetricScoreOfVols_Accuracy()\n",
      "INFO:root:MetricScoreOfVols_Dice()\n",
      "INFO:root:Number of class segmentations in first volume 3\n",
      "INFO:root:Number of class segmentations in second volume 3\n",
      "INFO:root:Calculating using numpy\n",
      "INFO:root:dicescores = {1: 0.408804506451975, 2: 0.5283474531779322}\n",
      "INFO:root:prediction iset:0, ipred:7, filename: /tmp/tmpg4bnlsi7/pred_0_ZX_labels_180.h5, accuracy:0.9412607550621033, dice:(0.4685759798149536, {1: 0.408804506451975, 2: 0.5283474531779322})\n",
      "INFO:root:MetricScoreOfVols_Accuracy()\n",
      "INFO:root:MetricScoreOfVols_Dice()\n",
      "INFO:root:Number of class segmentations in first volume 3\n",
      "INFO:root:Number of class segmentations in second volume 3\n",
      "INFO:root:Calculating using numpy\n",
      "INFO:root:dicescores = {1: 0.32687872004662205, 2: 0.5860575499966245}\n",
      "INFO:root:prediction iset:0, ipred:8, filename: /tmp/tmpg4bnlsi7/pred_0_ZY_labels_180.h5, accuracy:0.9404314756393433, dice:(0.4564681350216233, {1: 0.32687872004662205, 2: 0.5860575499966245})\n",
      "INFO:root:MetricScoreOfVols_Accuracy()\n",
      "INFO:root:MetricScoreOfVols_Dice()\n",
      "INFO:root:Number of class segmentations in first volume 3\n",
      "INFO:root:Number of class segmentations in second volume 3\n",
      "INFO:root:Calculating using numpy\n",
      "INFO:root:dicescores = {1: 0.5177700054442049, 2: 0.7166758207884502}\n",
      "INFO:root:prediction iset:0, ipred:9, filename: /tmp/tmpg4bnlsi7/pred_0_YX_labels_270.h5, accuracy:0.949783444404602, dice:(0.6172229131163276, {1: 0.5177700054442049, 2: 0.7166758207884502})\n",
      "INFO:root:MetricScoreOfVols_Accuracy()\n",
      "INFO:root:MetricScoreOfVols_Dice()\n",
      "INFO:root:Number of class segmentations in first volume 3\n",
      "INFO:root:Number of class segmentations in second volume 3\n",
      "INFO:root:Calculating using numpy\n",
      "INFO:root:dicescores = {1: 0.4366402339655718, 2: 0.6235546446785186}\n",
      "INFO:root:prediction iset:0, ipred:10, filename: /tmp/tmpg4bnlsi7/pred_0_ZX_labels_270.h5, accuracy:0.943814754486084, dice:(0.5300974393220452, {1: 0.4366402339655718, 2: 0.6235546446785186})\n",
      "INFO:root:MetricScoreOfVols_Accuracy()\n",
      "INFO:root:MetricScoreOfVols_Dice()\n",
      "INFO:root:Number of class segmentations in first volume 3\n",
      "INFO:root:Number of class segmentations in second volume 3\n",
      "INFO:root:Calculating using numpy\n",
      "INFO:root:dicescores = {1: 0.33700798291362594, 2: 0.6164782807035328}\n",
      "INFO:root:prediction iset:0, ipred:11, filename: /tmp/tmpg4bnlsi7/pred_0_ZY_labels_270.h5, accuracy:0.9413406848907471, dice:(0.4767431318085794, {1: 0.33700798291362594, 2: 0.6164782807035328})\n",
      "INFO:root:npredictions_per_set:12\n",
      "INFO:root:data0.shape:(256, 256, 256, 3)\n",
      "100%|██████████| 262144/262144 [00:01<00:00, 168773.56it/s]\n",
      "INFO:root:Setup NN2 MLPClassifier\n",
      "INFO:root:NN2 MLPClassifier fit with 262144 samples, (y_train 262144 samples)\n"
     ]
    },
    {
     "name": "stdout",
     "output_type": "stream",
     "text": [
      "Iteration 1, loss = 0.23933155\n",
      "Iteration 2, loss = 0.18245780\n",
      "Iteration 3, loss = 0.16407723\n",
      "Iteration 4, loss = 0.15564125\n",
      "Iteration 5, loss = 0.14909055\n",
      "Iteration 6, loss = 0.14392948\n",
      "Iteration 7, loss = 0.14001008\n",
      "Iteration 8, loss = 0.13712783\n",
      "Iteration 9, loss = 0.13492790\n",
      "Iteration 10, loss = 0.13322200\n",
      "Iteration 11, loss = 0.13189054\n",
      "Iteration 12, loss = 0.13082119\n",
      "Iteration 13, loss = 0.12990913\n",
      "Iteration 14, loss = 0.12912137\n",
      "Iteration 15, loss = 0.12842959\n",
      "Iteration 16, loss = 0.12781964\n",
      "Iteration 17, loss = 0.12727636\n",
      "Iteration 18, loss = 0.12680238\n",
      "Iteration 19, loss = 0.12634284\n",
      "Iteration 20, loss = 0.12593434\n",
      "Iteration 21, loss = 0.12555756\n",
      "Iteration 22, loss = 0.12520426\n",
      "Iteration 23, loss = 0.12490049\n",
      "Iteration 24, loss = 0.12461034\n",
      "Iteration 25, loss = 0.12433319\n",
      "Iteration 26, loss = 0.12405325\n",
      "Iteration 27, loss = 0.12381445\n",
      "Iteration 28, loss = 0.12359546\n",
      "Iteration 29, loss = 0.12337647\n",
      "Iteration 30, loss = 0.12316604\n",
      "Iteration 31, loss = 0.12298495\n",
      "Iteration 32, loss = 0.12280796\n",
      "Iteration 33, loss = 0.12262921\n",
      "Iteration 34, loss = 0.12245884\n",
      "Iteration 35, loss = 0.12231253\n",
      "Iteration 36, loss = 0.12214272\n",
      "Iteration 37, loss = 0.12201130\n",
      "Iteration 38, loss = 0.12185826\n",
      "Iteration 39, loss = 0.12173649\n",
      "Iteration 40, loss = 0.12161937\n",
      "Iteration 41, loss = 0.12149540\n",
      "Iteration 42, loss = 0.12138360\n",
      "Iteration 43, loss = 0.12126712\n",
      "Iteration 44, loss = 0.12117346\n",
      "Iteration 45, loss = 0.12103692\n",
      "Iteration 46, loss = 0.12094554\n",
      "Iteration 47, loss = 0.12086677\n",
      "Iteration 48, loss = 0.12077437\n",
      "Iteration 49, loss = 0.12067916\n",
      "Iteration 50, loss = 0.12058704\n",
      "Iteration 51, loss = 0.12049355\n",
      "Iteration 52, loss = 0.12040911\n",
      "Iteration 53, loss = 0.12033604\n",
      "Iteration 54, loss = 0.12026096\n",
      "Iteration 55, loss = 0.12018966\n",
      "Iteration 56, loss = 0.12012328\n",
      "Training loss did not improve more than tol=0.000100 for 10 consecutive epochs. Stopping.\n"
     ]
    },
    {
     "name": "stderr",
     "output_type": "stream",
     "text": [
      "INFO:root:NN2 train score:0.9552459716796875\n",
      "INFO:root:Preparing to predict the whole training volume\n",
      "INFO:root:Data type is numpy.ndarray\n"
     ]
    },
    {
     "name": "stdout",
     "output_type": "stream",
     "text": [
      "[########################################] | 100% Completed | 4.38 sms\n"
     ]
    },
    {
     "name": "stderr",
     "output_type": "stream",
     "text": [
      "INFO:root:MetricScoreOfVols_Accuracy()\n",
      "INFO:root:MetricScoreOfVols_Dice()\n",
      "INFO:root:Number of class segmentations in first volume 3\n",
      "INFO:root:Number of class segmentations in second volume 3\n",
      "INFO:root:Calculating using numpy\n",
      "INFO:root:dicescores = {1: 0.46058788488794855, 2: 0.7838015736361457}\n",
      "INFO:root:set 0, NN2 acc:0.9550736546516418, dice:(0.6221947292620471, {1: 0.46058788488794855, 2: 0.7838015736361457})\n"
     ]
    }
   ],
   "source": [
    "res= lgsegmentor0.train(traindatas, trainlabels, get_metrics=True)\n"
   ]
  },
  {
   "cell_type": "markdown",
   "metadata": {},
   "source": [
    "# Save model\n",
    "\n",
    "It is good  practise to save with the date that the model was created"
   ]
  },
  {
   "cell_type": "code",
   "execution_count": 12,
   "metadata": {},
   "outputs": [],
   "source": [
    "# lgsegmentor0.save_model(\"2023_06_12_endometrium.lgsegmod\")\n",
    "import datetime\n",
    "model_save_fn = f\"{datetime.date.today()}_ribos_membr.lgsegmod\" #Choose correct description\n",
    "lgsegmentor0.save_model(model_save_fn)"
   ]
  },
  {
   "cell_type": "markdown",
   "metadata": {},
   "source": [
    "# Check how training metrics progressed during UNet training\n",
    "\n",
    "plot should look like a exponential decaying to zero for both the training and validation loss"
   ]
  },
  {
   "cell_type": "code",
   "execution_count": 22,
   "metadata": {},
   "outputs": [
    {
     "name": "stderr",
     "output_type": "stream",
     "text": [
      "INFO:root:Saving figure of training/validation losses to 2023-10-20_ribos_membr_loss_plot.png\n"
     ]
    },
    {
     "data": {
      "image/png": "[encoded data removed]",
      "text/plain": [
       "<Figure size 1000x800 with 1 Axes>"
      ]
     },
     "metadata": {},
     "output_type": "display_data"
    }
   ],
   "source": [
    "from pathlib import Path\n",
    "lgsegmentor0.trainer.output_loss_fig(Path(model_save_fn))"
   ]
  },
  {
   "cell_type": "markdown",
   "metadata": {},
   "source": [
    "# Training metrics"
   ]
  },
  {
   "cell_type": "code",
   "execution_count": 14,
   "metadata": {},
   "outputs": [
    {
     "data": {
      "text/plain": [
       "([[0.9497919082641602,\n",
       "   (0.6248313844348183, {1: 0.5248780244227103, 2: 0.7247847444469265})],\n",
       "  [0.9431583881378174,\n",
       "   (0.5218345361287452, {1: 0.4416904980081336, 2: 0.6019785742493567})],\n",
       "  [0.9427548050880432,\n",
       "   (0.49336367155780997, {1: 0.34862151963429056, 2: 0.6381058234813294})],\n",
       "  [0.9478611946105957,\n",
       "   (0.5908288830769005, {1: 0.4925699634498936, 2: 0.6890878027039073})],\n",
       "  [0.9408658742904663,\n",
       "   (0.46742563937547266, {1: 0.40878529742997505, 2: 0.5260659813209703})],\n",
       "  [0.9398422241210938,\n",
       "   (0.457345431419258, {1: 0.318974825747352, 2: 0.595716037091164})],\n",
       "  [0.9470621943473816,\n",
       "   (0.585826063966944, {1: 0.4955608776640782, 2: 0.6760912502698099})],\n",
       "  [0.9412607550621033,\n",
       "   (0.4685759798149536, {1: 0.408804506451975, 2: 0.5283474531779322})],\n",
       "  [0.9404314756393433,\n",
       "   (0.4564681350216233, {1: 0.32687872004662205, 2: 0.5860575499966245})],\n",
       "  [0.949783444404602,\n",
       "   (0.6172229131163276, {1: 0.5177700054442049, 2: 0.7166758207884502})],\n",
       "  [0.943814754486084,\n",
       "   (0.5300974393220452, {1: 0.4366402339655718, 2: 0.6235546446785186})],\n",
       "  [0.9413406848907471,\n",
       "   (0.4767431318085794, {1: 0.33700798291362594, 2: 0.6164782807035328})]],\n",
       " ([0.9550736546516418],\n",
       "  [(0.6221947292620471, {1: 0.46058788488794855, 2: 0.7838015736361457})]))"
      ]
     },
     "execution_count": 14,
     "metadata": {},
     "output_type": "execute_result"
    }
   ],
   "source": [
    "res"
   ]
  },
  {
   "cell_type": "markdown",
   "metadata": {},
   "source": [
    "First element are accuracy and dice scores for NN1 predicted volumes, in each axis/direction\n",
    "\n",
    "Second element are similar metrics but after the NN2 (complete lgsegmentor) inference (single volume)."
   ]
  },
  {
   "cell_type": "code",
   "execution_count": 15,
   "metadata": {},
   "outputs": [
    {
     "data": {
      "text/plain": [
       "[[0.9497919082641602,\n",
       "  (0.6248313844348183, {1: 0.5248780244227103, 2: 0.7247847444469265})],\n",
       " [0.9431583881378174,\n",
       "  (0.5218345361287452, {1: 0.4416904980081336, 2: 0.6019785742493567})],\n",
       " [0.9427548050880432,\n",
       "  (0.49336367155780997, {1: 0.34862151963429056, 2: 0.6381058234813294})],\n",
       " [0.9478611946105957,\n",
       "  (0.5908288830769005, {1: 0.4925699634498936, 2: 0.6890878027039073})],\n",
       " [0.9408658742904663,\n",
       "  (0.46742563937547266, {1: 0.40878529742997505, 2: 0.5260659813209703})],\n",
       " [0.9398422241210938,\n",
       "  (0.457345431419258, {1: 0.318974825747352, 2: 0.595716037091164})],\n",
       " [0.9470621943473816,\n",
       "  (0.585826063966944, {1: 0.4955608776640782, 2: 0.6760912502698099})],\n",
       " [0.9412607550621033,\n",
       "  (0.4685759798149536, {1: 0.408804506451975, 2: 0.5283474531779322})],\n",
       " [0.9404314756393433,\n",
       "  (0.4564681350216233, {1: 0.32687872004662205, 2: 0.5860575499966245})],\n",
       " [0.949783444404602,\n",
       "  (0.6172229131163276, {1: 0.5177700054442049, 2: 0.7166758207884502})],\n",
       " [0.943814754486084,\n",
       "  (0.5300974393220452, {1: 0.4366402339655718, 2: 0.6235546446785186})],\n",
       " [0.9413406848907471,\n",
       "  (0.4767431318085794, {1: 0.33700798291362594, 2: 0.6164782807035328})]]"
      ]
     },
     "execution_count": 15,
     "metadata": {},
     "output_type": "execute_result"
    }
   ],
   "source": [
    "res[0] #NN1 metrics"
   ]
  },
  {
   "cell_type": "code",
   "execution_count": 16,
   "metadata": {},
   "outputs": [
    {
     "data": {
      "text/plain": [
       "([0.9550736546516418],\n",
       " [(0.6221947292620471, {1: 0.46058788488794855, 2: 0.7838015736361457})])"
      ]
     },
     "execution_count": 16,
     "metadata": {},
     "output_type": "execute_result"
    }
   ],
   "source": [
    "res[1] #NN2 metrics"
   ]
  },
  {
   "cell_type": "markdown",
   "metadata": {},
   "source": [
    "We can also get some information of the NN1 predictions by looking at the dataframe that it generates"
   ]
  },
  {
   "cell_type": "code",
   "execution_count": 17,
   "metadata": {},
   "outputs": [
    {
     "data": {
      "text/html": [
       "<div>\n",
       "<style scoped>\n",
       "    .dataframe tbody tr th:only-of-type {\n",
       "        vertical-align: middle;\n",
       "    }\n",
       "\n",
       "    .dataframe tbody tr th {\n",
       "        vertical-align: top;\n",
       "    }\n",
       "\n",
       "    .dataframe thead th {\n",
       "        text-align: right;\n",
       "    }\n",
       "</style>\n",
       "<table border=\"1\" class=\"dataframe\">\n",
       "  <thead>\n",
       "    <tr style=\"text-align: right;\">\n",
       "      <th></th>\n",
       "      <th>pred_data_probs_filenames</th>\n",
       "      <th>pred_data_labels_filenames</th>\n",
       "      <th>pred_sets</th>\n",
       "      <th>pred_planes</th>\n",
       "      <th>pred_rots</th>\n",
       "      <th>pred_ipred</th>\n",
       "      <th>pred_shapes</th>\n",
       "      <th>accuracy</th>\n",
       "      <th>dice</th>\n",
       "    </tr>\n",
       "  </thead>\n",
       "  <tbody>\n",
       "    <tr>\n",
       "      <th>0</th>\n",
       "      <td>/tmp/tmpg4bnlsi7/pred_0_YX_0.h5</td>\n",
       "      <td>/tmp/tmpg4bnlsi7/pred_0_YX_labels_0.h5</td>\n",
       "      <td>0</td>\n",
       "      <td>YX</td>\n",
       "      <td>0</td>\n",
       "      <td>0</td>\n",
       "      <td>(256, 256, 256)</td>\n",
       "      <td>0.949792</td>\n",
       "      <td>0.624831</td>\n",
       "    </tr>\n",
       "    <tr>\n",
       "      <th>1</th>\n",
       "      <td>/tmp/tmpg4bnlsi7/pred_0_ZX_0.h5</td>\n",
       "      <td>/tmp/tmpg4bnlsi7/pred_0_ZX_labels_0.h5</td>\n",
       "      <td>0</td>\n",
       "      <td>ZX</td>\n",
       "      <td>0</td>\n",
       "      <td>1</td>\n",
       "      <td>(256, 256, 256)</td>\n",
       "      <td>0.943158</td>\n",
       "      <td>0.521835</td>\n",
       "    </tr>\n",
       "    <tr>\n",
       "      <th>2</th>\n",
       "      <td>/tmp/tmpg4bnlsi7/pred_0_ZY_0.h5</td>\n",
       "      <td>/tmp/tmpg4bnlsi7/pred_0_ZY_labels_0.h5</td>\n",
       "      <td>0</td>\n",
       "      <td>ZY</td>\n",
       "      <td>0</td>\n",
       "      <td>2</td>\n",
       "      <td>(256, 256, 256)</td>\n",
       "      <td>0.942755</td>\n",
       "      <td>0.493364</td>\n",
       "    </tr>\n",
       "    <tr>\n",
       "      <th>3</th>\n",
       "      <td>/tmp/tmpg4bnlsi7/pred_0_YX_90.h5</td>\n",
       "      <td>/tmp/tmpg4bnlsi7/pred_0_YX_labels_90.h5</td>\n",
       "      <td>0</td>\n",
       "      <td>YX</td>\n",
       "      <td>90</td>\n",
       "      <td>3</td>\n",
       "      <td>(256, 256, 256)</td>\n",
       "      <td>0.947861</td>\n",
       "      <td>0.590829</td>\n",
       "    </tr>\n",
       "    <tr>\n",
       "      <th>4</th>\n",
       "      <td>/tmp/tmpg4bnlsi7/pred_0_ZX_90.h5</td>\n",
       "      <td>/tmp/tmpg4bnlsi7/pred_0_ZX_labels_90.h5</td>\n",
       "      <td>0</td>\n",
       "      <td>ZX</td>\n",
       "      <td>90</td>\n",
       "      <td>4</td>\n",
       "      <td>(256, 256, 256)</td>\n",
       "      <td>0.940866</td>\n",
       "      <td>0.467426</td>\n",
       "    </tr>\n",
       "    <tr>\n",
       "      <th>5</th>\n",
       "      <td>/tmp/tmpg4bnlsi7/pred_0_ZY_90.h5</td>\n",
       "      <td>/tmp/tmpg4bnlsi7/pred_0_ZY_labels_90.h5</td>\n",
       "      <td>0</td>\n",
       "      <td>ZY</td>\n",
       "      <td>90</td>\n",
       "      <td>5</td>\n",
       "      <td>(256, 256, 256)</td>\n",
       "      <td>0.939842</td>\n",
       "      <td>0.457345</td>\n",
       "    </tr>\n",
       "    <tr>\n",
       "      <th>6</th>\n",
       "      <td>/tmp/tmpg4bnlsi7/pred_0_YX_180.h5</td>\n",
       "      <td>/tmp/tmpg4bnlsi7/pred_0_YX_labels_180.h5</td>\n",
       "      <td>0</td>\n",
       "      <td>YX</td>\n",
       "      <td>180</td>\n",
       "      <td>6</td>\n",
       "      <td>(256, 256, 256)</td>\n",
       "      <td>0.947062</td>\n",
       "      <td>0.585826</td>\n",
       "    </tr>\n",
       "    <tr>\n",
       "      <th>7</th>\n",
       "      <td>/tmp/tmpg4bnlsi7/pred_0_ZX_180.h5</td>\n",
       "      <td>/tmp/tmpg4bnlsi7/pred_0_ZX_labels_180.h5</td>\n",
       "      <td>0</td>\n",
       "      <td>ZX</td>\n",
       "      <td>180</td>\n",
       "      <td>7</td>\n",
       "      <td>(256, 256, 256)</td>\n",
       "      <td>0.941261</td>\n",
       "      <td>0.468576</td>\n",
       "    </tr>\n",
       "    <tr>\n",
       "      <th>8</th>\n",
       "      <td>/tmp/tmpg4bnlsi7/pred_0_ZY_180.h5</td>\n",
       "      <td>/tmp/tmpg4bnlsi7/pred_0_ZY_labels_180.h5</td>\n",
       "      <td>0</td>\n",
       "      <td>ZY</td>\n",
       "      <td>180</td>\n",
       "      <td>8</td>\n",
       "      <td>(256, 256, 256)</td>\n",
       "      <td>0.940431</td>\n",
       "      <td>0.456468</td>\n",
       "    </tr>\n",
       "    <tr>\n",
       "      <th>9</th>\n",
       "      <td>/tmp/tmpg4bnlsi7/pred_0_YX_270.h5</td>\n",
       "      <td>/tmp/tmpg4bnlsi7/pred_0_YX_labels_270.h5</td>\n",
       "      <td>0</td>\n",
       "      <td>YX</td>\n",
       "      <td>270</td>\n",
       "      <td>9</td>\n",
       "      <td>(256, 256, 256)</td>\n",
       "      <td>0.949783</td>\n",
       "      <td>0.617223</td>\n",
       "    </tr>\n",
       "    <tr>\n",
       "      <th>10</th>\n",
       "      <td>/tmp/tmpg4bnlsi7/pred_0_ZX_270.h5</td>\n",
       "      <td>/tmp/tmpg4bnlsi7/pred_0_ZX_labels_270.h5</td>\n",
       "      <td>0</td>\n",
       "      <td>ZX</td>\n",
       "      <td>270</td>\n",
       "      <td>10</td>\n",
       "      <td>(256, 256, 256)</td>\n",
       "      <td>0.943815</td>\n",
       "      <td>0.530097</td>\n",
       "    </tr>\n",
       "    <tr>\n",
       "      <th>11</th>\n",
       "      <td>/tmp/tmpg4bnlsi7/pred_0_ZY_270.h5</td>\n",
       "      <td>/tmp/tmpg4bnlsi7/pred_0_ZY_labels_270.h5</td>\n",
       "      <td>0</td>\n",
       "      <td>ZY</td>\n",
       "      <td>270</td>\n",
       "      <td>11</td>\n",
       "      <td>(256, 256, 256)</td>\n",
       "      <td>0.941341</td>\n",
       "      <td>0.476743</td>\n",
       "    </tr>\n",
       "  </tbody>\n",
       "</table>\n",
       "</div>"
      ],
      "text/plain": [
       "            pred_data_probs_filenames  \\\n",
       "0     /tmp/tmpg4bnlsi7/pred_0_YX_0.h5   \n",
       "1     /tmp/tmpg4bnlsi7/pred_0_ZX_0.h5   \n",
       "2     /tmp/tmpg4bnlsi7/pred_0_ZY_0.h5   \n",
       "3    /tmp/tmpg4bnlsi7/pred_0_YX_90.h5   \n",
       "4    /tmp/tmpg4bnlsi7/pred_0_ZX_90.h5   \n",
       "5    /tmp/tmpg4bnlsi7/pred_0_ZY_90.h5   \n",
       "6   /tmp/tmpg4bnlsi7/pred_0_YX_180.h5   \n",
       "7   /tmp/tmpg4bnlsi7/pred_0_ZX_180.h5   \n",
       "8   /tmp/tmpg4bnlsi7/pred_0_ZY_180.h5   \n",
       "9   /tmp/tmpg4bnlsi7/pred_0_YX_270.h5   \n",
       "10  /tmp/tmpg4bnlsi7/pred_0_ZX_270.h5   \n",
       "11  /tmp/tmpg4bnlsi7/pred_0_ZY_270.h5   \n",
       "\n",
       "                  pred_data_labels_filenames  pred_sets pred_planes  \\\n",
       "0     /tmp/tmpg4bnlsi7/pred_0_YX_labels_0.h5          0          YX   \n",
       "1     /tmp/tmpg4bnlsi7/pred_0_ZX_labels_0.h5          0          ZX   \n",
       "2     /tmp/tmpg4bnlsi7/pred_0_ZY_labels_0.h5          0          ZY   \n",
       "3    /tmp/tmpg4bnlsi7/pred_0_YX_labels_90.h5          0          YX   \n",
       "4    /tmp/tmpg4bnlsi7/pred_0_ZX_labels_90.h5          0          ZX   \n",
       "5    /tmp/tmpg4bnlsi7/pred_0_ZY_labels_90.h5          0          ZY   \n",
       "6   /tmp/tmpg4bnlsi7/pred_0_YX_labels_180.h5          0          YX   \n",
       "7   /tmp/tmpg4bnlsi7/pred_0_ZX_labels_180.h5          0          ZX   \n",
       "8   /tmp/tmpg4bnlsi7/pred_0_ZY_labels_180.h5          0          ZY   \n",
       "9   /tmp/tmpg4bnlsi7/pred_0_YX_labels_270.h5          0          YX   \n",
       "10  /tmp/tmpg4bnlsi7/pred_0_ZX_labels_270.h5          0          ZX   \n",
       "11  /tmp/tmpg4bnlsi7/pred_0_ZY_labels_270.h5          0          ZY   \n",
       "\n",
       "    pred_rots  pred_ipred      pred_shapes  accuracy      dice  \n",
       "0           0           0  (256, 256, 256)  0.949792  0.624831  \n",
       "1           0           1  (256, 256, 256)  0.943158  0.521835  \n",
       "2           0           2  (256, 256, 256)  0.942755  0.493364  \n",
       "3          90           3  (256, 256, 256)  0.947861  0.590829  \n",
       "4          90           4  (256, 256, 256)  0.940866  0.467426  \n",
       "5          90           5  (256, 256, 256)  0.939842  0.457345  \n",
       "6         180           6  (256, 256, 256)  0.947062  0.585826  \n",
       "7         180           7  (256, 256, 256)  0.941261  0.468576  \n",
       "8         180           8  (256, 256, 256)  0.940431  0.456468  \n",
       "9         270           9  (256, 256, 256)  0.949783  0.617223  \n",
       "10        270          10  (256, 256, 256)  0.943815  0.530097  \n",
       "11        270          11  (256, 256, 256)  0.941341  0.476743  "
      ]
     },
     "execution_count": 17,
     "metadata": {},
     "output_type": "execute_result"
    }
   ],
   "source": [
    "lgsegmentor0.all_nn1_pred_pd"
   ]
  },
  {
   "cell_type": "markdown",
   "metadata": {},
   "source": [
    "We can average the NN1 metrics and compare with the complete lgsegmentor"
   ]
  },
  {
   "cell_type": "code",
   "execution_count": 18,
   "metadata": {},
   "outputs": [],
   "source": [
    "nn1_acc_avg= np.mean( [el0[0] for el0 in res[0]])\n",
    "nn1_dice_avg= np.nanmean(np.array( [el0[1][0] for el0 in res[0]] ))\n",
    "\n",
    "nn1nn2_acc_avg = np.mean(np.array(res[1][0]))\n",
    "nn1nn2_dice_avg =np.nanmean( [dice_info[0] for dice_info in res[1][1]] )"
   ]
  },
  {
   "cell_type": "markdown",
   "metadata": {},
   "source": [
    "Dice metrics, vs-predictions (nn1) and lg-predictions (nn1 followed by nn2)"
   ]
  },
  {
   "cell_type": "code",
   "execution_count": 19,
   "metadata": {},
   "outputs": [
    {
     "name": "stdout",
     "output_type": "stream",
     "text": [
      "0.5242136007536231\n",
      "0.6221947292620471\n"
     ]
    }
   ],
   "source": [
    "print(nn1_dice_avg)\n",
    "print(nn1nn2_dice_avg)"
   ]
  },
  {
   "cell_type": "markdown",
   "metadata": {},
   "source": [
    "There is a good improvement if the NN2 (MLP classifier) is used with multiple axis and rotations predictions compared with a single axis and rotation prediction.\n",
    "\n",
    "Now let's compare *accuracy* metric"
   ]
  },
  {
   "cell_type": "code",
   "execution_count": 20,
   "metadata": {},
   "outputs": [
    {
     "name": "stdout",
     "output_type": "stream",
     "text": [
      "0.9439973086118698\n",
      "0.9550736546516418\n"
     ]
    }
   ],
   "source": [
    "print(nn1_acc_avg)\n",
    "print(nn1nn2_acc_avg)"
   ]
  },
  {
   "cell_type": "markdown",
   "metadata": {},
   "source": [
    "Accuracy is not a great metric unless the background is much smaller, but we can also see a small improvement."
   ]
  },
  {
   "cell_type": "markdown",
   "metadata": {},
   "source": []
  },
  {
   "cell_type": "markdown",
   "metadata": {},
   "source": [
    "# Cleanup\n",
    "\n",
    "Training and predictions within it gemerate a lot of tempprary files. Delete them by running cleanup()"
   ]
  },
  {
   "cell_type": "code",
   "execution_count": 21,
   "metadata": {},
   "outputs": [],
   "source": [
    "lgsegmentor0.cleanup()"
   ]
  },
  {
   "cell_type": "code",
   "execution_count": null,
   "metadata": {},
   "outputs": [],
   "source": []
  }
 ],
 "metadata": {
  "kernelspec": {
   "display_name": "Python 3",
   "language": "python",
   "name": "python3"
  },
  "language_info": {
   "codemirror_mode": {
    "name": "ipython",
    "version": 3
   },
   "file_extension": ".py",
   "mimetype": "text/x-python",
   "name": "python",
   "nbconvert_exporter": "python",
   "pygments_lexer": "ipython3",
   "version": "3.11.7"
  },
  "orig_nbformat": 4
 },
 "nbformat": 4,
 "nbformat_minor": 2
}
