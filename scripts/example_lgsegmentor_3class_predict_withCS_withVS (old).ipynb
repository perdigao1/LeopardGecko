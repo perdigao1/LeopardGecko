{
 "cells": [
  {
   "cell_type": "markdown",
   "metadata": {},
   "source": [
    "This notebook show an example on how to run predictions using a pre-trained a lgsegmentor.\n",
    "\n",
    "This example it uses the validation data "
   ]
  },
  {
   "cell_type": "code",
   "execution_count": 1,
   "metadata": {},
   "outputs": [
    {
     "name": "stderr",
     "output_type": "stream",
     "text": [
      "Matplotlib is building the font cache; this may take a moment.\n"
     ]
    }
   ],
   "source": [
    "import numpy as np\n",
    "import tifffile\n",
    "import napari\n",
    "import leopardgecko.segmentor as lgs\n",
    "import leopardgecko.utils as lgu\n",
    "\n",
    "import logging\n",
    "logging.basicConfig(level=logging.INFO)"
   ]
  },
  {
   "cell_type": "markdown",
   "metadata": {},
   "source": [
    "# Load data  for prediction and respective labels"
   ]
  },
  {
   "cell_type": "code",
   "execution_count": 2,
   "metadata": {},
   "outputs": [],
   "source": [
    "data_to_pred = tifffile.imread(\"test_data/TS_0005_crop_val.tif\")\n",
    "labels_to_compare = tifffile.imread(\"test_data/TS_0005_ribos_membr_crop_val.tif\")"
   ]
  },
  {
   "cell_type": "code",
   "execution_count": 3,
   "metadata": {},
   "outputs": [
    {
     "name": "stdout",
     "output_type": "stream",
     "text": [
      "(256, 256, 256)\n"
     ]
    }
   ],
   "source": [
    "print(data_to_pred.shape)"
   ]
  },
  {
   "cell_type": "markdown",
   "metadata": {},
   "source": [
    "# Setup lg segmentor"
   ]
  },
  {
   "cell_type": "code",
   "execution_count": 4,
   "metadata": {},
   "outputs": [],
   "source": [
    "#Create the class\n",
    "lgsegmentor0 = lgs.cMultiAxisRotationsSegmentor.create_from_model(\"2023-09-29_ribos_membr.lgsegmod\")"
   ]
  },
  {
   "cell_type": "markdown",
   "metadata": {},
   "source": [
    "Check default settings and modify as needed"
   ]
  },
  {
   "cell_type": "code",
   "execution_count": 5,
   "metadata": {},
   "outputs": [
    {
     "data": {
      "text/plain": [
       "namespace(quality='high',\n",
       "          output_probs=True,\n",
       "          clip_data=True,\n",
       "          st_dev_factor=2.575,\n",
       "          data_hdf5_path='/data',\n",
       "          cuda_device=0,\n",
       "          downsample=False,\n",
       "          one_hot=False,\n",
       "          prediction_axis='Z')"
      ]
     },
     "execution_count": 5,
     "metadata": {},
     "output_type": "execute_result"
    }
   ],
   "source": [
    "lgsegmentor0.NN1_pred_settings"
   ]
  },
  {
   "cell_type": "code",
   "execution_count": 6,
   "metadata": {},
   "outputs": [],
   "source": [
    "#Calculates consistency score and volume segmantics. Output filename must be h5 file\n",
    "lgsegmentor0.NN1_consistencyscore_outpath=\"./consistency_score.h5\" # delete file after\n",
    "lgsegmentor0.NN1_volsegm_pred_path=\"./VS_prediction.h5\"\n"
   ]
  },
  {
   "cell_type": "markdown",
   "metadata": {},
   "source": [
    "Set CUDA device.\n",
    "\n",
    "To change cuda device don't change with .cuda_device, but rather use setcudadevice(devnumber)\n",
    "\n",
    "You may want to check usage and memory-usage with command `!nvidia-smi` to see what is available before starting training"
   ]
  },
  {
   "cell_type": "code",
   "execution_count": 7,
   "metadata": {},
   "outputs": [
    {
     "name": "stdout",
     "output_type": "stream",
     "text": [
      "Fri Oct 20 11:23:28 2023       \n",
      "+-----------------------------------------------------------------------------+\n",
      "| NVIDIA-SMI 470.199.02   Driver Version: 470.199.02   CUDA Version: 11.4     |\n",
      "|-------------------------------+----------------------+----------------------+\n",
      "| GPU  Name        Persistence-M| Bus-Id        Disp.A | Volatile Uncorr. ECC |\n",
      "| Fan  Temp  Perf  Pwr:Usage/Cap|         Memory-Usage | GPU-Util  Compute M. |\n",
      "|                               |                      |               MIG M. |\n",
      "|===============================+======================+======================|\n"
     ]
    },
    {
     "name": "stdout",
     "output_type": "stream",
     "text": [
      "|   0  Tesla V100-PCIE...  Off  | 00000000:00:07.0 Off |                    0 |\n",
      "| N/A   38C    P0    23W / 250W |      4MiB / 32510MiB |      0%      Default |\n",
      "|                               |                      |                  N/A |\n",
      "+-------------------------------+----------------------+----------------------+\n",
      "|   1  Tesla V100-PCIE...  Off  | 00000000:00:08.0 Off |                    0 |\n",
      "| N/A   31C    P0    24W / 250W |      4MiB / 32510MiB |      0%      Default |\n",
      "|                               |                      |                  N/A |\n",
      "+-------------------------------+----------------------+----------------------+\n",
      "                                                                               \n",
      "+-----------------------------------------------------------------------------+\n",
      "| Processes:                                                                  |\n",
      "|  GPU   GI   CI        PID   Type   Process name                  GPU Memory |\n",
      "|        ID   ID                                                   Usage      |\n",
      "|=============================================================================|\n",
      "|    0   N/A  N/A      2240      G   /usr/lib/xorg/Xorg                  4MiB |\n",
      "|    1   N/A  N/A      2240      G   /usr/lib/xorg/Xorg                  4MiB |\n",
      "+-----------------------------------------------------------------------------+\n"
     ]
    }
   ],
   "source": [
    "!nvidia-smi"
   ]
  },
  {
   "cell_type": "code",
   "execution_count": 8,
   "metadata": {},
   "outputs": [],
   "source": [
    "lgsegmentor0.set_cuda_device(0)"
   ]
  },
  {
   "cell_type": "markdown",
   "metadata": {},
   "source": [
    "Run the prediction and collect result"
   ]
  },
  {
   "cell_type": "code",
   "execution_count": 9,
   "metadata": {},
   "outputs": [
    {
     "name": "stderr",
     "output_type": "stream",
     "text": [
      "INFO:root:Setting up NN1 prediction\n",
      "INFO:root:number of data sets to predict: 1\n",
      "INFO:root:Data to predict index:0\n",
      "INFO:root:Calculating mean of data...\n",
      "INFO:root:Mean value: 3.376452088356018\n",
      "INFO:root:Calculating standard deviation.\n",
      "INFO:root:Std dev: 22.28497505498702. Calculating stats.\n",
      "INFO:root:Lower bound: -54.00735867823556, upper bound: 60.7602628549476\n",
      "INFO:root:Number of voxels above upper bound to be clipped 95283 - percentage 0.568%\n",
      "INFO:root:Number of voxels below lower bound to be clipped 175185 - percentage 1.044%\n",
      "INFO:root:Rescaling intensities.\n",
      "INFO:root:Data is already in integer dtype, converting to float for rescaling.\n",
      "INFO:root:Converting to uint8.\n",
      "INFO:root:Loading model dictionary from file.\n",
      "Downloading: \"https://download.pytorch.org/models/resnet34-333f7ec4.pth\" to /home/ypu66991/.cache/torch/hub/checkpoints/resnet34-333f7ec4.pth\n"
     ]
    },
    {
     "data": {
      "application/vnd.jupyter.widget-view+json": {
       "model_id": "bba1ca5955b947eb9201516e333ba64d",
       "version_major": 2,
       "version_minor": 0
      },
      "text/plain": [
       "  0%|          | 0.00/83.3M [00:00<?, ?B/s]"
      ]
     },
     "metadata": {},
     "output_type": "display_data"
    },
    {
     "name": "stderr",
     "output_type": "stream",
     "text": [
      "INFO:root:Sending the U-Net model to device 0\n",
      "INFO:root:Loading in the saved weights.\n",
      "INFO:root:Volume to be rotated by 0 degrees\n",
      "INFO:root:Predicting YX slices:\n",
      "INFO:root:Free GPU memory is 31.66 GB. Batch size will be 4.\n",
      "INFO:root:Predicting segmentation for volume of shape (256, 256, 256).\n",
      "Prediction batch: 100%|██████████████████████████████| 64/64 [00:51<00:00,  1.23it/s]\n",
      "INFO:root:Completed prediction. Now manipulating result before returning.\n",
      "INFO:root:self.NN1_volsegm_pred_path provided:./VS_prediction.h5. Will merge and save to predicted labels using volumesegmantics method.\n",
      "INFO:root:Saving data of shape (256, 256, 256, 3) to /tmp/tmpdcngjhzx/pred_0_YX_0.h5 with kwargs {}.\n",
      "INFO:root:Saving data of shape (256, 256, 256) to /tmp/tmpdcngjhzx/pred_0_YX_labels_0.h5 with kwargs {}.\n",
      "INFO:root:Predicting ZX slices:\n",
      "INFO:root:Free GPU memory is 31.66 GB. Batch size will be 4.\n",
      "INFO:root:Predicting segmentation for volume of shape (256, 256, 256).\n",
      "Prediction batch: 100%|██████████████████████████████| 64/64 [00:01<00:00, 48.40it/s]\n",
      "INFO:root:Completed prediction. Now manipulating result before returning.\n",
      "INFO:root:Saving data of shape (256, 256, 256, 3) to /tmp/tmpdcngjhzx/pred_0_ZX_0.h5 with kwargs {}.\n",
      "INFO:root:Saving data of shape (256, 256, 256) to /tmp/tmpdcngjhzx/pred_0_ZX_labels_0.h5 with kwargs {}.\n",
      "INFO:root:Predicting ZY slices:\n",
      "INFO:root:Free GPU memory is 31.66 GB. Batch size will be 4.\n",
      "INFO:root:Predicting segmentation for volume of shape (256, 256, 256).\n",
      "Prediction batch: 100%|██████████████████████████████| 64/64 [00:02<00:00, 29.24it/s]\n",
      "INFO:root:Completed prediction. Now manipulating result before returning.\n",
      "INFO:root:Saving data of shape (256, 256, 256, 3) to /tmp/tmpdcngjhzx/pred_0_ZY_0.h5 with kwargs {}.\n",
      "INFO:root:Saving data of shape (256, 256, 256) to /tmp/tmpdcngjhzx/pred_0_ZY_labels_0.h5 with kwargs {}.\n",
      "INFO:root:Volume to be rotated by 90 degrees\n",
      "INFO:root:Predicting YX slices:\n",
      "INFO:root:Free GPU memory is 31.66 GB. Batch size will be 4.\n",
      "INFO:root:Predicting segmentation for volume of shape (256, 256, 256).\n",
      "Prediction batch: 100%|██████████████████████████████| 64/64 [00:02<00:00, 29.03it/s]\n",
      "INFO:root:Completed prediction. Now manipulating result before returning.\n",
      "INFO:root:Saving data of shape (256, 256, 256, 3) to /tmp/tmpdcngjhzx/pred_0_YX_90.h5 with kwargs {}.\n",
      "INFO:root:Saving data of shape (256, 256, 256) to /tmp/tmpdcngjhzx/pred_0_YX_labels_90.h5 with kwargs {}.\n",
      "INFO:root:Predicting ZX slices:\n",
      "INFO:root:Free GPU memory is 31.66 GB. Batch size will be 4.\n",
      "INFO:root:Predicting segmentation for volume of shape (256, 256, 256).\n",
      "Prediction batch: 100%|██████████████████████████████| 64/64 [00:01<00:00, 37.81it/s]\n",
      "INFO:root:Completed prediction. Now manipulating result before returning.\n",
      "INFO:root:Saving data of shape (256, 256, 256, 3) to /tmp/tmpdcngjhzx/pred_0_ZX_90.h5 with kwargs {}.\n",
      "INFO:root:Saving data of shape (256, 256, 256) to /tmp/tmpdcngjhzx/pred_0_ZX_labels_90.h5 with kwargs {}.\n",
      "INFO:root:Predicting ZY slices:\n",
      "INFO:root:Free GPU memory is 31.66 GB. Batch size will be 4.\n",
      "INFO:root:Predicting segmentation for volume of shape (256, 256, 256).\n",
      "Prediction batch: 100%|██████████████████████████████| 64/64 [00:02<00:00, 26.54it/s]\n",
      "INFO:root:Completed prediction. Now manipulating result before returning.\n",
      "INFO:root:Saving data of shape (256, 256, 256, 3) to /tmp/tmpdcngjhzx/pred_0_ZY_90.h5 with kwargs {}.\n",
      "INFO:root:Saving data of shape (256, 256, 256) to /tmp/tmpdcngjhzx/pred_0_ZY_labels_90.h5 with kwargs {}.\n",
      "INFO:root:Volume to be rotated by 180 degrees\n",
      "INFO:root:Predicting YX slices:\n",
      "INFO:root:Free GPU memory is 31.66 GB. Batch size will be 4.\n",
      "INFO:root:Predicting segmentation for volume of shape (256, 256, 256).\n",
      "Prediction batch: 100%|██████████████████████████████| 64/64 [00:01<00:00, 49.58it/s]\n",
      "INFO:root:Completed prediction. Now manipulating result before returning.\n",
      "INFO:root:Saving data of shape (256, 256, 256, 3) to /tmp/tmpdcngjhzx/pred_0_YX_180.h5 with kwargs {}.\n",
      "INFO:root:Saving data of shape (256, 256, 256) to /tmp/tmpdcngjhzx/pred_0_YX_labels_180.h5 with kwargs {}.\n",
      "INFO:root:Predicting ZX slices:\n",
      "INFO:root:Free GPU memory is 31.66 GB. Batch size will be 4.\n",
      "INFO:root:Predicting segmentation for volume of shape (256, 256, 256).\n",
      "Prediction batch: 100%|██████████████████████████████| 64/64 [00:01<00:00, 41.03it/s]\n",
      "INFO:root:Completed prediction. Now manipulating result before returning.\n",
      "INFO:root:Saving data of shape (256, 256, 256, 3) to /tmp/tmpdcngjhzx/pred_0_ZX_180.h5 with kwargs {}.\n",
      "INFO:root:Saving data of shape (256, 256, 256) to /tmp/tmpdcngjhzx/pred_0_ZX_labels_180.h5 with kwargs {}.\n",
      "INFO:root:Predicting ZY slices:\n",
      "INFO:root:Free GPU memory is 31.66 GB. Batch size will be 4.\n",
      "INFO:root:Predicting segmentation for volume of shape (256, 256, 256).\n",
      "Prediction batch: 100%|██████████████████████████████| 64/64 [00:01<00:00, 43.48it/s]\n",
      "INFO:root:Completed prediction. Now manipulating result before returning.\n",
      "INFO:root:Saving data of shape (256, 256, 256, 3) to /tmp/tmpdcngjhzx/pred_0_ZY_180.h5 with kwargs {}.\n",
      "INFO:root:Saving data of shape (256, 256, 256) to /tmp/tmpdcngjhzx/pred_0_ZY_labels_180.h5 with kwargs {}.\n",
      "INFO:root:Volume to be rotated by 270 degrees\n",
      "INFO:root:Predicting YX slices:\n",
      "INFO:root:Free GPU memory is 31.66 GB. Batch size will be 4.\n",
      "INFO:root:Predicting segmentation for volume of shape (256, 256, 256).\n",
      "Prediction batch: 100%|██████████████████████████████| 64/64 [00:01<00:00, 45.76it/s]\n",
      "INFO:root:Completed prediction. Now manipulating result before returning.\n",
      "INFO:root:Saving data of shape (256, 256, 256, 3) to /tmp/tmpdcngjhzx/pred_0_YX_270.h5 with kwargs {}.\n",
      "INFO:root:Saving data of shape (256, 256, 256) to /tmp/tmpdcngjhzx/pred_0_YX_labels_270.h5 with kwargs {}.\n",
      "INFO:root:Predicting ZX slices:\n",
      "INFO:root:Free GPU memory is 31.66 GB. Batch size will be 4.\n",
      "INFO:root:Predicting segmentation for volume of shape (256, 256, 256).\n",
      "Prediction batch: 100%|██████████████████████████████| 64/64 [00:01<00:00, 50.82it/s]\n",
      "INFO:root:Completed prediction. Now manipulating result before returning.\n",
      "INFO:root:Saving data of shape (256, 256, 256, 3) to /tmp/tmpdcngjhzx/pred_0_ZX_270.h5 with kwargs {}.\n",
      "INFO:root:Saving data of shape (256, 256, 256) to /tmp/tmpdcngjhzx/pred_0_ZX_labels_270.h5 with kwargs {}.\n",
      "INFO:root:Predicting ZY slices:\n",
      "INFO:root:Free GPU memory is 31.66 GB. Batch size will be 4.\n",
      "INFO:root:Predicting segmentation for volume of shape (256, 256, 256).\n",
      "Prediction batch: 100%|██████████████████████████████| 64/64 [00:01<00:00, 36.56it/s]\n",
      "INFO:root:Completed prediction. Now manipulating result before returning.\n",
      "INFO:root:Saving data of shape (256, 256, 256, 3) to /tmp/tmpdcngjhzx/pred_0_ZY_270.h5 with kwargs {}.\n",
      "INFO:root:Saving data of shape (256, 256, 256) to /tmp/tmpdcngjhzx/pred_0_ZY_labels_270.h5 with kwargs {}.\n",
      "INFO:root:volsegm_pred_path provided:./VS_prediction.h5, saving merged prediction labels\n",
      "INFO:root:Saving data of shape (256, 256, 256) to ./VS_prediction.h5 with kwargs {}.\n",
      "INFO:root:Saving data of shape (256, 256, 256) to ./consistency_score.h5 with kwargs {}.\n",
      "INFO:root:NN1 prediction, complete.\n",
      "INFO:root:all_pred_pd\n",
      "INFO:root:            pred_data_probs_filenames  \\\n",
      "0     /tmp/tmpdcngjhzx/pred_0_YX_0.h5   \n",
      "1     /tmp/tmpdcngjhzx/pred_0_ZX_0.h5   \n",
      "2     /tmp/tmpdcngjhzx/pred_0_ZY_0.h5   \n",
      "3    /tmp/tmpdcngjhzx/pred_0_YX_90.h5   \n",
      "4    /tmp/tmpdcngjhzx/pred_0_ZX_90.h5   \n",
      "5    /tmp/tmpdcngjhzx/pred_0_ZY_90.h5   \n",
      "6   /tmp/tmpdcngjhzx/pred_0_YX_180.h5   \n",
      "7   /tmp/tmpdcngjhzx/pred_0_ZX_180.h5   \n",
      "8   /tmp/tmpdcngjhzx/pred_0_ZY_180.h5   \n",
      "9   /tmp/tmpdcngjhzx/pred_0_YX_270.h5   \n",
      "10  /tmp/tmpdcngjhzx/pred_0_ZX_270.h5   \n",
      "11  /tmp/tmpdcngjhzx/pred_0_ZY_270.h5   \n",
      "\n",
      "                  pred_data_labels_filenames  pred_sets pred_planes  \\\n",
      "0     /tmp/tmpdcngjhzx/pred_0_YX_labels_0.h5          0          YX   \n",
      "1     /tmp/tmpdcngjhzx/pred_0_ZX_labels_0.h5          0          ZX   \n",
      "2     /tmp/tmpdcngjhzx/pred_0_ZY_labels_0.h5          0          ZY   \n",
      "3    /tmp/tmpdcngjhzx/pred_0_YX_labels_90.h5          0          YX   \n",
      "4    /tmp/tmpdcngjhzx/pred_0_ZX_labels_90.h5          0          ZX   \n",
      "5    /tmp/tmpdcngjhzx/pred_0_ZY_labels_90.h5          0          ZY   \n",
      "6   /tmp/tmpdcngjhzx/pred_0_YX_labels_180.h5          0          YX   \n",
      "7   /tmp/tmpdcngjhzx/pred_0_ZX_labels_180.h5          0          ZX   \n",
      "8   /tmp/tmpdcngjhzx/pred_0_ZY_labels_180.h5          0          ZY   \n",
      "9   /tmp/tmpdcngjhzx/pred_0_YX_labels_270.h5          0          YX   \n",
      "10  /tmp/tmpdcngjhzx/pred_0_ZX_labels_270.h5          0          ZX   \n",
      "11  /tmp/tmpdcngjhzx/pred_0_ZY_labels_270.h5          0          ZY   \n",
      "\n",
      "    pred_rots  pred_ipred      pred_shapes  \n",
      "0           0           0  (256, 256, 256)  \n",
      "1           0           1  (256, 256, 256)  \n",
      "2           0           2  (256, 256, 256)  \n",
      "3          90           3  (256, 256, 256)  \n",
      "4          90           4  (256, 256, 256)  \n",
      "5          90           5  (256, 256, 256)  \n",
      "6         180           6  (256, 256, 256)  \n",
      "7         180           7  (256, 256, 256)  \n",
      "8         180           8  (256, 256, 256)  \n",
      "9         270           9  (256, 256, 256)  \n",
      "10        270          10  (256, 256, 256)  \n",
      "11        270          11  (256, 256, 256)  \n",
      "INFO:root:Building large object containing all predictions.\n",
      "INFO:root:use_dask=False. Will try to aggregate data to a numpy.ndarray\n",
      "  0%|          | 0/12 [00:00<?, ?it/s]INFO:root:data0.shape:(256, 256, 256, 3)\n",
      "  0%|          | 0/12 [00:00<?, ?it/s]\n",
      "INFO:root:Allocation using numpy failed. Failsafe will use dask.\n",
      "INFO:root:Exception type:<class 'AttributeError'>\n",
      "INFO:root:use_dask=True. Will aggregate data to a dask.array object\n",
      "  0%|          | 0/12 [00:00<?, ?it/s]INFO:root:i:0, data0.shape:(256, 256, 256, 3), data0.chunksize:(256, 256, 256, 3) \n",
      "INFO:root:npredictions:12\n",
      "INFO:root:data_all shape:(12, 256, 256, 256, 3) chunks_shape:(12, 256, 256, 256, 3)\n",
      "100%|██████████| 12/12 [00:00<00:00, 88.83it/s]\n",
      "INFO:root:Setting up NN2 prediction\n",
      "INFO:root:Data type is dask.core.Array\n"
     ]
    },
    {
     "name": "stdout",
     "output_type": "stream",
     "text": [
      "[########################################] | 100% Completed | 31.12 ss\n"
     ]
    },
    {
     "name": "stderr",
     "output_type": "stream",
     "text": [
      "INFO:root:NN2 prediction complete.\n"
     ]
    }
   ],
   "source": [
    "pred_labels = lgsegmentor0.predict(data_to_pred)"
   ]
  },
  {
   "cell_type": "markdown",
   "metadata": {},
   "source": [
    "# Visualise result"
   ]
  },
  {
   "cell_type": "code",
   "execution_count": 10,
   "metadata": {},
   "outputs": [],
   "source": [
    "import leopardgecko.utils as lgu\n",
    "data_cscore = lgu.read_h5_to_np(\"./consistency_score.h5\")\n",
    "pred_vs = lgu.read_h5_to_np(\"./VS_prediction.h5\")"
   ]
  },
  {
   "cell_type": "code",
   "execution_count": 11,
   "metadata": {},
   "outputs": [
    {
     "data": {
      "text/plain": [
       "<Image layer 'data_cscore' at 0x7f46843f4430>"
      ]
     },
     "execution_count": 11,
     "metadata": {},
     "output_type": "execute_result"
    }
   ],
   "source": [
    "import napari\n",
    "NV=napari.Viewer()\n",
    "NV.add_image(data_to_pred)\n",
    "NV.add_labels(labels_to_compare)\n",
    "NV.add_labels(pred_labels, color={1:'green'})\n",
    "NV.add_labels(pred_vs, color={1:'blue'})\n",
    "NV.add_image(data_cscore)"
   ]
  },
  {
   "cell_type": "markdown",
   "metadata": {},
   "source": [
    "# Compare against ground truth\n",
    "\n",
    "Use leopardgecko metrics to get voxel-F1 (dice score)"
   ]
  },
  {
   "cell_type": "code",
   "execution_count": 12,
   "metadata": {},
   "outputs": [],
   "source": [
    "import leopardgecko.metrics as lgm"
   ]
  },
  {
   "cell_type": "code",
   "execution_count": 13,
   "metadata": {},
   "outputs": [
    {
     "name": "stderr",
     "output_type": "stream",
     "text": [
      "INFO:root:MetricScoreOfVols_Dice()\n",
      "INFO:root:Number of class segmentations in first volume 3\n",
      "INFO:root:Number of class segmentations in second volume 3\n",
      "INFO:root:Calculating using numpy\n",
      "INFO:root:dicescores = {1: 0.5188051691479704, 2: 0.5507384751326172}\n"
     ]
    },
    {
     "data": {
      "text/plain": [
       "(0.5347718221402937, {1: 0.5188051691479704, 2: 0.5507384751326172})"
      ]
     },
     "execution_count": 13,
     "metadata": {},
     "output_type": "execute_result"
    }
   ],
   "source": [
    "lgm.MetricScoreOfVols_Dice(pred_labels,labels_to_compare)"
   ]
  },
  {
   "cell_type": "markdown",
   "metadata": {},
   "source": [
    "# Run the prediction in blocks?\n",
    "\n",
    "Note that the way that this works is by using the block map function, so the CS output (to a file) will not be assembled appropriately like the resulting data is."
   ]
  },
  {
   "cell_type": "code",
   "execution_count": 14,
   "metadata": {},
   "outputs": [],
   "source": [
    "lgsegmentor0.NN1_consistencyscore_outpath=None"
   ]
  }
 ],
 "metadata": {
  "kernelspec": {
   "display_name": "Python 3",
   "language": "python",
   "name": "python3"
  },
  "language_info": {
   "codemirror_mode": {
    "name": "ipython",
    "version": 3
   },
   "file_extension": ".py",
   "mimetype": "text/x-python",
   "name": "python",
   "nbconvert_exporter": "python",
   "pygments_lexer": "ipython3",
   "version": "3.9.18"
  },
  "orig_nbformat": 4
 },
 "nbformat": 4,
 "nbformat_minor": 2
}
