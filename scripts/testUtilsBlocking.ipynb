{
 "cells": [
  {
   "cell_type": "markdown",
   "metadata": {},
   "source": [
    "# Test map_vol_function_by_blocking() in utils.py"
   ]
  },
  {
   "cell_type": "code",
   "execution_count": 1,
   "metadata": {},
   "outputs": [],
   "source": [
    "import numpy as np\n",
    "from leopardgecko.utils import *"
   ]
  },
  {
   "cell_type": "markdown",
   "metadata": {},
   "source": [
    "imput array to test processing"
   ]
  },
  {
   "cell_type": "code",
   "execution_count": 2,
   "metadata": {},
   "outputs": [],
   "source": [
    "a= np.random.random((128,128,128))*10+10 #values ranging from 10 to 20"
   ]
  },
  {
   "cell_type": "code",
   "execution_count": 3,
   "metadata": {},
   "outputs": [
    {
     "name": "stdout",
     "output_type": "stream",
     "text": [
      "10.000002448913008\n",
      "19.999997918365743\n"
     ]
    }
   ],
   "source": [
    "print(a.min())\n",
    "print(a.max())"
   ]
  },
  {
   "cell_type": "markdown",
   "metadata": {},
   "source": [
    "ground truth result. multiply by 9/5 and add 32 (conversion from Celsius to Farenheit)"
   ]
  },
  {
   "cell_type": "code",
   "execution_count": 4,
   "metadata": {},
   "outputs": [],
   "source": [
    "res_gnd = a*9.0/5.0+32.0"
   ]
  },
  {
   "cell_type": "code",
   "execution_count": null,
   "metadata": {},
   "outputs": [],
   "source": []
  },
  {
   "cell_type": "markdown",
   "metadata": {},
   "source": [
    "Define conversion function and \"partialise-it\" to convertCtoF"
   ]
  },
  {
   "cell_type": "code",
   "execution_count": 5,
   "metadata": {},
   "outputs": [],
   "source": [
    "def convert(v3d, mult0, add0):\n",
    "    return v3d*mult0+add0\n",
    "\n",
    "import functools\n",
    "convertCtoF = functools.partial(convert, mult0=9.0/5.0, add0=32.0)\n"
   ]
  },
  {
   "cell_type": "markdown",
   "metadata": {},
   "source": [
    "Convert whole array without blocking and check against ground truth"
   ]
  },
  {
   "cell_type": "code",
   "execution_count": 6,
   "metadata": {},
   "outputs": [],
   "source": [
    "a_conv = convertCtoF(a)"
   ]
  },
  {
   "cell_type": "code",
   "execution_count": 7,
   "metadata": {},
   "outputs": [
    {
     "data": {
      "text/plain": [
       "True"
      ]
     },
     "execution_count": 7,
     "metadata": {},
     "output_type": "execute_result"
    }
   ],
   "source": [
    "np.allclose(a_conv, res_gnd)"
   ]
  },
  {
   "cell_type": "markdown",
   "metadata": {},
   "source": [
    "# Blocking"
   ]
  },
  {
   "cell_type": "code",
   "execution_count": 8,
   "metadata": {},
   "outputs": [],
   "source": [
    "import logging\n",
    "logging.basicConfig(level=logging.DEBUG)"
   ]
  },
  {
   "cell_type": "code",
   "execution_count": 9,
   "metadata": {},
   "outputs": [
    {
     "name": "stderr",
     "output_type": "stream",
     "text": [
      "DEBUG:root:map_vol_function_by_blocking() , data3d.shape:(128, 128, 128) ,dtype:float64 block_shape:(60, 50, 40), margins_shape:(4, 3, 6)\n",
      "DEBUG:root:bl_step:[52, 44, 28]\n",
      "INFO:root:BLOCK: New block, intended origin iz0,iy0,ix0 = 0,0,0 , use origin iz00,iy00,ix00 = 0,0,0 , end iz1,iy1,ix1 = 60,50,40\n",
      "INFO:root:BLOCK: Start calculation with this block\n",
      "INFO:root:BLOCK: This block's calculation completed\n",
      "INFO:root:BLOCK:Crop block result from origin jz0,jy0,jx0 = : 0,0,0\n",
      "INFO:root:BLOCK:Copying cropped block to datares\n",
      "INFO:root:BLOCK: First block result initialises datares\n",
      "INFO:root:BLOCK: New block, intended origin iz0,iy0,ix0 = 0,0,28 , use origin iz00,iy00,ix00 = 0,0,28 , end iz1,iy1,ix1 = 60,50,68\n",
      "INFO:root:BLOCK: Start calculation with this block\n",
      "INFO:root:BLOCK: This block's calculation completed\n",
      "INFO:root:BLOCK:Crop block result from origin jz0,jy0,jx0 = : 0,0,6\n",
      "INFO:root:BLOCK:Copying cropped block to datares\n",
      "INFO:root:BLOCK: New block, intended origin iz0,iy0,ix0 = 0,0,56 , use origin iz00,iy00,ix00 = 0,0,56 , end iz1,iy1,ix1 = 60,50,96\n",
      "INFO:root:BLOCK: Start calculation with this block\n",
      "INFO:root:BLOCK: This block's calculation completed\n",
      "INFO:root:BLOCK:Crop block result from origin jz0,jy0,jx0 = : 0,0,6\n",
      "INFO:root:BLOCK:Copying cropped block to datares\n",
      "INFO:root:BLOCK: New block, intended origin iz0,iy0,ix0 = 0,0,84 , use origin iz00,iy00,ix00 = 0,0,84 , end iz1,iy1,ix1 = 60,50,124\n",
      "INFO:root:BLOCK: Start calculation with this block\n",
      "INFO:root:BLOCK: This block's calculation completed\n",
      "INFO:root:BLOCK:Crop block result from origin jz0,jy0,jx0 = : 0,0,6\n",
      "INFO:root:BLOCK:Copying cropped block to datares\n",
      "INFO:root:BLOCK: New block, intended origin iz0,iy0,ix0 = 0,0,112 , use origin iz00,iy00,ix00 = 0,0,88 , end iz1,iy1,ix1 = 60,50,128\n",
      "INFO:root:BLOCK: Start calculation with this block\n",
      "INFO:root:BLOCK: This block's calculation completed\n",
      "INFO:root:BLOCK:Crop block result from origin jz0,jy0,jx0 = : 0,0,6\n",
      "INFO:root:BLOCK:Copying cropped block to datares\n",
      "INFO:root:BLOCK: New block, intended origin iz0,iy0,ix0 = 0,44,0 , use origin iz00,iy00,ix00 = 0,44,0 , end iz1,iy1,ix1 = 60,94,40\n",
      "INFO:root:BLOCK: Start calculation with this block\n",
      "INFO:root:BLOCK: This block's calculation completed\n",
      "INFO:root:BLOCK:Crop block result from origin jz0,jy0,jx0 = : 0,3,0\n",
      "INFO:root:BLOCK:Copying cropped block to datares\n",
      "INFO:root:BLOCK: New block, intended origin iz0,iy0,ix0 = 0,44,28 , use origin iz00,iy00,ix00 = 0,44,28 , end iz1,iy1,ix1 = 60,94,68\n",
      "INFO:root:BLOCK: Start calculation with this block\n",
      "INFO:root:BLOCK: This block's calculation completed\n",
      "INFO:root:BLOCK:Crop block result from origin jz0,jy0,jx0 = : 0,3,6\n",
      "INFO:root:BLOCK:Copying cropped block to datares\n",
      "INFO:root:BLOCK: New block, intended origin iz0,iy0,ix0 = 0,44,56 , use origin iz00,iy00,ix00 = 0,44,56 , end iz1,iy1,ix1 = 60,94,96\n",
      "INFO:root:BLOCK: Start calculation with this block\n",
      "INFO:root:BLOCK: This block's calculation completed\n",
      "INFO:root:BLOCK:Crop block result from origin jz0,jy0,jx0 = : 0,3,6\n",
      "INFO:root:BLOCK:Copying cropped block to datares\n",
      "INFO:root:BLOCK: New block, intended origin iz0,iy0,ix0 = 0,44,84 , use origin iz00,iy00,ix00 = 0,44,84 , end iz1,iy1,ix1 = 60,94,124\n",
      "INFO:root:BLOCK: Start calculation with this block\n",
      "INFO:root:BLOCK: This block's calculation completed\n",
      "INFO:root:BLOCK:Crop block result from origin jz0,jy0,jx0 = : 0,3,6\n",
      "INFO:root:BLOCK:Copying cropped block to datares\n",
      "INFO:root:BLOCK: New block, intended origin iz0,iy0,ix0 = 0,44,112 , use origin iz00,iy00,ix00 = 0,44,88 , end iz1,iy1,ix1 = 60,94,128\n",
      "INFO:root:BLOCK: Start calculation with this block\n",
      "INFO:root:BLOCK: This block's calculation completed\n",
      "INFO:root:BLOCK:Crop block result from origin jz0,jy0,jx0 = : 0,3,6\n",
      "INFO:root:BLOCK:Copying cropped block to datares\n",
      "INFO:root:BLOCK: New block, intended origin iz0,iy0,ix0 = 0,88,0 , use origin iz00,iy00,ix00 = 0,78,0 , end iz1,iy1,ix1 = 60,128,40\n",
      "INFO:root:BLOCK: Start calculation with this block\n",
      "INFO:root:BLOCK: This block's calculation completed\n",
      "INFO:root:BLOCK:Crop block result from origin jz0,jy0,jx0 = : 0,3,0\n",
      "INFO:root:BLOCK:Copying cropped block to datares\n",
      "INFO:root:BLOCK: New block, intended origin iz0,iy0,ix0 = 0,88,28 , use origin iz00,iy00,ix00 = 0,78,28 , end iz1,iy1,ix1 = 60,128,68\n",
      "INFO:root:BLOCK: Start calculation with this block\n",
      "INFO:root:BLOCK: This block's calculation completed\n",
      "INFO:root:BLOCK:Crop block result from origin jz0,jy0,jx0 = : 0,3,6\n",
      "INFO:root:BLOCK:Copying cropped block to datares\n",
      "INFO:root:BLOCK: New block, intended origin iz0,iy0,ix0 = 0,88,56 , use origin iz00,iy00,ix00 = 0,78,56 , end iz1,iy1,ix1 = 60,128,96\n",
      "INFO:root:BLOCK: Start calculation with this block\n",
      "INFO:root:BLOCK: This block's calculation completed\n",
      "INFO:root:BLOCK:Crop block result from origin jz0,jy0,jx0 = : 0,3,6\n",
      "INFO:root:BLOCK:Copying cropped block to datares\n",
      "INFO:root:BLOCK: New block, intended origin iz0,iy0,ix0 = 0,88,84 , use origin iz00,iy00,ix00 = 0,78,84 , end iz1,iy1,ix1 = 60,128,124\n",
      "INFO:root:BLOCK: Start calculation with this block\n",
      "INFO:root:BLOCK: This block's calculation completed\n",
      "INFO:root:BLOCK:Crop block result from origin jz0,jy0,jx0 = : 0,3,6\n",
      "INFO:root:BLOCK:Copying cropped block to datares\n",
      "INFO:root:BLOCK: New block, intended origin iz0,iy0,ix0 = 0,88,112 , use origin iz00,iy00,ix00 = 0,78,88 , end iz1,iy1,ix1 = 60,128,128\n",
      "INFO:root:BLOCK: Start calculation with this block\n",
      "INFO:root:BLOCK: This block's calculation completed\n",
      "INFO:root:BLOCK:Crop block result from origin jz0,jy0,jx0 = : 0,3,6\n",
      "INFO:root:BLOCK:Copying cropped block to datares\n",
      "INFO:root:BLOCK: New block, intended origin iz0,iy0,ix0 = 52,0,0 , use origin iz00,iy00,ix00 = 52,0,0 , end iz1,iy1,ix1 = 112,50,40\n",
      "INFO:root:BLOCK: Start calculation with this block\n",
      "INFO:root:BLOCK: This block's calculation completed\n",
      "INFO:root:BLOCK:Crop block result from origin jz0,jy0,jx0 = : 4,0,0\n",
      "INFO:root:BLOCK:Copying cropped block to datares\n",
      "INFO:root:BLOCK: New block, intended origin iz0,iy0,ix0 = 52,0,28 , use origin iz00,iy00,ix00 = 52,0,28 , end iz1,iy1,ix1 = 112,50,68\n",
      "INFO:root:BLOCK: Start calculation with this block\n",
      "INFO:root:BLOCK: This block's calculation completed\n",
      "INFO:root:BLOCK:Crop block result from origin jz0,jy0,jx0 = : 4,0,6\n",
      "INFO:root:BLOCK:Copying cropped block to datares\n",
      "INFO:root:BLOCK: New block, intended origin iz0,iy0,ix0 = 52,0,56 , use origin iz00,iy00,ix00 = 52,0,56 , end iz1,iy1,ix1 = 112,50,96\n",
      "INFO:root:BLOCK: Start calculation with this block\n",
      "INFO:root:BLOCK: This block's calculation completed\n",
      "INFO:root:BLOCK:Crop block result from origin jz0,jy0,jx0 = : 4,0,6\n",
      "INFO:root:BLOCK:Copying cropped block to datares\n",
      "INFO:root:BLOCK: New block, intended origin iz0,iy0,ix0 = 52,0,84 , use origin iz00,iy00,ix00 = 52,0,84 , end iz1,iy1,ix1 = 112,50,124\n",
      "INFO:root:BLOCK: Start calculation with this block\n",
      "INFO:root:BLOCK: This block's calculation completed\n",
      "INFO:root:BLOCK:Crop block result from origin jz0,jy0,jx0 = : 4,0,6\n",
      "INFO:root:BLOCK:Copying cropped block to datares\n",
      "INFO:root:BLOCK: New block, intended origin iz0,iy0,ix0 = 52,0,112 , use origin iz00,iy00,ix00 = 52,0,88 , end iz1,iy1,ix1 = 112,50,128\n",
      "INFO:root:BLOCK: Start calculation with this block\n",
      "INFO:root:BLOCK: This block's calculation completed\n",
      "INFO:root:BLOCK:Crop block result from origin jz0,jy0,jx0 = : 4,0,6\n",
      "INFO:root:BLOCK:Copying cropped block to datares\n",
      "INFO:root:BLOCK: New block, intended origin iz0,iy0,ix0 = 52,44,0 , use origin iz00,iy00,ix00 = 52,44,0 , end iz1,iy1,ix1 = 112,94,40\n",
      "INFO:root:BLOCK: Start calculation with this block\n",
      "INFO:root:BLOCK: This block's calculation completed\n",
      "INFO:root:BLOCK:Crop block result from origin jz0,jy0,jx0 = : 4,3,0\n",
      "INFO:root:BLOCK:Copying cropped block to datares\n",
      "INFO:root:BLOCK: New block, intended origin iz0,iy0,ix0 = 52,44,28 , use origin iz00,iy00,ix00 = 52,44,28 , end iz1,iy1,ix1 = 112,94,68\n",
      "INFO:root:BLOCK: Start calculation with this block\n",
      "INFO:root:BLOCK: This block's calculation completed\n",
      "INFO:root:BLOCK:Crop block result from origin jz0,jy0,jx0 = : 4,3,6\n",
      "INFO:root:BLOCK:Copying cropped block to datares\n",
      "INFO:root:BLOCK: New block, intended origin iz0,iy0,ix0 = 52,44,56 , use origin iz00,iy00,ix00 = 52,44,56 , end iz1,iy1,ix1 = 112,94,96\n",
      "INFO:root:BLOCK: Start calculation with this block\n",
      "INFO:root:BLOCK: This block's calculation completed\n",
      "INFO:root:BLOCK:Crop block result from origin jz0,jy0,jx0 = : 4,3,6\n",
      "INFO:root:BLOCK:Copying cropped block to datares\n",
      "INFO:root:BLOCK: New block, intended origin iz0,iy0,ix0 = 52,44,84 , use origin iz00,iy00,ix00 = 52,44,84 , end iz1,iy1,ix1 = 112,94,124\n",
      "INFO:root:BLOCK: Start calculation with this block\n",
      "INFO:root:BLOCK: This block's calculation completed\n",
      "INFO:root:BLOCK:Crop block result from origin jz0,jy0,jx0 = : 4,3,6\n",
      "INFO:root:BLOCK:Copying cropped block to datares\n",
      "INFO:root:BLOCK: New block, intended origin iz0,iy0,ix0 = 52,44,112 , use origin iz00,iy00,ix00 = 52,44,88 , end iz1,iy1,ix1 = 112,94,128\n",
      "INFO:root:BLOCK: Start calculation with this block\n",
      "INFO:root:BLOCK: This block's calculation completed\n",
      "INFO:root:BLOCK:Crop block result from origin jz0,jy0,jx0 = : 4,3,6\n",
      "INFO:root:BLOCK:Copying cropped block to datares\n",
      "INFO:root:BLOCK: New block, intended origin iz0,iy0,ix0 = 52,88,0 , use origin iz00,iy00,ix00 = 52,78,0 , end iz1,iy1,ix1 = 112,128,40\n",
      "INFO:root:BLOCK: Start calculation with this block\n",
      "INFO:root:BLOCK: This block's calculation completed\n",
      "INFO:root:BLOCK:Crop block result from origin jz0,jy0,jx0 = : 4,3,0\n",
      "INFO:root:BLOCK:Copying cropped block to datares\n",
      "INFO:root:BLOCK: New block, intended origin iz0,iy0,ix0 = 52,88,28 , use origin iz00,iy00,ix00 = 52,78,28 , end iz1,iy1,ix1 = 112,128,68\n",
      "INFO:root:BLOCK: Start calculation with this block\n",
      "INFO:root:BLOCK: This block's calculation completed\n",
      "INFO:root:BLOCK:Crop block result from origin jz0,jy0,jx0 = : 4,3,6\n",
      "INFO:root:BLOCK:Copying cropped block to datares\n",
      "INFO:root:BLOCK: New block, intended origin iz0,iy0,ix0 = 52,88,56 , use origin iz00,iy00,ix00 = 52,78,56 , end iz1,iy1,ix1 = 112,128,96\n",
      "INFO:root:BLOCK: Start calculation with this block\n",
      "INFO:root:BLOCK: This block's calculation completed\n",
      "INFO:root:BLOCK:Crop block result from origin jz0,jy0,jx0 = : 4,3,6\n",
      "INFO:root:BLOCK:Copying cropped block to datares\n",
      "INFO:root:BLOCK: New block, intended origin iz0,iy0,ix0 = 52,88,84 , use origin iz00,iy00,ix00 = 52,78,84 , end iz1,iy1,ix1 = 112,128,124\n",
      "INFO:root:BLOCK: Start calculation with this block\n",
      "INFO:root:BLOCK: This block's calculation completed\n",
      "INFO:root:BLOCK:Crop block result from origin jz0,jy0,jx0 = : 4,3,6\n",
      "INFO:root:BLOCK:Copying cropped block to datares\n",
      "INFO:root:BLOCK: New block, intended origin iz0,iy0,ix0 = 52,88,112 , use origin iz00,iy00,ix00 = 52,78,88 , end iz1,iy1,ix1 = 112,128,128\n",
      "INFO:root:BLOCK: Start calculation with this block\n",
      "INFO:root:BLOCK: This block's calculation completed\n",
      "INFO:root:BLOCK:Crop block result from origin jz0,jy0,jx0 = : 4,3,6\n",
      "INFO:root:BLOCK:Copying cropped block to datares\n",
      "INFO:root:BLOCK: New block, intended origin iz0,iy0,ix0 = 104,0,0 , use origin iz00,iy00,ix00 = 68,0,0 , end iz1,iy1,ix1 = 128,50,40\n",
      "INFO:root:BLOCK: Start calculation with this block\n",
      "INFO:root:BLOCK: This block's calculation completed\n",
      "INFO:root:BLOCK:Crop block result from origin jz0,jy0,jx0 = : 4,0,0\n",
      "INFO:root:BLOCK:Copying cropped block to datares\n",
      "INFO:root:BLOCK: New block, intended origin iz0,iy0,ix0 = 104,0,28 , use origin iz00,iy00,ix00 = 68,0,28 , end iz1,iy1,ix1 = 128,50,68\n",
      "INFO:root:BLOCK: Start calculation with this block\n",
      "INFO:root:BLOCK: This block's calculation completed\n",
      "INFO:root:BLOCK:Crop block result from origin jz0,jy0,jx0 = : 4,0,6\n",
      "INFO:root:BLOCK:Copying cropped block to datares\n",
      "INFO:root:BLOCK: New block, intended origin iz0,iy0,ix0 = 104,0,56 , use origin iz00,iy00,ix00 = 68,0,56 , end iz1,iy1,ix1 = 128,50,96\n",
      "INFO:root:BLOCK: Start calculation with this block\n",
      "INFO:root:BLOCK: This block's calculation completed\n",
      "INFO:root:BLOCK:Crop block result from origin jz0,jy0,jx0 = : 4,0,6\n",
      "INFO:root:BLOCK:Copying cropped block to datares\n",
      "INFO:root:BLOCK: New block, intended origin iz0,iy0,ix0 = 104,0,84 , use origin iz00,iy00,ix00 = 68,0,84 , end iz1,iy1,ix1 = 128,50,124\n",
      "INFO:root:BLOCK: Start calculation with this block\n",
      "INFO:root:BLOCK: This block's calculation completed\n",
      "INFO:root:BLOCK:Crop block result from origin jz0,jy0,jx0 = : 4,0,6\n",
      "INFO:root:BLOCK:Copying cropped block to datares\n",
      "INFO:root:BLOCK: New block, intended origin iz0,iy0,ix0 = 104,0,112 , use origin iz00,iy00,ix00 = 68,0,88 , end iz1,iy1,ix1 = 128,50,128\n",
      "INFO:root:BLOCK: Start calculation with this block\n",
      "INFO:root:BLOCK: This block's calculation completed\n",
      "INFO:root:BLOCK:Crop block result from origin jz0,jy0,jx0 = : 4,0,6\n",
      "INFO:root:BLOCK:Copying cropped block to datares\n",
      "INFO:root:BLOCK: New block, intended origin iz0,iy0,ix0 = 104,44,0 , use origin iz00,iy00,ix00 = 68,44,0 , end iz1,iy1,ix1 = 128,94,40\n",
      "INFO:root:BLOCK: Start calculation with this block\n",
      "INFO:root:BLOCK: This block's calculation completed\n",
      "INFO:root:BLOCK:Crop block result from origin jz0,jy0,jx0 = : 4,3,0\n",
      "INFO:root:BLOCK:Copying cropped block to datares\n",
      "INFO:root:BLOCK: New block, intended origin iz0,iy0,ix0 = 104,44,28 , use origin iz00,iy00,ix00 = 68,44,28 , end iz1,iy1,ix1 = 128,94,68\n",
      "INFO:root:BLOCK: Start calculation with this block\n",
      "INFO:root:BLOCK: This block's calculation completed\n",
      "INFO:root:BLOCK:Crop block result from origin jz0,jy0,jx0 = : 4,3,6\n",
      "INFO:root:BLOCK:Copying cropped block to datares\n",
      "INFO:root:BLOCK: New block, intended origin iz0,iy0,ix0 = 104,44,56 , use origin iz00,iy00,ix00 = 68,44,56 , end iz1,iy1,ix1 = 128,94,96\n",
      "INFO:root:BLOCK: Start calculation with this block\n",
      "INFO:root:BLOCK: This block's calculation completed\n",
      "INFO:root:BLOCK:Crop block result from origin jz0,jy0,jx0 = : 4,3,6\n",
      "INFO:root:BLOCK:Copying cropped block to datares\n",
      "INFO:root:BLOCK: New block, intended origin iz0,iy0,ix0 = 104,44,84 , use origin iz00,iy00,ix00 = 68,44,84 , end iz1,iy1,ix1 = 128,94,124\n",
      "INFO:root:BLOCK: Start calculation with this block\n",
      "INFO:root:BLOCK: This block's calculation completed\n",
      "INFO:root:BLOCK:Crop block result from origin jz0,jy0,jx0 = : 4,3,6\n",
      "INFO:root:BLOCK:Copying cropped block to datares\n",
      "INFO:root:BLOCK: New block, intended origin iz0,iy0,ix0 = 104,44,112 , use origin iz00,iy00,ix00 = 68,44,88 , end iz1,iy1,ix1 = 128,94,128\n",
      "INFO:root:BLOCK: Start calculation with this block\n",
      "INFO:root:BLOCK: This block's calculation completed\n",
      "INFO:root:BLOCK:Crop block result from origin jz0,jy0,jx0 = : 4,3,6\n",
      "INFO:root:BLOCK:Copying cropped block to datares\n",
      "INFO:root:BLOCK: New block, intended origin iz0,iy0,ix0 = 104,88,0 , use origin iz00,iy00,ix00 = 68,78,0 , end iz1,iy1,ix1 = 128,128,40\n",
      "INFO:root:BLOCK: Start calculation with this block\n",
      "INFO:root:BLOCK: This block's calculation completed\n",
      "INFO:root:BLOCK:Crop block result from origin jz0,jy0,jx0 = : 4,3,0\n",
      "INFO:root:BLOCK:Copying cropped block to datares\n",
      "INFO:root:BLOCK: New block, intended origin iz0,iy0,ix0 = 104,88,28 , use origin iz00,iy00,ix00 = 68,78,28 , end iz1,iy1,ix1 = 128,128,68\n",
      "INFO:root:BLOCK: Start calculation with this block\n",
      "INFO:root:BLOCK: This block's calculation completed\n",
      "INFO:root:BLOCK:Crop block result from origin jz0,jy0,jx0 = : 4,3,6\n",
      "INFO:root:BLOCK:Copying cropped block to datares\n",
      "INFO:root:BLOCK: New block, intended origin iz0,iy0,ix0 = 104,88,56 , use origin iz00,iy00,ix00 = 68,78,56 , end iz1,iy1,ix1 = 128,128,96\n",
      "INFO:root:BLOCK: Start calculation with this block\n",
      "INFO:root:BLOCK: This block's calculation completed\n",
      "INFO:root:BLOCK:Crop block result from origin jz0,jy0,jx0 = : 4,3,6\n",
      "INFO:root:BLOCK:Copying cropped block to datares\n",
      "INFO:root:BLOCK: New block, intended origin iz0,iy0,ix0 = 104,88,84 , use origin iz00,iy00,ix00 = 68,78,84 , end iz1,iy1,ix1 = 128,128,124\n",
      "INFO:root:BLOCK: Start calculation with this block\n",
      "INFO:root:BLOCK: This block's calculation completed\n",
      "INFO:root:BLOCK:Crop block result from origin jz0,jy0,jx0 = : 4,3,6\n",
      "INFO:root:BLOCK:Copying cropped block to datares\n",
      "INFO:root:BLOCK: New block, intended origin iz0,iy0,ix0 = 104,88,112 , use origin iz00,iy00,ix00 = 68,78,88 , end iz1,iy1,ix1 = 128,128,128\n",
      "INFO:root:BLOCK: Start calculation with this block\n",
      "INFO:root:BLOCK: This block's calculation completed\n",
      "INFO:root:BLOCK:Crop block result from origin jz0,jy0,jx0 = : 4,3,6\n",
      "INFO:root:BLOCK:Copying cropped block to datares\n",
      "INFO:root:BLOCK: Completed. Results should be in datares\n"
     ]
    }
   ],
   "source": [
    "a_conv_bl= map_vol_function_by_blocking(convertCtoF, a, (60,50,40), (4,3,6)) #weird blockshape and margins"
   ]
  },
  {
   "cell_type": "code",
   "execution_count": 11,
   "metadata": {},
   "outputs": [
    {
     "data": {
      "text/plain": [
       "True"
      ]
     },
     "execution_count": 11,
     "metadata": {},
     "output_type": "execute_result"
    }
   ],
   "source": [
    "np.allclose(a_conv_bl, res_gnd)"
   ]
  },
  {
   "cell_type": "code",
   "execution_count": null,
   "metadata": {},
   "outputs": [],
   "source": []
  }
 ],
 "metadata": {
  "kernelspec": {
   "display_name": "Python 3",
   "language": "python",
   "name": "python3"
  },
  "language_info": {
   "codemirror_mode": {
    "name": "ipython",
    "version": 3
   },
   "file_extension": ".py",
   "mimetype": "text/x-python",
   "name": "python",
   "nbconvert_exporter": "python",
   "pygments_lexer": "ipython3",
   "version": "3.9.18"
  },
  "orig_nbformat": 4
 },
 "nbformat": 4,
 "nbformat_minor": 2
}
