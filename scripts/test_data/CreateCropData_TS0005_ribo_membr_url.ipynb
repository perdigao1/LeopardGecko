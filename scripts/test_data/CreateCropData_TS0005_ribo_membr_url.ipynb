{
 "cells": [
  {
   "cell_type": "code",
   "execution_count": 1,
   "metadata": {},
   "outputs": [],
   "source": [
    "import numpy as np\n",
    "import napari\n",
    "import mrcfile\n",
    "import urllib.request\n",
    "import tifffile\n",
    "import tempfile"
   ]
  },
  {
   "cell_type": "code",
   "execution_count": 2,
   "metadata": {},
   "outputs": [],
   "source": [
    "def download_file_from_ftpurl(url):\n",
    "    with tempfile.NamedTemporaryFile(delete=False) as temp_file:\n",
    "        temp_file.write(response.read())\n",
    "        temp_file_path = temp_file.name\n",
    "\n",
    "    return buffer"
   ]
  },
  {
   "cell_type": "code",
   "execution_count": 6,
   "metadata": {},
   "outputs": [
    {
     "data": {
      "text/plain": [
       "0"
      ]
     },
     "execution_count": 6,
     "metadata": {},
     "output_type": "execute_result"
    }
   ],
   "source": [
    "#Load data\n",
    "mrc_buffer = download_fileio_from_ftpurl(\"https://ftp.ebi.ac.uk/empiar/world_availability/10988/data/VPP/tomograms/TS_0005.rec\")\n",
    "mrc_buffer.seek(0)\n"
   ]
  },
  {
   "cell_type": "code",
   "execution_count": 9,
   "metadata": {},
   "outputs": [
    {
     "data": {
      "text/plain": [
       "<_io.BytesIO at 0x7f5448cc9310>"
      ]
     },
     "execution_count": 9,
     "metadata": {},
     "output_type": "execute_result"
    }
   ],
   "source": [
    "mrc_buffer"
   ]
  },
  {
   "cell_type": "code",
   "execution_count": 13,
   "metadata": {},
   "outputs": [
    {
     "data": {
      "text/plain": [
       "445441024"
      ]
     },
     "execution_count": 13,
     "metadata": {},
     "output_type": "execute_result"
    }
   ],
   "source": [
    "mrc_buffer.getbuffer().nbytes"
   ]
  },
  {
   "cell_type": "code",
   "execution_count": 14,
   "metadata": {},
   "outputs": [
    {
     "ename": "FileNotFoundError",
     "evalue": "[Errno 2] No such file or directory: '<_io.BytesIO object at 0x7f5448cc9310>'",
     "output_type": "error",
     "traceback": [
      "\u001b[0;31m---------------------------------------------------------------------------\u001b[0m",
      "\u001b[0;31mFileNotFoundError\u001b[0m                         Traceback (most recent call last)",
      "\u001b[1;32m/ceph/users/ypu66991/data/Others/EMPIAR10988_Mahamid/Analysis/CreateCropData/CreateCropData_TS0005_ribo_membr_url.ipynb Cell 6\u001b[0m line \u001b[0;36m1\n\u001b[0;32m----> <a href='vscode-notebook-cell:/ceph/users/ypu66991/data/Others/EMPIAR10988_Mahamid/Analysis/CreateCropData/CreateCropData_TS0005_ribo_membr_url.ipynb#X44sZmlsZQ%3D%3D?line=0'>1</a>\u001b[0m \u001b[39mwith\u001b[39;00m mrcfile\u001b[39m.\u001b[39;49mmmap(mrc_buffer, permissive\u001b[39m=\u001b[39;49m\u001b[39mTrue\u001b[39;49;00m) \u001b[39mas\u001b[39;00m f:\n\u001b[1;32m      <a href='vscode-notebook-cell:/ceph/users/ypu66991/data/Others/EMPIAR10988_Mahamid/Analysis/CreateCropData/CreateCropData_TS0005_ribo_membr_url.ipynb#X44sZmlsZQ%3D%3D?line=1'>2</a>\u001b[0m     data0\u001b[39m=\u001b[39mf\u001b[39m.\u001b[39mdata\u001b[39m.\u001b[39mcopy()\n",
      "File \u001b[0;32m/ceph/users/ypu66991/conda_envs/p9dev/lib/python3.9/site-packages/mrcfile/load_functions.py:268\u001b[0m, in \u001b[0;36mmmap\u001b[0;34m(name, mode, permissive)\u001b[0m\n\u001b[1;32m    244\u001b[0m \u001b[39mdef\u001b[39;00m \u001b[39mmmap\u001b[39m(name, mode\u001b[39m=\u001b[39m\u001b[39m'\u001b[39m\u001b[39mr\u001b[39m\u001b[39m'\u001b[39m, permissive\u001b[39m=\u001b[39m\u001b[39mFalse\u001b[39;00m):\n\u001b[1;32m    245\u001b[0m \u001b[39m    \u001b[39m\u001b[39m\"\"\"Open a memory-mapped MRC file.\u001b[39;00m\n\u001b[1;32m    246\u001b[0m \u001b[39m    \u001b[39;00m\n\u001b[1;32m    247\u001b[0m \u001b[39m    This allows much faster opening of large files, because the data is only\u001b[39;00m\n\u001b[0;32m   (...)\u001b[0m\n\u001b[1;32m    266\u001b[0m \u001b[39m        An :class:`~mrcfile.mrcmemmap.MrcMemmap` object.\u001b[39;00m\n\u001b[1;32m    267\u001b[0m \u001b[39m    \"\"\"\u001b[39;00m\n\u001b[0;32m--> 268\u001b[0m     \u001b[39mreturn\u001b[39;00m MrcMemmap(name, mode\u001b[39m=\u001b[39;49mmode, permissive\u001b[39m=\u001b[39;49mpermissive)\n",
      "File \u001b[0;32m/ceph/users/ypu66991/conda_envs/p9dev/lib/python3.9/site-packages/mrcfile/mrcfile.py:109\u001b[0m, in \u001b[0;36mMrcFile.__init__\u001b[0;34m(self, name, mode, overwrite, permissive, header_only, **kwargs)\u001b[0m\n\u001b[1;32m    106\u001b[0m \u001b[39mself\u001b[39m\u001b[39m.\u001b[39m_mode \u001b[39m=\u001b[39m mode\n\u001b[1;32m    107\u001b[0m \u001b[39mself\u001b[39m\u001b[39m.\u001b[39m_read_only \u001b[39m=\u001b[39m (\u001b[39mself\u001b[39m\u001b[39m.\u001b[39m_mode \u001b[39m==\u001b[39m \u001b[39m'\u001b[39m\u001b[39mr\u001b[39m\u001b[39m'\u001b[39m)\n\u001b[0;32m--> 109\u001b[0m \u001b[39mself\u001b[39;49m\u001b[39m.\u001b[39;49m_open_file(name)\n\u001b[1;32m    111\u001b[0m \u001b[39mtry\u001b[39;00m:\n\u001b[1;32m    112\u001b[0m     \u001b[39mif\u001b[39;00m \u001b[39m'\u001b[39m\u001b[39mw\u001b[39m\u001b[39m'\u001b[39m \u001b[39min\u001b[39;00m mode:\n",
      "File \u001b[0;32m/ceph/users/ypu66991/conda_envs/p9dev/lib/python3.9/site-packages/mrcfile/mrcfile.py:126\u001b[0m, in \u001b[0;36mMrcFile._open_file\u001b[0;34m(self, name)\u001b[0m\n\u001b[1;32m    124\u001b[0m \u001b[39mdef\u001b[39;00m \u001b[39m_open_file\u001b[39m(\u001b[39mself\u001b[39m, name):\n\u001b[1;32m    125\u001b[0m \u001b[39m    \u001b[39m\u001b[39m\"\"\"Open a file object to use as the I/O stream.\"\"\"\u001b[39;00m\n\u001b[0;32m--> 126\u001b[0m     \u001b[39mself\u001b[39m\u001b[39m.\u001b[39m_iostream \u001b[39m=\u001b[39m \u001b[39mopen\u001b[39;49m(name, \u001b[39mself\u001b[39;49m\u001b[39m.\u001b[39;49m_mode \u001b[39m+\u001b[39;49m \u001b[39m'\u001b[39;49m\u001b[39mb\u001b[39;49m\u001b[39m'\u001b[39;49m)\n",
      "\u001b[0;31mFileNotFoundError\u001b[0m: [Errno 2] No such file or directory: '<_io.BytesIO object at 0x7f5448cc9310>'"
     ]
    }
   ],
   "source": [
    "with mrcfile.mmap(mrc_buffer, permissive=True) as f:\n",
    "    data0=f.data.copy()"
   ]
  },
  {
   "cell_type": "code",
   "execution_count": null,
   "metadata": {},
   "outputs": [
    {
     "data": {
      "text/plain": [
       "(500, 928, 960)"
      ]
     },
     "execution_count": 3,
     "metadata": {},
     "output_type": "execute_result"
    }
   ],
   "source": [
    "data0.shape"
   ]
  },
  {
   "cell_type": "code",
   "execution_count": null,
   "metadata": {},
   "outputs": [
    {
     "data": {
      "text/plain": [
       "127"
      ]
     },
     "execution_count": 4,
     "metadata": {},
     "output_type": "execute_result"
    }
   ],
   "source": [
    "data0.max()"
   ]
  },
  {
   "cell_type": "code",
   "execution_count": null,
   "metadata": {},
   "outputs": [
    {
     "data": {
      "text/plain": [
       "-128"
      ]
     },
     "execution_count": 5,
     "metadata": {},
     "output_type": "execute_result"
    }
   ],
   "source": [
    "data0.min()"
   ]
  },
  {
   "cell_type": "markdown",
   "metadata": {},
   "source": [
    "Be careful with negative int values"
   ]
  },
  {
   "cell_type": "markdown",
   "metadata": {},
   "source": [
    "Get respective cyto-ribossomes and membranes and join together "
   ]
  },
  {
   "cell_type": "code",
   "execution_count": 6,
   "metadata": {},
   "outputs": [],
   "source": [
    "with mrcfile.open(\"/ceph/users/ypu66991/data/Others/EMPIAR10988_Mahamid/data/VPP/labels/TS_0005_cyto_ribosomes.mrc\") as f:\n",
    "    labels_rib=f.data.copy().astype(np.uint8)"
   ]
  },
  {
   "cell_type": "code",
   "execution_count": 7,
   "metadata": {},
   "outputs": [
    {
     "data": {
      "text/plain": [
       "1"
      ]
     },
     "execution_count": 7,
     "metadata": {},
     "output_type": "execute_result"
    }
   ],
   "source": [
    "labels_rib.max()"
   ]
  },
  {
   "cell_type": "code",
   "execution_count": 8,
   "metadata": {},
   "outputs": [
    {
     "data": {
      "text/plain": [
       "(500, 928, 960)"
      ]
     },
     "execution_count": 8,
     "metadata": {},
     "output_type": "execute_result"
    }
   ],
   "source": [
    "labels_rib.shape"
   ]
  },
  {
   "cell_type": "code",
   "execution_count": 9,
   "metadata": {},
   "outputs": [],
   "source": [
    "with mrcfile.open(\"/ceph/users/ypu66991/data/Others/EMPIAR10988_Mahamid/data/VPP/labels/TS_0005_membranes.mrc\") as f:\n",
    "    labels_memb=f.data.copy().astype(np.uint8)"
   ]
  },
  {
   "cell_type": "code",
   "execution_count": 10,
   "metadata": {},
   "outputs": [
    {
     "data": {
      "text/plain": [
       "1"
      ]
     },
     "execution_count": 10,
     "metadata": {},
     "output_type": "execute_result"
    }
   ],
   "source": [
    "labels_memb.max()"
   ]
  },
  {
   "cell_type": "code",
   "execution_count": 11,
   "metadata": {},
   "outputs": [
    {
     "data": {
      "text/plain": [
       "(500, 928, 960)"
      ]
     },
     "execution_count": 11,
     "metadata": {},
     "output_type": "execute_result"
    }
   ],
   "source": [
    "labels_memb.shape"
   ]
  },
  {
   "cell_type": "markdown",
   "metadata": {},
   "source": [
    "join labels together, but be careful that there is some overlap. In overlap regions use ribos label\n",
    "\n",
    "ribo=1\n",
    "memb=2"
   ]
  },
  {
   "cell_type": "code",
   "execution_count": 12,
   "metadata": {},
   "outputs": [],
   "source": [
    "labels_rib_memb = labels_rib+2*labels_memb\n"
   ]
  },
  {
   "cell_type": "code",
   "execution_count": 13,
   "metadata": {},
   "outputs": [
    {
     "data": {
      "text/plain": [
       "3"
      ]
     },
     "execution_count": 13,
     "metadata": {},
     "output_type": "execute_result"
    }
   ],
   "source": [
    "labels_rib_memb.max()"
   ]
  },
  {
   "cell_type": "code",
   "execution_count": 14,
   "metadata": {},
   "outputs": [],
   "source": [
    "labels_rib_memb [labels_rib_memb==3] = 1 #replace overalp"
   ]
  },
  {
   "cell_type": "markdown",
   "metadata": {},
   "source": [
    "ensure that voxels are not shared, otherwise we would have max2"
   ]
  },
  {
   "cell_type": "code",
   "execution_count": 15,
   "metadata": {},
   "outputs": [
    {
     "data": {
      "text/plain": [
       "2"
      ]
     },
     "execution_count": 15,
     "metadata": {},
     "output_type": "execute_result"
    }
   ],
   "source": [
    "labels_rib_memb.max()"
   ]
  },
  {
   "cell_type": "markdown",
   "metadata": {},
   "source": [
    "check napari full volume"
   ]
  },
  {
   "cell_type": "code",
   "execution_count": 16,
   "metadata": {},
   "outputs": [
    {
     "data": {
      "text/plain": [
       "<Labels layer 'labels_rib' at 0x7fd2002e7f70>"
      ]
     },
     "execution_count": 16,
     "metadata": {},
     "output_type": "execute_result"
    }
   ],
   "source": [
    "NV=napari.Viewer()\n",
    "NV.add_image(data0)\n",
    "NV.add_labels(labels_memb)\n",
    "NV.add_labels(labels_rib)"
   ]
  },
  {
   "cell_type": "markdown",
   "metadata": {},
   "source": [
    "Crop centre 256 cube and save"
   ]
  },
  {
   "cell_type": "code",
   "execution_count": 17,
   "metadata": {},
   "outputs": [
    {
     "data": {
      "text/plain": [
       "[250, 464, 480]"
      ]
     },
     "execution_count": 17,
     "metadata": {},
     "output_type": "execute_result"
    }
   ],
   "source": [
    "c0 = [int(i/2) for i in data0.shape ]\n",
    "c0"
   ]
  },
  {
   "cell_type": "code",
   "execution_count": 18,
   "metadata": {},
   "outputs": [],
   "source": [
    "#Adjust centre\n",
    "c0 = (269,345,390)"
   ]
  },
  {
   "cell_type": "code",
   "execution_count": 19,
   "metadata": {},
   "outputs": [],
   "source": [
    "data0_crop = data0[ c0[0]-128: c0[0]+128,\n",
    "                   c0[1]-128: c0[1]+128,\n",
    "                   c0[2]-128: c0[2]+128]"
   ]
  },
  {
   "cell_type": "code",
   "execution_count": 20,
   "metadata": {},
   "outputs": [],
   "source": [
    "labels_rib_memb_crop = labels_rib_memb[ c0[0]-128: c0[0]+128,\n",
    "                   c0[1]-128: c0[1]+128,\n",
    "                   c0[2]-128: c0[2]+128]"
   ]
  },
  {
   "cell_type": "markdown",
   "metadata": {},
   "source": [
    "Check in napari"
   ]
  },
  {
   "cell_type": "code",
   "execution_count": 21,
   "metadata": {},
   "outputs": [
    {
     "data": {
      "text/plain": [
       "<Labels layer 'labels_rib_memb_crop' at 0x7fd1d03fad00>"
      ]
     },
     "execution_count": 21,
     "metadata": {},
     "output_type": "execute_result"
    }
   ],
   "source": [
    "NV=napari.Viewer()\n",
    "NV.add_image(data0_crop)\n",
    "NV.add_labels(labels_rib_memb_crop)"
   ]
  },
  {
   "cell_type": "markdown",
   "metadata": {},
   "source": [
    "Save"
   ]
  },
  {
   "cell_type": "code",
   "execution_count": 22,
   "metadata": {},
   "outputs": [],
   "source": [
    "tifffile.imwrite(\"TS_0005_crop.tif\", data0_crop)\n",
    "tifffile.imwrite(\"TS_0005_membranes_crop.tif\", data0_crop)"
   ]
  },
  {
   "cell_type": "code",
   "execution_count": null,
   "metadata": {},
   "outputs": [],
   "source": []
  }
 ],
 "metadata": {
  "kernelspec": {
   "display_name": "Python 3",
   "language": "python",
   "name": "python3"
  },
  "language_info": {
   "codemirror_mode": {
    "name": "ipython",
    "version": 3
   },
   "file_extension": ".py",
   "mimetype": "text/x-python",
   "name": "python",
   "nbconvert_exporter": "python",
   "pygments_lexer": "ipython3",
   "version": "3.9.16"
  },
  "orig_nbformat": 4
 },
 "nbformat": 4,
 "nbformat_minor": 2
}
