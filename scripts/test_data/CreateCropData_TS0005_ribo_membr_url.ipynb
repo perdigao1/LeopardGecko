{
 "cells": [
  {
   "cell_type": "code",
   "execution_count": 1,
   "metadata": {},
   "outputs": [],
   "source": [
    "import numpy as np\n",
    "import napari\n",
    "import mrcfile\n",
    "import tifffile\n",
    "import tempfile"
   ]
  },
  {
   "cell_type": "code",
   "execution_count": 2,
   "metadata": {},
   "outputs": [],
   "source": [
    "import urllib.request\n",
    "def download_file_from_ftpurl(url):\n",
    "    with urllib.request.urlopen(url) as response:\n",
    "        with tempfile.NamedTemporaryFile(delete=False) as temp_file:\n",
    "            temp_file.write(response.read())\n",
    "            temp_file_path = temp_file.name\n",
    "\n",
    "    return temp_file_path"
   ]
  },
  {
   "cell_type": "code",
   "execution_count": 3,
   "metadata": {},
   "outputs": [],
   "source": [
    "#Load data\n",
    "mrc_fn = download_file_from_ftpurl(\"https://ftp.ebi.ac.uk/empiar/world_availability/10988/data/VPP/tomograms/TS_0005.rec\")"
   ]
  },
  {
   "cell_type": "code",
   "execution_count": 4,
   "metadata": {},
   "outputs": [],
   "source": [
    "with mrcfile.open(mrc_fn) as f:\n",
    "    data0=f.data.copy()"
   ]
  },
  {
   "cell_type": "code",
   "execution_count": 25,
   "metadata": {},
   "outputs": [
    {
     "name": "stdout",
     "output_type": "stream",
     "text": [
      "C:\\Users\\LUIS-W~1\\AppData\\Local\\Temp\\tmph16zd5_z\n",
      "127\n",
      "-128\n"
     ]
    }
   ],
   "source": [
    "print(mrc_fn)\n",
    "print(data0.max())\n",
    "print(data0.min())"
   ]
  },
  {
   "cell_type": "markdown",
   "metadata": {},
   "source": [
    "Be careful with negative int values"
   ]
  },
  {
   "cell_type": "markdown",
   "metadata": {},
   "source": [
    "Get respective cyto-ribossomes and membranes and join together "
   ]
  },
  {
   "cell_type": "code",
   "execution_count": 7,
   "metadata": {},
   "outputs": [],
   "source": [
    "mrc_fn_labels = download_file_from_ftpurl(\"https://ftp.ebi.ac.uk/empiar/world_availability/10988/data/VPP/labels/TS_0005_cyto_ribosomes.mrc\")"
   ]
  },
  {
   "cell_type": "code",
   "execution_count": 8,
   "metadata": {},
   "outputs": [],
   "source": [
    "with mrcfile.open(mrc_fn_labels) as f:\n",
    "    labels_rib=f.data.copy().astype(np.uint8)"
   ]
  },
  {
   "cell_type": "code",
   "execution_count": 9,
   "metadata": {},
   "outputs": [
    {
     "name": "stdout",
     "output_type": "stream",
     "text": [
      "C:\\Users\\LUIS-W~1\\AppData\\Local\\Temp\\tmplsd1sf44\n",
      "1\n",
      "0\n"
     ]
    }
   ],
   "source": [
    "print(mrc_fn_labels)\n",
    "print(labels_rib.max())\n",
    "print(labels_rib.min())"
   ]
  },
  {
   "cell_type": "code",
   "execution_count": 10,
   "metadata": {},
   "outputs": [],
   "source": [
    "mrc_fn_membr = download_file_from_ftpurl(\"https://ftp.ebi.ac.uk/empiar/world_availability/10988/data/VPP/labels/TS_0005_membranes.mrc\")"
   ]
  },
  {
   "cell_type": "code",
   "execution_count": 11,
   "metadata": {},
   "outputs": [],
   "source": [
    "with mrcfile.open(mrc_fn_membr) as f:\n",
    "    labels_memb=f.data.copy().astype(np.uint8)"
   ]
  },
  {
   "cell_type": "code",
   "execution_count": 12,
   "metadata": {},
   "outputs": [
    {
     "name": "stdout",
     "output_type": "stream",
     "text": [
      "C:\\Users\\LUIS-W~1\\AppData\\Local\\Temp\\tmpek2ny846\n",
      "1\n",
      "0\n"
     ]
    }
   ],
   "source": [
    "print(mrc_fn_membr)\n",
    "print(labels_memb.max())\n",
    "print(labels_memb.min())"
   ]
  },
  {
   "cell_type": "markdown",
   "metadata": {},
   "source": [
    "join labels together, but be careful that there is some overlap. In overlap regions use ribos label\n",
    "\n",
    "ribo=1\n",
    "memb=2"
   ]
  },
  {
   "cell_type": "code",
   "execution_count": 13,
   "metadata": {},
   "outputs": [],
   "source": [
    "labels_rib_memb = labels_rib+2*labels_memb\n"
   ]
  },
  {
   "cell_type": "code",
   "execution_count": 14,
   "metadata": {},
   "outputs": [
    {
     "data": {
      "text/plain": [
       "3"
      ]
     },
     "execution_count": 14,
     "metadata": {},
     "output_type": "execute_result"
    }
   ],
   "source": [
    "labels_rib_memb.max()"
   ]
  },
  {
   "cell_type": "code",
   "execution_count": 15,
   "metadata": {},
   "outputs": [],
   "source": [
    "labels_rib_memb [labels_rib_memb==3] = 1 #replace overlap"
   ]
  },
  {
   "cell_type": "markdown",
   "metadata": {},
   "source": [
    "ensure that voxels are not shared, otherwise we would have max2"
   ]
  },
  {
   "cell_type": "code",
   "execution_count": 24,
   "metadata": {},
   "outputs": [
    {
     "data": {
      "text/plain": [
       "2"
      ]
     },
     "execution_count": 24,
     "metadata": {},
     "output_type": "execute_result"
    }
   ],
   "source": [
    "labels_rib_memb.max()"
   ]
  },
  {
   "cell_type": "markdown",
   "metadata": {},
   "source": [
    "check napari full volume"
   ]
  },
  {
   "cell_type": "code",
   "execution_count": null,
   "metadata": {},
   "outputs": [],
   "source": [
    "NV=napari.Viewer()\n",
    "NV.add_image(data0)\n",
    "NV.add_labels(labels_memb)\n",
    "NV.add_labels(labels_rib)"
   ]
  },
  {
   "cell_type": "markdown",
   "metadata": {},
   "source": [
    "Choose centre 256 cube"
   ]
  },
  {
   "cell_type": "code",
   "execution_count": 16,
   "metadata": {},
   "outputs": [],
   "source": [
    "#Adjust centre\n",
    "c0 = (269,345,390)"
   ]
  },
  {
   "cell_type": "code",
   "execution_count": 29,
   "metadata": {},
   "outputs": [],
   "source": [
    "data0_crop = data0[ c0[0]-128: c0[0]+128,\n",
    "                   c0[1]-128: c0[1]+128,\n",
    "                   c0[2]-128: c0[2]+128]"
   ]
  },
  {
   "cell_type": "code",
   "execution_count": 30,
   "metadata": {},
   "outputs": [],
   "source": [
    "labels_rib_memb_crop = labels_rib_memb[ c0[0]-128: c0[0]+128,\n",
    "                   c0[1]-128: c0[1]+128,\n",
    "                   c0[2]-128: c0[2]+128]"
   ]
  },
  {
   "cell_type": "markdown",
   "metadata": {},
   "source": [
    "Check in napari"
   ]
  },
  {
   "cell_type": "code",
   "execution_count": 27,
   "metadata": {},
   "outputs": [
    {
     "data": {
      "text/plain": [
       "<Labels layer 'labels_rib_memb_crop' at 0x161e78a0890>"
      ]
     },
     "execution_count": 27,
     "metadata": {},
     "output_type": "execute_result"
    }
   ],
   "source": [
    "NV=napari.Viewer()\n",
    "NV.add_image(data0_crop)\n",
    "NV.add_labels(labels_rib_memb_crop)"
   ]
  },
  {
   "cell_type": "markdown",
   "metadata": {},
   "source": [
    "Save"
   ]
  },
  {
   "cell_type": "code",
   "execution_count": 31,
   "metadata": {},
   "outputs": [],
   "source": [
    "tifffile.imwrite(\"TS_0005_crop.tif\", data0_crop)\n",
    "tifffile.imwrite(\"TS_0005_ribos_membr_crop.tif\", labels_rib_memb_crop)"
   ]
  },
  {
   "cell_type": "code",
   "execution_count": null,
   "metadata": {},
   "outputs": [],
   "source": []
  },
  {
   "cell_type": "markdown",
   "metadata": {},
   "source": [
    "Generate two more files for validation"
   ]
  },
  {
   "cell_type": "code",
   "execution_count": 32,
   "metadata": {},
   "outputs": [],
   "source": [
    "#Adjust centre\n",
    "c0 = (269,345,390+256)"
   ]
  },
  {
   "cell_type": "code",
   "execution_count": 33,
   "metadata": {},
   "outputs": [],
   "source": [
    "data0_crop = data0[ c0[0]-128: c0[0]+128,\n",
    "                   c0[1]-128: c0[1]+128,\n",
    "                   c0[2]-128: c0[2]+128]"
   ]
  },
  {
   "cell_type": "code",
   "execution_count": 34,
   "metadata": {},
   "outputs": [],
   "source": [
    "labels_rib_memb_crop = labels_rib_memb[ c0[0]-128: c0[0]+128,\n",
    "                   c0[1]-128: c0[1]+128,\n",
    "                   c0[2]-128: c0[2]+128]"
   ]
  },
  {
   "cell_type": "markdown",
   "metadata": {},
   "source": [
    "Check in napari"
   ]
  },
  {
   "cell_type": "code",
   "execution_count": 26,
   "metadata": {},
   "outputs": [
    {
     "data": {
      "text/plain": [
       "<Labels layer 'labels_rib_memb_crop' at 0x161ea50e010>"
      ]
     },
     "execution_count": 26,
     "metadata": {},
     "output_type": "execute_result"
    }
   ],
   "source": [
    "NV=napari.Viewer()\n",
    "NV.add_image(data0_crop)\n",
    "NV.add_labels(labels_rib_memb_crop)"
   ]
  },
  {
   "cell_type": "code",
   "execution_count": 35,
   "metadata": {},
   "outputs": [],
   "source": [
    "tifffile.imwrite(\"TS_0005_crop_val.tif\", data0_crop)\n",
    "tifffile.imwrite(\"TS_0005_ribos_membr_crop_val.tif\", labels_rib_memb_crop)"
   ]
  },
  {
   "cell_type": "code",
   "execution_count": null,
   "metadata": {},
   "outputs": [],
   "source": []
  },
  {
   "cell_type": "code",
   "execution_count": 36,
   "metadata": {},
   "outputs": [],
   "source": [
    "# delete temp files\n",
    "import os\n",
    "os.remove(mrc_fn) \n",
    "os.remove(mrc_fn_labels)\n",
    "os.remove(mrc_fn_membr)"
   ]
  },
  {
   "cell_type": "code",
   "execution_count": null,
   "metadata": {},
   "outputs": [],
   "source": []
  }
 ],
 "metadata": {
  "kernelspec": {
   "display_name": "Python 3",
   "language": "python",
   "name": "python3"
  },
  "language_info": {
   "codemirror_mode": {
    "name": "ipython",
    "version": 3
   },
   "file_extension": ".py",
   "mimetype": "text/x-python",
   "name": "python",
   "nbconvert_exporter": "python",
   "pygments_lexer": "ipython3",
   "version": "3.11.7"
  },
  "orig_nbformat": 4
 },
 "nbformat": 4,
 "nbformat_minor": 2
}
