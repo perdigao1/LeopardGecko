{
 "cells": [
  {
   "cell_type": "markdown",
   "metadata": {},
   "source": [
    "This notebook show an example on how to run predictions using a pre-trained a lgsegmentor.\n",
    "\n",
    "This example it uses the validation data "
   ]
  },
  {
   "cell_type": "code",
   "execution_count": 1,
   "metadata": {},
   "outputs": [],
   "source": [
    "import numpy as np\n",
    "import tifffile\n",
    "import napari\n",
    "import leopardgecko.segmentor as lgs\n",
    "import leopardgecko.utils as lgu\n",
    "\n",
    "import logging\n",
    "logging.basicConfig(level=logging.DEBUG)"
   ]
  },
  {
   "cell_type": "markdown",
   "metadata": {},
   "source": [
    "# Load data  for prediction and respective labels"
   ]
  },
  {
   "cell_type": "code",
   "execution_count": 2,
   "metadata": {},
   "outputs": [],
   "source": [
    "data_to_pred = tifffile.imread(\"test_data/TS_0005_crop_val.tif\")\n",
    "labels_to_compare = tifffile.imread(\"test_data/TS_0005_ribos_membr_crop_val.tif\")"
   ]
  },
  {
   "cell_type": "code",
   "execution_count": 3,
   "metadata": {},
   "outputs": [
    {
     "name": "stdout",
     "output_type": "stream",
     "text": [
      "(256, 256, 256)\n"
     ]
    }
   ],
   "source": [
    "print(data_to_pred.shape)"
   ]
  },
  {
   "cell_type": "markdown",
   "metadata": {},
   "source": [
    "# Setup lg segmentor and run"
   ]
  },
  {
   "cell_type": "code",
   "execution_count": 4,
   "metadata": {},
   "outputs": [
    {
     "name": "stderr",
     "output_type": "stream",
     "text": [
      "DEBUG:root:cMultiAxisRotationsSegmentor __init__() with temp_data_outdir:None , cuda_device:0\n",
      "DEBUG:root:load_model()\n",
      "DEBUG:root:predict() data_in.shape:(256, 256, 256), data_in.dtype:int8, use_dask:False\n",
      "INFO:root:Setting up NN1 prediction\n",
      "DEBUG:root:clear()\n",
      "DEBUG:root:NN1_predict()\n",
      "DEBUG:root:data_to_predict not a list. Converting to list\n",
      "INFO:root:number of data sets to predict: 1\n",
      "INFO:root:Data to predict index:0\n",
      "DEBUG:root:VolSeg2DPredictionManager.__init__()\n",
      "DEBUG:root:BaseDataManager.__init__()\n",
      "DEBUG:root:BaseDataManager._preprocess_data()\n",
      "INFO:root:Calculating mean of data...\n",
      "INFO:root:Mean value: 3.376452088356018\n",
      "DEBUG:root:clip_to_uint8()\n",
      "INFO:root:Calculating standard deviation.\n",
      "INFO:root:Std dev: 22.28497505498702. Calculating stats.\n",
      "INFO:root:Lower bound: -54.00735867823556, upper bound: 60.7602628549476\n"
     ]
    },
    {
     "name": "stdout",
     "output_type": "stream",
     "text": [
      "<leopardgecko.segmentor.cMultiAxisRotationsSegmentor object at 0x7f5e77ea9c10>\n"
     ]
    },
    {
     "name": "stderr",
     "output_type": "stream",
     "text": [
      "INFO:root:Number of voxels above upper bound to be clipped 95283 - percentage 0.568%\n",
      "INFO:root:Number of voxels below lower bound to be clipped 175185 - percentage 1.044%\n",
      "INFO:root:Rescaling intensities.\n",
      "INFO:root:Data is already in integer dtype, converting to float for rescaling.\n",
      "INFO:root:Converting to uint8.\n",
      "DEBUG:root:VolSeg2dPredictor.__init__() ,settings.cuda_device:1\n",
      "INFO:root:Loading model dictionary from file.\n",
      "INFO:root:Sending the U-Net model to device 1\n",
      "INFO:root:Loading in the saved weights.\n",
      "DEBUG:root:clear()\n",
      "INFO:root:Volume to be rotated by 0 degrees\n",
      "INFO:root:Predicting YX slices:\n",
      "DEBUG:root:_predict_single_axis_all_probs() with axis:Axis.Z\n",
      "DEBUG:root:rotate_array_to_axis()\n",
      "INFO:root:Free GPU memory is 31.66 GB. Batch size will be 4.\n",
      "INFO:root:Predicting segmentation for volume of shape (256, 256, 256).\n",
      "Prediction batch: 100%|██████████████████████████████| 64/64 [00:02<00:00, 24.53it/s]\n",
      "INFO:root:Completed prediction. Now manipulating result before returning.\n",
      "DEBUG:root:labels concatenate\n",
      "DEBUG:root:rotate_array_to_axis()\n",
      "DEBUG:root:probs concatenate\n",
      "DEBUG:root:probs rotate (transpose+swapaxis) to axis\n",
      "INFO:root:Saving data of shape (256, 256, 256, 3) to /tmp/tmpaal2b0ml/pred_0_YX_0.h5 with kwargs {}.\n",
      "INFO:root:Saving data of shape (256, 256, 256) to /tmp/tmpaal2b0ml/pred_0_YX_labels_0.h5 with kwargs {}.\n",
      "INFO:root:Predicting ZX slices:\n",
      "DEBUG:root:_predict_single_axis_all_probs() with axis:Axis.Y\n",
      "DEBUG:root:rotate_array_to_axis()\n",
      "INFO:root:Free GPU memory is 31.66 GB. Batch size will be 4.\n",
      "INFO:root:Predicting segmentation for volume of shape (256, 256, 256).\n",
      "Prediction batch: 100%|██████████████████████████████| 64/64 [00:01<00:00, 55.95it/s]\n",
      "INFO:root:Completed prediction. Now manipulating result before returning.\n",
      "DEBUG:root:labels concatenate\n",
      "DEBUG:root:rotate_array_to_axis()\n",
      "DEBUG:root:probs concatenate\n",
      "DEBUG:root:probs rotate (transpose+swapaxis) to axis\n",
      "INFO:root:Saving data of shape (256, 256, 256, 3) to /tmp/tmpaal2b0ml/pred_0_ZX_0.h5 with kwargs {}.\n",
      "INFO:root:Saving data of shape (256, 256, 256) to /tmp/tmpaal2b0ml/pred_0_ZX_labels_0.h5 with kwargs {}.\n",
      "INFO:root:Predicting ZY slices:\n",
      "DEBUG:root:_predict_single_axis_all_probs() with axis:Axis.X\n",
      "DEBUG:root:rotate_array_to_axis()\n",
      "INFO:root:Free GPU memory is 31.66 GB. Batch size will be 4.\n",
      "INFO:root:Predicting segmentation for volume of shape (256, 256, 256).\n",
      "Prediction batch: 100%|██████████████████████████████| 64/64 [00:01<00:00, 48.56it/s]\n",
      "INFO:root:Completed prediction. Now manipulating result before returning.\n",
      "DEBUG:root:labels concatenate\n",
      "DEBUG:root:rotate_array_to_axis()\n",
      "DEBUG:root:probs concatenate\n",
      "DEBUG:root:probs rotate (transpose+swapaxis) to axis\n",
      "INFO:root:Saving data of shape (256, 256, 256, 3) to /tmp/tmpaal2b0ml/pred_0_ZY_0.h5 with kwargs {}.\n",
      "INFO:root:Saving data of shape (256, 256, 256) to /tmp/tmpaal2b0ml/pred_0_ZY_labels_0.h5 with kwargs {}.\n",
      "INFO:root:Volume to be rotated by 90 degrees\n",
      "INFO:root:Predicting YX slices:\n",
      "DEBUG:root:_predict_single_axis_all_probs() with axis:Axis.Z\n",
      "DEBUG:root:rotate_array_to_axis()\n",
      "INFO:root:Free GPU memory is 31.66 GB. Batch size will be 4.\n",
      "INFO:root:Predicting segmentation for volume of shape (256, 256, 256).\n",
      "Prediction batch: 100%|██████████████████████████████| 64/64 [00:01<00:00, 54.76it/s]\n",
      "INFO:root:Completed prediction. Now manipulating result before returning.\n",
      "DEBUG:root:labels concatenate\n",
      "DEBUG:root:rotate_array_to_axis()\n",
      "DEBUG:root:probs concatenate\n",
      "DEBUG:root:probs rotate (transpose+swapaxis) to axis\n",
      "INFO:root:Saving data of shape (256, 256, 256, 3) to /tmp/tmpaal2b0ml/pred_0_YX_90.h5 with kwargs {}.\n",
      "INFO:root:Saving data of shape (256, 256, 256) to /tmp/tmpaal2b0ml/pred_0_YX_labels_90.h5 with kwargs {}.\n",
      "INFO:root:Predicting ZX slices:\n",
      "DEBUG:root:_predict_single_axis_all_probs() with axis:Axis.Y\n",
      "DEBUG:root:rotate_array_to_axis()\n",
      "INFO:root:Free GPU memory is 31.66 GB. Batch size will be 4.\n",
      "INFO:root:Predicting segmentation for volume of shape (256, 256, 256).\n",
      "Prediction batch: 100%|██████████████████████████████| 64/64 [00:01<00:00, 54.08it/s]\n",
      "INFO:root:Completed prediction. Now manipulating result before returning.\n",
      "DEBUG:root:labels concatenate\n",
      "DEBUG:root:rotate_array_to_axis()\n",
      "DEBUG:root:probs concatenate\n",
      "DEBUG:root:probs rotate (transpose+swapaxis) to axis\n",
      "INFO:root:Saving data of shape (256, 256, 256, 3) to /tmp/tmpaal2b0ml/pred_0_ZX_90.h5 with kwargs {}.\n",
      "INFO:root:Saving data of shape (256, 256, 256) to /tmp/tmpaal2b0ml/pred_0_ZX_labels_90.h5 with kwargs {}.\n",
      "INFO:root:Predicting ZY slices:\n",
      "DEBUG:root:_predict_single_axis_all_probs() with axis:Axis.X\n",
      "DEBUG:root:rotate_array_to_axis()\n",
      "INFO:root:Free GPU memory is 31.66 GB. Batch size will be 4.\n",
      "INFO:root:Predicting segmentation for volume of shape (256, 256, 256).\n",
      "Prediction batch: 100%|██████████████████████████████| 64/64 [00:01<00:00, 54.74it/s]\n",
      "INFO:root:Completed prediction. Now manipulating result before returning.\n",
      "DEBUG:root:labels concatenate\n",
      "DEBUG:root:rotate_array_to_axis()\n",
      "DEBUG:root:probs concatenate\n",
      "DEBUG:root:probs rotate (transpose+swapaxis) to axis\n",
      "INFO:root:Saving data of shape (256, 256, 256, 3) to /tmp/tmpaal2b0ml/pred_0_ZY_90.h5 with kwargs {}.\n",
      "INFO:root:Saving data of shape (256, 256, 256) to /tmp/tmpaal2b0ml/pred_0_ZY_labels_90.h5 with kwargs {}.\n",
      "INFO:root:Volume to be rotated by 180 degrees\n",
      "INFO:root:Predicting YX slices:\n",
      "DEBUG:root:_predict_single_axis_all_probs() with axis:Axis.Z\n",
      "DEBUG:root:rotate_array_to_axis()\n",
      "INFO:root:Free GPU memory is 31.66 GB. Batch size will be 4.\n",
      "INFO:root:Predicting segmentation for volume of shape (256, 256, 256).\n",
      "Prediction batch: 100%|██████████████████████████████| 64/64 [00:01<00:00, 62.56it/s]\n",
      "INFO:root:Completed prediction. Now manipulating result before returning.\n",
      "DEBUG:root:labels concatenate\n",
      "DEBUG:root:rotate_array_to_axis()\n",
      "DEBUG:root:probs concatenate\n",
      "DEBUG:root:probs rotate (transpose+swapaxis) to axis\n",
      "INFO:root:Saving data of shape (256, 256, 256, 3) to /tmp/tmpaal2b0ml/pred_0_YX_180.h5 with kwargs {}.\n",
      "INFO:root:Saving data of shape (256, 256, 256) to /tmp/tmpaal2b0ml/pred_0_YX_labels_180.h5 with kwargs {}.\n",
      "INFO:root:Predicting ZX slices:\n",
      "DEBUG:root:_predict_single_axis_all_probs() with axis:Axis.Y\n",
      "DEBUG:root:rotate_array_to_axis()\n",
      "INFO:root:Free GPU memory is 31.66 GB. Batch size will be 4.\n",
      "INFO:root:Predicting segmentation for volume of shape (256, 256, 256).\n",
      "Prediction batch: 100%|██████████████████████████████| 64/64 [00:01<00:00, 51.54it/s]\n",
      "INFO:root:Completed prediction. Now manipulating result before returning.\n",
      "DEBUG:root:labels concatenate\n",
      "DEBUG:root:rotate_array_to_axis()\n",
      "DEBUG:root:probs concatenate\n",
      "DEBUG:root:probs rotate (transpose+swapaxis) to axis\n",
      "INFO:root:Saving data of shape (256, 256, 256, 3) to /tmp/tmpaal2b0ml/pred_0_ZX_180.h5 with kwargs {}.\n",
      "INFO:root:Saving data of shape (256, 256, 256) to /tmp/tmpaal2b0ml/pred_0_ZX_labels_180.h5 with kwargs {}.\n",
      "INFO:root:Predicting ZY slices:\n",
      "DEBUG:root:_predict_single_axis_all_probs() with axis:Axis.X\n",
      "DEBUG:root:rotate_array_to_axis()\n",
      "INFO:root:Free GPU memory is 31.66 GB. Batch size will be 4.\n",
      "INFO:root:Predicting segmentation for volume of shape (256, 256, 256).\n",
      "Prediction batch: 100%|██████████████████████████████| 64/64 [00:01<00:00, 39.22it/s]\n",
      "INFO:root:Completed prediction. Now manipulating result before returning.\n",
      "DEBUG:root:labels concatenate\n",
      "DEBUG:root:rotate_array_to_axis()\n",
      "DEBUG:root:probs concatenate\n",
      "DEBUG:root:probs rotate (transpose+swapaxis) to axis\n",
      "INFO:root:Saving data of shape (256, 256, 256, 3) to /tmp/tmpaal2b0ml/pred_0_ZY_180.h5 with kwargs {}.\n",
      "INFO:root:Saving data of shape (256, 256, 256) to /tmp/tmpaal2b0ml/pred_0_ZY_labels_180.h5 with kwargs {}.\n",
      "INFO:root:Volume to be rotated by 270 degrees\n",
      "INFO:root:Predicting YX slices:\n",
      "DEBUG:root:_predict_single_axis_all_probs() with axis:Axis.Z\n",
      "DEBUG:root:rotate_array_to_axis()\n",
      "INFO:root:Free GPU memory is 31.66 GB. Batch size will be 4.\n",
      "INFO:root:Predicting segmentation for volume of shape (256, 256, 256).\n",
      "Prediction batch: 100%|██████████████████████████████| 64/64 [00:01<00:00, 59.60it/s]\n",
      "INFO:root:Completed prediction. Now manipulating result before returning.\n",
      "DEBUG:root:labels concatenate\n",
      "DEBUG:root:rotate_array_to_axis()\n",
      "DEBUG:root:probs concatenate\n",
      "DEBUG:root:probs rotate (transpose+swapaxis) to axis\n",
      "INFO:root:Saving data of shape (256, 256, 256, 3) to /tmp/tmpaal2b0ml/pred_0_YX_270.h5 with kwargs {}.\n",
      "INFO:root:Saving data of shape (256, 256, 256) to /tmp/tmpaal2b0ml/pred_0_YX_labels_270.h5 with kwargs {}.\n",
      "INFO:root:Predicting ZX slices:\n",
      "DEBUG:root:_predict_single_axis_all_probs() with axis:Axis.Y\n",
      "DEBUG:root:rotate_array_to_axis()\n",
      "INFO:root:Free GPU memory is 31.66 GB. Batch size will be 4.\n",
      "INFO:root:Predicting segmentation for volume of shape (256, 256, 256).\n",
      "Prediction batch: 100%|██████████████████████████████| 64/64 [00:01<00:00, 54.35it/s]\n",
      "INFO:root:Completed prediction. Now manipulating result before returning.\n",
      "DEBUG:root:labels concatenate\n",
      "DEBUG:root:rotate_array_to_axis()\n",
      "DEBUG:root:probs concatenate\n",
      "DEBUG:root:probs rotate (transpose+swapaxis) to axis\n",
      "INFO:root:Saving data of shape (256, 256, 256, 3) to /tmp/tmpaal2b0ml/pred_0_ZX_270.h5 with kwargs {}.\n",
      "INFO:root:Saving data of shape (256, 256, 256) to /tmp/tmpaal2b0ml/pred_0_ZX_labels_270.h5 with kwargs {}.\n",
      "INFO:root:Predicting ZY slices:\n",
      "DEBUG:root:_predict_single_axis_all_probs() with axis:Axis.X\n",
      "DEBUG:root:rotate_array_to_axis()\n",
      "INFO:root:Free GPU memory is 31.66 GB. Batch size will be 4.\n",
      "INFO:root:Predicting segmentation for volume of shape (256, 256, 256).\n",
      "Prediction batch: 100%|██████████████████████████████| 64/64 [00:01<00:00, 49.09it/s]\n",
      "INFO:root:Completed prediction. Now manipulating result before returning.\n",
      "DEBUG:root:labels concatenate\n",
      "DEBUG:root:rotate_array_to_axis()\n",
      "DEBUG:root:probs concatenate\n",
      "DEBUG:root:probs rotate (transpose+swapaxis) to axis\n",
      "INFO:root:Saving data of shape (256, 256, 256, 3) to /tmp/tmpaal2b0ml/pred_0_ZY_270.h5 with kwargs {}.\n",
      "INFO:root:Saving data of shape (256, 256, 256) to /tmp/tmpaal2b0ml/pred_0_ZY_labels_270.h5 with kwargs {}.\n",
      "DEBUG:root:Generating a DataFrame object with information about predictions\n",
      "INFO:root:NN1 prediction, complete.\n",
      "INFO:root:all_pred_pd\n",
      "INFO:root:            pred_data_probs_filenames  \\\n",
      "0     /tmp/tmpaal2b0ml/pred_0_YX_0.h5   \n",
      "1     /tmp/tmpaal2b0ml/pred_0_ZX_0.h5   \n",
      "2     /tmp/tmpaal2b0ml/pred_0_ZY_0.h5   \n",
      "3    /tmp/tmpaal2b0ml/pred_0_YX_90.h5   \n",
      "4    /tmp/tmpaal2b0ml/pred_0_ZX_90.h5   \n",
      "5    /tmp/tmpaal2b0ml/pred_0_ZY_90.h5   \n",
      "6   /tmp/tmpaal2b0ml/pred_0_YX_180.h5   \n",
      "7   /tmp/tmpaal2b0ml/pred_0_ZX_180.h5   \n",
      "8   /tmp/tmpaal2b0ml/pred_0_ZY_180.h5   \n",
      "9   /tmp/tmpaal2b0ml/pred_0_YX_270.h5   \n",
      "10  /tmp/tmpaal2b0ml/pred_0_ZX_270.h5   \n",
      "11  /tmp/tmpaal2b0ml/pred_0_ZY_270.h5   \n",
      "\n",
      "                  pred_data_labels_filenames  pred_sets pred_planes  \\\n",
      "0     /tmp/tmpaal2b0ml/pred_0_YX_labels_0.h5          0          YX   \n",
      "1     /tmp/tmpaal2b0ml/pred_0_ZX_labels_0.h5          0          ZX   \n",
      "2     /tmp/tmpaal2b0ml/pred_0_ZY_labels_0.h5          0          ZY   \n",
      "3    /tmp/tmpaal2b0ml/pred_0_YX_labels_90.h5          0          YX   \n",
      "4    /tmp/tmpaal2b0ml/pred_0_ZX_labels_90.h5          0          ZX   \n",
      "5    /tmp/tmpaal2b0ml/pred_0_ZY_labels_90.h5          0          ZY   \n",
      "6   /tmp/tmpaal2b0ml/pred_0_YX_labels_180.h5          0          YX   \n",
      "7   /tmp/tmpaal2b0ml/pred_0_ZX_labels_180.h5          0          ZX   \n",
      "8   /tmp/tmpaal2b0ml/pred_0_ZY_labels_180.h5          0          ZY   \n",
      "9   /tmp/tmpaal2b0ml/pred_0_YX_labels_270.h5          0          YX   \n",
      "10  /tmp/tmpaal2b0ml/pred_0_ZX_labels_270.h5          0          ZX   \n",
      "11  /tmp/tmpaal2b0ml/pred_0_ZY_labels_270.h5          0          ZY   \n",
      "\n",
      "    pred_rots  pred_ipred      pred_shapes  \n",
      "0           0           0  (256, 256, 256)  \n",
      "1           0           1  (256, 256, 256)  \n",
      "2           0           2  (256, 256, 256)  \n",
      "3          90           3  (256, 256, 256)  \n",
      "4          90           4  (256, 256, 256)  \n",
      "5          90           5  (256, 256, 256)  \n",
      "6         180           6  (256, 256, 256)  \n",
      "7         180           7  (256, 256, 256)  \n",
      "8         180           8  (256, 256, 256)  \n",
      "9         270           9  (256, 256, 256)  \n",
      "10        270          10  (256, 256, 256)  \n",
      "11        270          11  (256, 256, 256)  \n",
      "DEBUG:root:aggregate_nn1_pred_data with use_dask:False\n",
      "INFO:root:Building large object containing all predictions.\n",
      "INFO:root:use_dask=False. Will try to aggregate data to a numpy.ndarray\n",
      "  0%|          | 0/12 [00:00<?, ?it/s]INFO:root:data0.shape:(256, 256, 256, 3)\n",
      "  0%|          | 0/12 [00:00<?, ?it/s]\n",
      "INFO:root:Allocation using numpy failed. Failsafe will use dask.\n",
      "INFO:root:Exception type:<class 'AttributeError'>\n",
      "INFO:root:use_dask=True. Will aggregate data to a dask.array object\n",
      "  0%|          | 0/12 [00:00<?, ?it/s]INFO:root:i:0, data0.shape:(256, 256, 256, 3), data0.chunksize:(256, 256, 256, 3) \n",
      "INFO:root:npredictions:12\n",
      "INFO:root:data_all shape:(12, 256, 256, 256, 3) chunks_shape:(12, 256, 256, 256, 3)\n",
      "100%|██████████| 12/12 [00:00<00:00, 349.99it/s]\n",
      "INFO:root:Setting up NN2 prediction\n",
      "DEBUG:root:NN2_predict()\n",
      "INFO:root:Data type is dask.core.Array\n"
     ]
    },
    {
     "name": "stdout",
     "output_type": "stream",
     "text": [
      "[########################################] | 100% Completed | 25.38 ss\n"
     ]
    },
    {
     "name": "stderr",
     "output_type": "stream",
     "text": [
      "INFO:root:NN2 prediction complete.\n"
     ]
    }
   ],
   "source": [
    "with lgs.cMultiAxisRotationsSegmentor(lgmodel_fn=\"2023-09-29_ribos_membr.lgsegmod\") as lgsegmentor0:\n",
    "    print(lgsegmentor0)\n",
    "    #Calculates consistency score and volume segmantics. Output filename must be h5 file\n",
    "    lgsegmentor0.set_cuda_device(1)\n",
    "    pred_labels = lgsegmentor0.predict(data_to_pred)"
   ]
  },
  {
   "cell_type": "markdown",
   "metadata": {},
   "source": [
    "# Visualise result"
   ]
  },
  {
   "cell_type": "code",
   "execution_count": 5,
   "metadata": {},
   "outputs": [],
   "source": [
    "import leopardgecko.utils as lgu\n",
    "data_cscore = lgu.read_h5_to_np(\"./consistency_score.h5\")\n",
    "pred_vs = lgu.read_h5_to_np(\"./VS_prediction.h5\")"
   ]
  },
  {
   "cell_type": "code",
   "execution_count": 6,
   "metadata": {},
   "outputs": [
    {
     "name": "stderr",
     "output_type": "stream",
     "text": [
      "DEBUG:in_n_out:Registering provider of <class 'napari.viewer.Viewer'>: <function _provide_viewer at 0x7f5ff9168310> (weight: 0, subclassable: True)\n",
      "DEBUG:in_n_out:Registering provider of <class 'napari.layers.base.base.Layer'>: <function _provide_active_layer at 0x7f5ff91681f0> (weight: 0, subclassable: True)\n",
      "DEBUG:in_n_out:Registering provider of <class 'napari.components.layerlist.LayerList'>: <function _provide_active_layer_list at 0x7f5ff9168280> (weight: 0, subclassable: True)\n",
      "DEBUG:in_n_out:Registering processor of <function NewType.<locals>.new_type at 0x7f5ff91f8430>: <function _add_layer_data_tuples_to_viewer at 0x7f5ff9168430> (weight: 0, subclassable: False)\n",
      "DEBUG:in_n_out:Registering processor of typing.List[LayerDataTuple]: <function _add_layer_data_tuples_to_viewer at 0x7f5ff9168430> (weight: 0, subclassable: False)\n",
      "DEBUG:in_n_out:Registering processor of <class 'napari.layers.base.base.Layer'>: <function _add_layer_to_viewer at 0x7f5ff9168160> (weight: 0, subclassable: True)\n",
      "DEBUG:in_n_out:Registering processor of <function NewType.<locals>.new_type at 0x7f5ff91f8040>: functools.partial(<function _add_layer_data_to_viewer at 0x7f5ff91680d0>, return_type=<function NewType.<locals>.new_type at 0x7f5ff91f8040>) (weight: 0, subclassable: False)\n",
      "DEBUG:in_n_out:Registering processor of concurrent.futures._base.Future[typing.NewType.<locals>.new_type]: functools.partial(<function _add_future_data at 0x7f5ff91dcca0>, return_type=<function NewType.<locals>.new_type at 0x7f5ff91f8040>, _from_tuple=False) (weight: 0, subclassable: False)\n",
      "DEBUG:in_n_out:Registering processor of <function NewType.<locals>.new_type at 0x7f5ff91f80d0>: functools.partial(<function _add_layer_data_to_viewer at 0x7f5ff91680d0>, return_type=<function NewType.<locals>.new_type at 0x7f5ff91f80d0>) (weight: 0, subclassable: False)\n",
      "DEBUG:in_n_out:Registering processor of concurrent.futures._base.Future[typing.NewType.<locals>.new_type]: functools.partial(<function _add_future_data at 0x7f5ff91dcca0>, return_type=<function NewType.<locals>.new_type at 0x7f5ff91f80d0>, _from_tuple=False) (weight: 0, subclassable: False)\n",
      "DEBUG:in_n_out:Registering processor of <function NewType.<locals>.new_type at 0x7f5ff91f8160>: functools.partial(<function _add_layer_data_to_viewer at 0x7f5ff91680d0>, return_type=<function NewType.<locals>.new_type at 0x7f5ff91f8160>) (weight: 0, subclassable: False)\n",
      "DEBUG:in_n_out:Registering processor of concurrent.futures._base.Future[typing.NewType.<locals>.new_type]: functools.partial(<function _add_future_data at 0x7f5ff91dcca0>, return_type=<function NewType.<locals>.new_type at 0x7f5ff91f8160>, _from_tuple=False) (weight: 0, subclassable: False)\n",
      "DEBUG:in_n_out:Registering processor of <function NewType.<locals>.new_type at 0x7f5ff91f81f0>: functools.partial(<function _add_layer_data_to_viewer at 0x7f5ff91680d0>, return_type=<function NewType.<locals>.new_type at 0x7f5ff91f81f0>) (weight: 0, subclassable: False)\n",
      "DEBUG:in_n_out:Registering processor of concurrent.futures._base.Future[typing.NewType.<locals>.new_type]: functools.partial(<function _add_future_data at 0x7f5ff91dcca0>, return_type=<function NewType.<locals>.new_type at 0x7f5ff91f81f0>, _from_tuple=False) (weight: 0, subclassable: False)\n",
      "DEBUG:in_n_out:Registering processor of <function NewType.<locals>.new_type at 0x7f5ff91f8280>: functools.partial(<function _add_layer_data_to_viewer at 0x7f5ff91680d0>, return_type=<function NewType.<locals>.new_type at 0x7f5ff91f8280>) (weight: 0, subclassable: False)\n",
      "DEBUG:in_n_out:Registering processor of concurrent.futures._base.Future[typing.NewType.<locals>.new_type]: functools.partial(<function _add_future_data at 0x7f5ff91dcca0>, return_type=<function NewType.<locals>.new_type at 0x7f5ff91f8280>, _from_tuple=False) (weight: 0, subclassable: False)\n",
      "DEBUG:in_n_out:Registering processor of <function NewType.<locals>.new_type at 0x7f5ff91f8310>: functools.partial(<function _add_layer_data_to_viewer at 0x7f5ff91680d0>, return_type=<function NewType.<locals>.new_type at 0x7f5ff91f8310>) (weight: 0, subclassable: False)\n",
      "DEBUG:in_n_out:Registering processor of concurrent.futures._base.Future[typing.NewType.<locals>.new_type]: functools.partial(<function _add_future_data at 0x7f5ff91dcca0>, return_type=<function NewType.<locals>.new_type at 0x7f5ff91f8310>, _from_tuple=False) (weight: 0, subclassable: False)\n",
      "DEBUG:in_n_out:Registering processor of <function NewType.<locals>.new_type at 0x7f5ff91f83a0>: functools.partial(<function _add_layer_data_to_viewer at 0x7f5ff91680d0>, return_type=<function NewType.<locals>.new_type at 0x7f5ff91f83a0>) (weight: 0, subclassable: False)\n",
      "DEBUG:in_n_out:Registering processor of concurrent.futures._base.Future[typing.NewType.<locals>.new_type]: functools.partial(<function _add_future_data at 0x7f5ff91dcca0>, return_type=<function NewType.<locals>.new_type at 0x7f5ff91f83a0>, _from_tuple=False) (weight: 0, subclassable: False)\n",
      "DEBUG:in_n_out:Registering processor of napari._qt.qthreading.FunctionWorker[LayerDataTuple]: <function _add_worker_data_from_tuple at 0x7f5fc3964ca0> (weight: 0, subclassable: False)\n",
      "DEBUG:in_n_out:Registering processor of napari._qt.qthreading.FunctionWorker[typing.List[LayerDataTuple]]: <function _add_worker_data_from_tuple at 0x7f5fc3964ca0> (weight: 0, subclassable: False)\n",
      "DEBUG:in_n_out:Registering processor of napari._qt.qthreading.FunctionWorker[ShapesData]: <function _add_worker_data at 0x7f5fc3964c10> (weight: 0, subclassable: False)\n",
      "DEBUG:in_n_out:Registering processor of napari._qt.qthreading.FunctionWorker[PointsData]: <function _add_worker_data at 0x7f5fc3964c10> (weight: 0, subclassable: False)\n",
      "DEBUG:in_n_out:Registering processor of napari._qt.qthreading.FunctionWorker[TracksData]: <function _add_worker_data at 0x7f5fc3964c10> (weight: 0, subclassable: False)\n",
      "DEBUG:in_n_out:Registering processor of napari._qt.qthreading.FunctionWorker[VectorsData]: <function _add_worker_data at 0x7f5fc3964c10> (weight: 0, subclassable: False)\n",
      "DEBUG:in_n_out:Registering processor of napari._qt.qthreading.FunctionWorker[LabelsData]: <function _add_worker_data at 0x7f5fc3964c10> (weight: 0, subclassable: False)\n",
      "DEBUG:in_n_out:Registering processor of napari._qt.qthreading.FunctionWorker[ImageData]: <function _add_worker_data at 0x7f5fc3964c10> (weight: 0, subclassable: False)\n",
      "DEBUG:in_n_out:Registering processor of napari._qt.qthreading.FunctionWorker[SurfaceData]: <function _add_worker_data at 0x7f5fc3964c10> (weight: 0, subclassable: False)\n",
      "DEBUG:in_n_out:Registering provider of <class 'napari._qt.qt_main_window.Window'>: <function init_qactions.<locals>._provide_window at 0x7f5e641c5af0> (weight: 0, subclassable: True)\n",
      "DEBUG:in_n_out:Registering provider of <class 'napari._qt.qt_viewer.QtViewer'>: <function init_qactions.<locals>._provide_qt_viewer at 0x7f5dc856eaf0> (weight: 0, subclassable: True)\n",
      "DEBUG:in_n_out:Executing @injected ViewerToggleAction.__init__.<locals>.get_current(viewer: napari.viewer.Viewer) with args: (), kwargs: {}\n",
      "DEBUG:in_n_out:Rebuilding provider map cache\n",
      "DEBUG:in_n_out:  injecting viewer: <class 'napari.viewer.Viewer'> = Viewer(camera=Camera(center=(0.0, 0.0, 0.0), zoom=1.0, angles=(0.0, 0.0, 90.0), perspective=0.0, mouse_pan=True, mouse_zoom=True), cursor=Cursor(position=(1.0, 1.0), scaled=True, size=1, style=<CursorStyle.STANDARD: 'standard'>), dims=Dims(ndim=2, ndisplay=2, last_used=0, range=((0, 2, 1), (0, 2, 1)), current_step=(0, 0), order=(0, 1), axis_labels=('0', '1')), grid=GridCanvas(stride=1, shape=(-1, -1), enabled=False), layers=[], help='', status='Ready', tooltip=Tooltip(visible=False, text=''), theme='dark', title='napari', mouse_over_canvas=False, mouse_move_callbacks=[], mouse_drag_callbacks=[], mouse_double_click_callbacks=[], mouse_wheel_callbacks=[<function dims_scroll at 0x7f5ff9340a60>], _persisted_mouse_event={}, _mouse_drag_gen={}, _mouse_wheel_gen={}, keymap={})\n",
      "DEBUG:in_n_out:  Calling ViewerToggleAction.__init__.<locals>.get_current with {'viewer': Viewer(camera=Camera(center=(0.0, 0.0, 0.0), zoom=1.0, angles=(0.0, 0.0, 90.0), perspective=0.0, mouse_pan=True, mouse_zoom=True), cursor=Cursor(position=(1.0, 1.0), scaled=True, size=1, style=<CursorStyle.STANDARD: 'standard'>), dims=Dims(ndim=2, ndisplay=2, last_used=0, range=((0, 2, 1), (0, 2, 1)), current_step=(0, 0), order=(0, 1), axis_labels=('0', '1')), grid=GridCanvas(stride=1, shape=(-1, -1), enabled=False), layers=[], help='', status='Ready', tooltip=Tooltip(visible=False, text=''), theme='dark', title='napari', mouse_over_canvas=False, mouse_move_callbacks=[], mouse_drag_callbacks=[], mouse_double_click_callbacks=[], mouse_wheel_callbacks=[<function dims_scroll at 0x7f5ff9340a60>], _persisted_mouse_event={}, _mouse_drag_gen={}, _mouse_wheel_gen={}, keymap={})} (injected {'viewer'})\n",
      "DEBUG:in_n_out:Executing @injected ViewerToggleAction.__init__.<locals>.get_current(viewer: napari.viewer.Viewer) with args: (), kwargs: {}\n",
      "DEBUG:in_n_out:  injecting viewer: <class 'napari.viewer.Viewer'> = Viewer(camera=Camera(center=(0.0, 0.0, 0.0), zoom=1.0, angles=(0.0, 0.0, 90.0), perspective=0.0, mouse_pan=True, mouse_zoom=True), cursor=Cursor(position=(1.0, 1.0), scaled=True, size=1, style=<CursorStyle.STANDARD: 'standard'>), dims=Dims(ndim=2, ndisplay=2, last_used=0, range=((0, 2, 1), (0, 2, 1)), current_step=(0, 0), order=(0, 1), axis_labels=('0', '1')), grid=GridCanvas(stride=1, shape=(-1, -1), enabled=False), layers=[], help='', status='Ready', tooltip=Tooltip(visible=False, text=''), theme='dark', title='napari', mouse_over_canvas=False, mouse_move_callbacks=[], mouse_drag_callbacks=[], mouse_double_click_callbacks=[], mouse_wheel_callbacks=[<function dims_scroll at 0x7f5ff9340a60>], _persisted_mouse_event={}, _mouse_drag_gen={}, _mouse_wheel_gen={}, keymap={})\n",
      "DEBUG:in_n_out:  Calling ViewerToggleAction.__init__.<locals>.get_current with {'viewer': Viewer(camera=Camera(center=(0.0, 0.0, 0.0), zoom=1.0, angles=(0.0, 0.0, 90.0), perspective=0.0, mouse_pan=True, mouse_zoom=True), cursor=Cursor(position=(1.0, 1.0), scaled=True, size=1, style=<CursorStyle.STANDARD: 'standard'>), dims=Dims(ndim=2, ndisplay=2, last_used=0, range=((0, 2, 1), (0, 2, 1)), current_step=(0, 0), order=(0, 1), axis_labels=('0', '1')), grid=GridCanvas(stride=1, shape=(-1, -1), enabled=False), layers=[], help='', status='Ready', tooltip=Tooltip(visible=False, text=''), theme='dark', title='napari', mouse_over_canvas=False, mouse_move_callbacks=[], mouse_drag_callbacks=[], mouse_double_click_callbacks=[], mouse_wheel_callbacks=[<function dims_scroll at 0x7f5ff9340a60>], _persisted_mouse_event={}, _mouse_drag_gen={}, _mouse_wheel_gen={}, keymap={})} (injected {'viewer'})\n",
      "DEBUG:in_n_out:Executing @injected ViewerToggleAction.__init__.<locals>.get_current(viewer: napari.viewer.Viewer) with args: (), kwargs: {}\n",
      "DEBUG:in_n_out:  injecting viewer: <class 'napari.viewer.Viewer'> = Viewer(camera=Camera(center=(0.0, 0.0, 0.0), zoom=1.0, angles=(0.0, 0.0, 90.0), perspective=0.0, mouse_pan=True, mouse_zoom=True), cursor=Cursor(position=(1.0, 1.0), scaled=True, size=1, style=<CursorStyle.STANDARD: 'standard'>), dims=Dims(ndim=2, ndisplay=2, last_used=0, range=((0, 2, 1), (0, 2, 1)), current_step=(0, 0), order=(0, 1), axis_labels=('0', '1')), grid=GridCanvas(stride=1, shape=(-1, -1), enabled=False), layers=[], help='', status='Ready', tooltip=Tooltip(visible=False, text=''), theme='dark', title='napari', mouse_over_canvas=False, mouse_move_callbacks=[], mouse_drag_callbacks=[], mouse_double_click_callbacks=[], mouse_wheel_callbacks=[<function dims_scroll at 0x7f5ff9340a60>], _persisted_mouse_event={}, _mouse_drag_gen={}, _mouse_wheel_gen={}, keymap={})\n",
      "DEBUG:in_n_out:  Calling ViewerToggleAction.__init__.<locals>.get_current with {'viewer': Viewer(camera=Camera(center=(0.0, 0.0, 0.0), zoom=1.0, angles=(0.0, 0.0, 90.0), perspective=0.0, mouse_pan=True, mouse_zoom=True), cursor=Cursor(position=(1.0, 1.0), scaled=True, size=1, style=<CursorStyle.STANDARD: 'standard'>), dims=Dims(ndim=2, ndisplay=2, last_used=0, range=((0, 2, 1), (0, 2, 1)), current_step=(0, 0), order=(0, 1), axis_labels=('0', '1')), grid=GridCanvas(stride=1, shape=(-1, -1), enabled=False), layers=[], help='', status='Ready', tooltip=Tooltip(visible=False, text=''), theme='dark', title='napari', mouse_over_canvas=False, mouse_move_callbacks=[], mouse_drag_callbacks=[], mouse_double_click_callbacks=[], mouse_wheel_callbacks=[<function dims_scroll at 0x7f5ff9340a60>], _persisted_mouse_event={}, _mouse_drag_gen={}, _mouse_wheel_gen={}, keymap={})} (injected {'viewer'})\n",
      "DEBUG:in_n_out:Executing @injected ViewerToggleAction.__init__.<locals>.get_current(viewer: napari.viewer.Viewer) with args: (), kwargs: {}\n",
      "DEBUG:in_n_out:  injecting viewer: <class 'napari.viewer.Viewer'> = Viewer(camera=Camera(center=(0.0, 0.0, 0.0), zoom=1.0, angles=(0.0, 0.0, 90.0), perspective=0.0, mouse_pan=True, mouse_zoom=True), cursor=Cursor(position=(1.0, 1.0), scaled=True, size=1, style=<CursorStyle.STANDARD: 'standard'>), dims=Dims(ndim=2, ndisplay=2, last_used=0, range=((0, 2, 1), (0, 2, 1)), current_step=(0, 0), order=(0, 1), axis_labels=('0', '1')), grid=GridCanvas(stride=1, shape=(-1, -1), enabled=False), layers=[], help='', status='Ready', tooltip=Tooltip(visible=False, text=''), theme='dark', title='napari', mouse_over_canvas=False, mouse_move_callbacks=[], mouse_drag_callbacks=[], mouse_double_click_callbacks=[], mouse_wheel_callbacks=[<function dims_scroll at 0x7f5ff9340a60>], _persisted_mouse_event={}, _mouse_drag_gen={}, _mouse_wheel_gen={}, keymap={})\n",
      "DEBUG:in_n_out:  Calling ViewerToggleAction.__init__.<locals>.get_current with {'viewer': Viewer(camera=Camera(center=(0.0, 0.0, 0.0), zoom=1.0, angles=(0.0, 0.0, 90.0), perspective=0.0, mouse_pan=True, mouse_zoom=True), cursor=Cursor(position=(1.0, 1.0), scaled=True, size=1, style=<CursorStyle.STANDARD: 'standard'>), dims=Dims(ndim=2, ndisplay=2, last_used=0, range=((0, 2, 1), (0, 2, 1)), current_step=(0, 0), order=(0, 1), axis_labels=('0', '1')), grid=GridCanvas(stride=1, shape=(-1, -1), enabled=False), layers=[], help='', status='Ready', tooltip=Tooltip(visible=False, text=''), theme='dark', title='napari', mouse_over_canvas=False, mouse_move_callbacks=[], mouse_drag_callbacks=[], mouse_double_click_callbacks=[], mouse_wheel_callbacks=[<function dims_scroll at 0x7f5ff9340a60>], _persisted_mouse_event={}, _mouse_drag_gen={}, _mouse_wheel_gen={}, keymap={})} (injected {'viewer'})\n",
      "DEBUG:in_n_out:Executing @injected ViewerToggleAction.__init__.<locals>.get_current(viewer: napari.viewer.Viewer) with args: (), kwargs: {}\n",
      "DEBUG:in_n_out:  injecting viewer: <class 'napari.viewer.Viewer'> = Viewer(camera=Camera(center=(0.0, 0.0, 0.0), zoom=1.0, angles=(0.0, 0.0, 90.0), perspective=0.0, mouse_pan=True, mouse_zoom=True), cursor=Cursor(position=(1.0, 1.0), scaled=True, size=1, style=<CursorStyle.STANDARD: 'standard'>), dims=Dims(ndim=2, ndisplay=2, last_used=0, range=((0, 2, 1), (0, 2, 1)), current_step=(0, 0), order=(0, 1), axis_labels=('0', '1')), grid=GridCanvas(stride=1, shape=(-1, -1), enabled=False), layers=[], help='', status='Ready', tooltip=Tooltip(visible=False, text=''), theme='dark', title='napari', mouse_over_canvas=False, mouse_move_callbacks=[], mouse_drag_callbacks=[], mouse_double_click_callbacks=[], mouse_wheel_callbacks=[<function dims_scroll at 0x7f5ff9340a60>], _persisted_mouse_event={}, _mouse_drag_gen={}, _mouse_wheel_gen={}, keymap={})\n",
      "DEBUG:in_n_out:  Calling ViewerToggleAction.__init__.<locals>.get_current with {'viewer': Viewer(camera=Camera(center=(0.0, 0.0, 0.0), zoom=1.0, angles=(0.0, 0.0, 90.0), perspective=0.0, mouse_pan=True, mouse_zoom=True), cursor=Cursor(position=(1.0, 1.0), scaled=True, size=1, style=<CursorStyle.STANDARD: 'standard'>), dims=Dims(ndim=2, ndisplay=2, last_used=0, range=((0, 2, 1), (0, 2, 1)), current_step=(0, 0), order=(0, 1), axis_labels=('0', '1')), grid=GridCanvas(stride=1, shape=(-1, -1), enabled=False), layers=[], help='', status='Ready', tooltip=Tooltip(visible=False, text=''), theme='dark', title='napari', mouse_over_canvas=False, mouse_move_callbacks=[], mouse_drag_callbacks=[], mouse_double_click_callbacks=[], mouse_wheel_callbacks=[<function dims_scroll at 0x7f5ff9340a60>], _persisted_mouse_event={}, _mouse_drag_gen={}, _mouse_wheel_gen={}, keymap={})} (injected {'viewer'})\n",
      "DEBUG:in_n_out:Executing @injected ViewerToggleAction.__init__.<locals>.get_current(viewer: napari.viewer.Viewer) with args: (), kwargs: {}\n",
      "DEBUG:in_n_out:  injecting viewer: <class 'napari.viewer.Viewer'> = Viewer(camera=Camera(center=(0.0, 0.0, 0.0), zoom=1.0, angles=(0.0, 0.0, 90.0), perspective=0.0, mouse_pan=True, mouse_zoom=True), cursor=Cursor(position=(1.0, 1.0), scaled=True, size=1, style=<CursorStyle.STANDARD: 'standard'>), dims=Dims(ndim=2, ndisplay=2, last_used=0, range=((0, 2, 1), (0, 2, 1)), current_step=(0, 0), order=(0, 1), axis_labels=('0', '1')), grid=GridCanvas(stride=1, shape=(-1, -1), enabled=False), layers=[], help='', status='Ready', tooltip=Tooltip(visible=False, text=''), theme='dark', title='napari', mouse_over_canvas=False, mouse_move_callbacks=[], mouse_drag_callbacks=[], mouse_double_click_callbacks=[], mouse_wheel_callbacks=[<function dims_scroll at 0x7f5ff9340a60>], _persisted_mouse_event={}, _mouse_drag_gen={}, _mouse_wheel_gen={}, keymap={})\n",
      "DEBUG:in_n_out:  Calling ViewerToggleAction.__init__.<locals>.get_current with {'viewer': Viewer(camera=Camera(center=(0.0, 0.0, 0.0), zoom=1.0, angles=(0.0, 0.0, 90.0), perspective=0.0, mouse_pan=True, mouse_zoom=True), cursor=Cursor(position=(1.0, 1.0), scaled=True, size=1, style=<CursorStyle.STANDARD: 'standard'>), dims=Dims(ndim=2, ndisplay=2, last_used=0, range=((0, 2, 1), (0, 2, 1)), current_step=(0, 0), order=(0, 1), axis_labels=('0', '1')), grid=GridCanvas(stride=1, shape=(-1, -1), enabled=False), layers=[], help='', status='Ready', tooltip=Tooltip(visible=False, text=''), theme='dark', title='napari', mouse_over_canvas=False, mouse_move_callbacks=[], mouse_drag_callbacks=[], mouse_double_click_callbacks=[], mouse_wheel_callbacks=[<function dims_scroll at 0x7f5ff9340a60>], _persisted_mouse_event={}, _mouse_drag_gen={}, _mouse_wheel_gen={}, keymap={})} (injected {'viewer'})\n",
      "DEBUG:in_n_out:Executing @injected ViewerToggleAction.__init__.<locals>.get_current(viewer: napari.viewer.Viewer) with args: (), kwargs: {}\n",
      "DEBUG:in_n_out:  injecting viewer: <class 'napari.viewer.Viewer'> = Viewer(camera=Camera(center=(0.0, 0.0, 0.0), zoom=1.0, angles=(0.0, 0.0, 90.0), perspective=0.0, mouse_pan=True, mouse_zoom=True), cursor=Cursor(position=(1.0, 1.0), scaled=True, size=1, style=<CursorStyle.STANDARD: 'standard'>), dims=Dims(ndim=2, ndisplay=2, last_used=0, range=((0, 2, 1), (0, 2, 1)), current_step=(0, 0), order=(0, 1), axis_labels=('0', '1')), grid=GridCanvas(stride=1, shape=(-1, -1), enabled=False), layers=[], help='', status='Ready', tooltip=Tooltip(visible=False, text=''), theme='dark', title='napari', mouse_over_canvas=False, mouse_move_callbacks=[], mouse_drag_callbacks=[], mouse_double_click_callbacks=[], mouse_wheel_callbacks=[<function dims_scroll at 0x7f5ff9340a60>], _persisted_mouse_event={}, _mouse_drag_gen={}, _mouse_wheel_gen={}, keymap={})\n",
      "DEBUG:in_n_out:  Calling ViewerToggleAction.__init__.<locals>.get_current with {'viewer': Viewer(camera=Camera(center=(0.0, 0.0, 0.0), zoom=1.0, angles=(0.0, 0.0, 90.0), perspective=0.0, mouse_pan=True, mouse_zoom=True), cursor=Cursor(position=(1.0, 1.0), scaled=True, size=1, style=<CursorStyle.STANDARD: 'standard'>), dims=Dims(ndim=2, ndisplay=2, last_used=0, range=((0, 2, 1), (0, 2, 1)), current_step=(0, 0), order=(0, 1), axis_labels=('0', '1')), grid=GridCanvas(stride=1, shape=(-1, -1), enabled=False), layers=[], help='', status='Ready', tooltip=Tooltip(visible=False, text=''), theme='dark', title='napari', mouse_over_canvas=False, mouse_move_callbacks=[], mouse_drag_callbacks=[], mouse_double_click_callbacks=[], mouse_wheel_callbacks=[<function dims_scroll at 0x7f5ff9340a60>], _persisted_mouse_event={}, _mouse_drag_gen={}, _mouse_wheel_gen={}, keymap={})} (injected {'viewer'})\n",
      "DEBUG:in_n_out:Executing @injected ViewerToggleAction.__init__.<locals>.get_current(viewer: napari.viewer.Viewer) with args: (), kwargs: {}\n",
      "DEBUG:in_n_out:  injecting viewer: <class 'napari.viewer.Viewer'> = Viewer(camera=Camera(center=(0.0, 0.0, 0.0), zoom=1.0, angles=(0.0, 0.0, 90.0), perspective=0.0, mouse_pan=True, mouse_zoom=True), cursor=Cursor(position=(1.0, 1.0), scaled=True, size=1, style=<CursorStyle.STANDARD: 'standard'>), dims=Dims(ndim=2, ndisplay=2, last_used=0, range=((0, 2, 1), (0, 2, 1)), current_step=(0, 0), order=(0, 1), axis_labels=('0', '1')), grid=GridCanvas(stride=1, shape=(-1, -1), enabled=False), layers=[], help='', status='Ready', tooltip=Tooltip(visible=False, text=''), theme='dark', title='napari', mouse_over_canvas=False, mouse_move_callbacks=[], mouse_drag_callbacks=[], mouse_double_click_callbacks=[], mouse_wheel_callbacks=[<function dims_scroll at 0x7f5ff9340a60>], _persisted_mouse_event={}, _mouse_drag_gen={}, _mouse_wheel_gen={}, keymap={})\n",
      "DEBUG:in_n_out:  Calling ViewerToggleAction.__init__.<locals>.get_current with {'viewer': Viewer(camera=Camera(center=(0.0, 0.0, 0.0), zoom=1.0, angles=(0.0, 0.0, 90.0), perspective=0.0, mouse_pan=True, mouse_zoom=True), cursor=Cursor(position=(1.0, 1.0), scaled=True, size=1, style=<CursorStyle.STANDARD: 'standard'>), dims=Dims(ndim=2, ndisplay=2, last_used=0, range=((0, 2, 1), (0, 2, 1)), current_step=(0, 0), order=(0, 1), axis_labels=('0', '1')), grid=GridCanvas(stride=1, shape=(-1, -1), enabled=False), layers=[], help='', status='Ready', tooltip=Tooltip(visible=False, text=''), theme='dark', title='napari', mouse_over_canvas=False, mouse_move_callbacks=[], mouse_drag_callbacks=[], mouse_double_click_callbacks=[], mouse_wheel_callbacks=[<function dims_scroll at 0x7f5ff9340a60>], _persisted_mouse_event={}, _mouse_drag_gen={}, _mouse_wheel_gen={}, keymap={})} (injected {'viewer'})\n",
      "DEBUG:in_n_out:Executing @injected _get_current_activity_dock(window: napari._qt.qt_main_window.Window) with args: (), kwargs: {}\n",
      "DEBUG:in_n_out:  injecting window: <class 'napari._qt.qt_main_window.Window'> = <napari._qt.qt_main_window.Window object at 0x7f5fb9943880>\n",
      "DEBUG:in_n_out:  Calling _get_current_activity_dock with {'window': <napari._qt.qt_main_window.Window object at 0x7f5fb9943880>} (injected {'window'})\n",
      "DEBUG:napari.loader:ImageSlice.__init__\n",
      "DEBUG:napari.loader:ImageSlice.__init__\n",
      "DEBUG:napari.loader:ImageSlice.__init__\n",
      "DEBUG:napari.loader:ImageSlice.__init__\n",
      "DEBUG:napari.loader:ImageSlice.__init__\n",
      "DEBUG:napari.loader:ImageSlice.__init__\n",
      "DEBUG:napari.loader:ImageSlice.__init__\n",
      "DEBUG:napari.loader:ImageSlice.__init__\n",
      "DEBUG:napari.loader:ImageSlice.__init__\n",
      "DEBUG:napari.loader:ImageSlice.__init__\n",
      "DEBUG:napari.loader:ImageSlice.__init__\n",
      "DEBUG:napari.loader:ImageSlice.__init__\n",
      "DEBUG:napari.loader:ImageSlice.__init__\n",
      "DEBUG:napari.loader:ImageSlice.__init__\n",
      "DEBUG:napari.loader:ImageSlice.__init__\n",
      "DEBUG:napari.loader:ImageSlice.__init__\n",
      "DEBUG:napari.loader:ImageSlice.__init__\n",
      "DEBUG:napari.loader:ImageSlice.__init__\n",
      "DEBUG:napari.loader:ImageSlice.__init__\n",
      "DEBUG:napari.loader:ImageSlice.__init__\n",
      "DEBUG:napari.loader:ImageSlice.__init__\n"
     ]
    },
    {
     "data": {
      "text/plain": [
       "<Image layer 'data_cscore' at 0x7f5dc05f5dc0>"
      ]
     },
     "execution_count": 6,
     "metadata": {},
     "output_type": "execute_result"
    }
   ],
   "source": [
    "import napari\n",
    "NV=napari.Viewer()\n",
    "NV.add_image(data_to_pred)\n",
    "NV.add_labels(labels_to_compare)\n",
    "NV.add_labels(pred_labels, color={1:'green'})\n",
    "NV.add_labels(pred_vs, color={1:'blue'})\n",
    "NV.add_image(data_cscore)"
   ]
  },
  {
   "cell_type": "markdown",
   "metadata": {},
   "source": [
    "# Compare against ground truth\n",
    "\n",
    "Use leopardgecko metrics to get voxel-F1 (dice score)"
   ]
  },
  {
   "cell_type": "code",
   "execution_count": 7,
   "metadata": {},
   "outputs": [],
   "source": [
    "import leopardgecko.metrics as lgm"
   ]
  },
  {
   "cell_type": "code",
   "execution_count": 8,
   "metadata": {},
   "outputs": [
    {
     "name": "stderr",
     "output_type": "stream",
     "text": [
      "INFO:root:MetricScoreOfVols_Dice()\n",
      "INFO:root:Number of class segmentations in first volume 3\n",
      "INFO:root:Number of class segmentations in second volume 3\n",
      "INFO:root:Calculating using numpy\n",
      "INFO:root:dicescores = {1: 0.5188051691479704, 2: 0.5507384751326172}\n"
     ]
    },
    {
     "data": {
      "text/plain": [
       "(0.5347718221402937, {1: 0.5188051691479704, 2: 0.5507384751326172})"
      ]
     },
     "execution_count": 8,
     "metadata": {},
     "output_type": "execute_result"
    },
    {
     "name": "stderr",
     "output_type": "stream",
     "text": [
      "DEBUG:napari.loader:ImageSlice.__init__\n",
      "DEBUG:napari.loader:ImageSlice.__init__\n",
      "DEBUG:napari.loader:ImageSlice.__init__\n",
      "DEBUG:napari.loader:ImageSlice.__init__\n",
      "DEBUG:napari.loader:ImageSlice.__init__\n"
     ]
    }
   ],
   "source": [
    "lgm.MetricScoreOfVols_Dice(pred_labels,labels_to_compare)"
   ]
  },
  {
   "cell_type": "markdown",
   "metadata": {},
   "source": [
    "dice score 0.535"
   ]
  },
  {
   "cell_type": "code",
   "execution_count": null,
   "metadata": {},
   "outputs": [],
   "source": []
  }
 ],
 "metadata": {
  "kernelspec": {
   "display_name": "Python 3",
   "language": "python",
   "name": "python3"
  },
  "language_info": {
   "codemirror_mode": {
    "name": "ipython",
    "version": 3
   },
   "file_extension": ".py",
   "mimetype": "text/x-python",
   "name": "python",
   "nbconvert_exporter": "python",
   "pygments_lexer": "ipython3",
   "version": "3.9.18"
  },
  "orig_nbformat": 4
 },
 "nbformat": 4,
 "nbformat_minor": 2
}
