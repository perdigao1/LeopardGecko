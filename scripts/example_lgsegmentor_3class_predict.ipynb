{
 "cells": [
  {
   "cell_type": "markdown",
   "metadata": {},
   "source": [
    "This notebook show an example on how to run predictions using a pre-trained a lgsegmentor.\n",
    "\n",
    "This example it uses the validation data "
   ]
  },
  {
   "cell_type": "code",
   "execution_count": 10,
   "metadata": {},
   "outputs": [],
   "source": [
    "import numpy as np\n",
    "import tifffile\n",
    "import napari\n",
    "import leopardgecko.segmentor as lgs\n",
    "\n",
    "import logging\n",
    "logging.basicConfig(level=logging.DEBUG)"
   ]
  },
  {
   "cell_type": "markdown",
   "metadata": {},
   "source": [
    "# Load data  for prediction and respective labels"
   ]
  },
  {
   "cell_type": "code",
   "execution_count": 11,
   "metadata": {},
   "outputs": [],
   "source": [
    "data_to_pred = tifffile.imread(\"test_data/TS_0005_crop_val.tif\")\n",
    "labels_to_compare = tifffile.imread(\"test_data/TS_0005_ribos_membr_crop_val.tif\")"
   ]
  },
  {
   "cell_type": "code",
   "execution_count": 12,
   "metadata": {},
   "outputs": [
    {
     "name": "stdout",
     "output_type": "stream",
     "text": [
      "(256, 256, 256)\n"
     ]
    }
   ],
   "source": [
    "print(data_to_pred.shape)"
   ]
  },
  {
   "cell_type": "markdown",
   "metadata": {},
   "source": [
    "# Setup lg segmentor"
   ]
  },
  {
   "cell_type": "code",
   "execution_count": 13,
   "metadata": {},
   "outputs": [
    {
     "name": "stderr",
     "output_type": "stream",
     "text": [
      "DEBUG:root:cMultiAxisRotationsSegmentor __init__() with temp_data_outdir:None , cuda_device:0\n",
      "DEBUG:root:load_model()\n"
     ]
    }
   ],
   "source": [
    "#Create the class\n",
    "lgsegmentor0 = lgs.cMultiAxisRotationsSegmentor.create_from_model(\"2023-09-29_ribos_membr.lgsegmod\")"
   ]
  },
  {
   "cell_type": "markdown",
   "metadata": {},
   "source": [
    "Check default settings and modify as needed"
   ]
  },
  {
   "cell_type": "code",
   "execution_count": 14,
   "metadata": {},
   "outputs": [
    {
     "data": {
      "text/plain": [
       "namespace(quality='high',\n",
       "          output_probs=True,\n",
       "          clip_data=True,\n",
       "          st_dev_factor=2.575,\n",
       "          data_hdf5_path='/data',\n",
       "          cuda_device=0,\n",
       "          downsample=False,\n",
       "          one_hot=False,\n",
       "          prediction_axis='Z')"
      ]
     },
     "execution_count": 14,
     "metadata": {},
     "output_type": "execute_result"
    }
   ],
   "source": [
    "lgsegmentor0.NN1_pred_settings"
   ]
  },
  {
   "cell_type": "markdown",
   "metadata": {},
   "source": [
    "Set CUDA device.\n",
    "\n",
    "To change cuda device don't change with .cuda_device, but rather use setcudadevice(devnumber)\n",
    "\n",
    "You may want to check usage and memory-usage with command `!nvidia-smi` to see what is available before starting training"
   ]
  },
  {
   "cell_type": "code",
   "execution_count": 16,
   "metadata": {},
   "outputs": [
    {
     "name": "stdout",
     "output_type": "stream",
     "text": [
      "Mon Oct 16 13:52:59 2023       \n",
      "+-----------------------------------------------------------------------------+\n",
      "| NVIDIA-SMI 470.57.02    Driver Version: 470.57.02    CUDA Version: 11.4     |\n",
      "|-------------------------------+----------------------+----------------------+\n",
      "| GPU  Name        Persistence-M| Bus-Id        Disp.A | Volatile Uncorr. ECC |\n",
      "| Fan  Temp  Perf  Pwr:Usage/Cap|         Memory-Usage | GPU-Util  Compute M. |\n",
      "|                               |                      |               MIG M. |\n",
      "|===============================+======================+======================|\n",
      "|   0  Tesla V100-PCIE...  On   | 00000000:00:05.0 Off |                    0 |\n",
      "| N/A   61C    P0   187W / 250W |  29897MiB / 32510MiB |    100%      Default |\n",
      "|                               |                      |                  N/A |\n",
      "+-------------------------------+----------------------+----------------------+\n",
      "|   1  Tesla V100-PCIE...  On   | 00000000:00:06.0 Off |                    0 |\n",
      "| N/A   29C    P0    34W / 250W |   1719MiB / 32510MiB |      0%      Default |\n",
      "|                               |                      |                  N/A |\n",
      "+-------------------------------+----------------------+----------------------+\n",
      "                                                                               \n",
      "+-----------------------------------------------------------------------------+\n",
      "| Processes:                                                                  |\n",
      "|  GPU   GI   CI        PID   Type   Process name                  GPU Memory |\n",
      "|        ID   ID                                                   Usage      |\n",
      "|=============================================================================|\n",
      "|    0   N/A  N/A      2187      G   /usr/lib/xorg/Xorg                  4MiB |\n",
      "|    0   N/A  N/A   1815798      C   ...n/4.0.0/bin/relion_refine    29889MiB |\n",
      "|    1   N/A  N/A      2187      G   /usr/lib/xorg/Xorg                  4MiB |\n",
      "|    1   N/A  N/A   1845423      C   ...nda_envs/p9dev/bin/python     1711MiB |\n",
      "+-----------------------------------------------------------------------------+\n"
     ]
    }
   ],
   "source": [
    "!nvidia-smi"
   ]
  },
  {
   "cell_type": "code",
   "execution_count": 17,
   "metadata": {},
   "outputs": [],
   "source": [
    "lgsegmentor0.set_cuda_device(1)"
   ]
  },
  {
   "cell_type": "markdown",
   "metadata": {},
   "source": [
    "Run the prediction and collect result"
   ]
  },
  {
   "cell_type": "code",
   "execution_count": 18,
   "metadata": {},
   "outputs": [
    {
     "name": "stderr",
     "output_type": "stream",
     "text": [
      "DEBUG:root:predict() data_in.shape:(256, 256, 256), data_in.dtype:int8, use_dask:False\n",
      "INFO:root:Setting up NN1 prediction\n",
      "DEBUG:root:NN1_predict()\n",
      "DEBUG:root:data_to_predict not a list. Converting to list\n",
      "INFO:root:number of data sets to predict: 1\n",
      "INFO:root:Data to predict index:0\n",
      "DEBUG:root:VolSeg2DPredictionManager.__init__()\n",
      "DEBUG:root:BaseDataManager.__init__()\n",
      "DEBUG:root:BaseDataManager._preprocess_data()\n",
      "INFO:root:Calculating mean of data...\n",
      "INFO:root:Mean value: 3.376452088356018\n",
      "DEBUG:root:clip_to_uint8()\n",
      "INFO:root:Calculating standard deviation.\n",
      "INFO:root:Std dev: 22.28497505498702. Calculating stats.\n",
      "INFO:root:Lower bound: -54.00735867823556, upper bound: 60.7602628549476\n",
      "INFO:root:Number of voxels above upper bound to be clipped 95283 - percentage 0.568%\n",
      "INFO:root:Number of voxels below lower bound to be clipped 175185 - percentage 1.044%\n",
      "INFO:root:Rescaling intensities.\n",
      "INFO:root:Data is already in integer dtype, converting to float for rescaling.\n",
      "INFO:root:Converting to uint8.\n",
      "DEBUG:root:VolSeg2dPredictor.__init__() ,settings.cuda_device:1\n",
      "INFO:root:Loading model dictionary from file.\n",
      "INFO:root:Sending the U-Net model to device 1\n",
      "INFO:root:Loading in the saved weights.\n",
      "INFO:root:Volume to be rotated by 0 degrees\n",
      "INFO:root:Predicting YX slices:\n",
      "DEBUG:root:_predict_single_axis_all_probs() with axis:Axis.Z\n",
      "DEBUG:root:rotate_array_to_axis()\n",
      "INFO:root:Free GPU memory is 31.66 GB. Batch size will be 4.\n",
      "INFO:root:Predicting segmentation for volume of shape (256, 256, 256).\n",
      "Prediction batch: 100%|██████████████████████████████| 64/64 [00:01<00:00, 49.70it/s]\n",
      "INFO:root:Completed prediction. Now manipulating result before returning.\n",
      "DEBUG:root:labels concatenate\n",
      "DEBUG:root:labels rotate to axis\n",
      "DEBUG:root:rotate_array_to_axis()\n",
      "DEBUG:root:probs concatenate\n",
      "DEBUG:root:3. probs.shape:(256, 3, 256, 256)\n",
      "DEBUG:root:probs rotate to axis\n",
      "DEBUG:root:4. probs.shape:(256, 256, 256, 3)\n",
      "DEBUG:root:_handle_pred_data_probs(), count,axis,rot:0,YX,0, self.NN1_consistencyscore_outpath:./testCS.h5, self.NN1_volsegm_pred_path:None\n",
      "INFO:root:Saving data of shape (256, 256, 256, 3) to /tmp/tmpi30sm2ka/pred_0_YX_0.h5 with kwargs {}.\n",
      "INFO:root:Saving data of shape (256, 256, 256) to /tmp/tmpi30sm2ka/pred_0_YX_labels_0.h5 with kwargs {}.\n",
      "INFO:root:Predicting ZX slices:\n",
      "DEBUG:root:_predict_single_axis_all_probs() with axis:Axis.Y\n",
      "DEBUG:root:rotate_array_to_axis()\n",
      "INFO:root:Free GPU memory is 31.66 GB. Batch size will be 4.\n",
      "INFO:root:Predicting segmentation for volume of shape (256, 256, 256).\n",
      "Prediction batch: 100%|██████████████████████████████| 64/64 [00:01<00:00, 53.35it/s]\n",
      "INFO:root:Completed prediction. Now manipulating result before returning.\n",
      "DEBUG:root:labels concatenate\n",
      "DEBUG:root:labels rotate to axis\n",
      "DEBUG:root:rotate_array_to_axis()\n",
      "DEBUG:root:probs concatenate\n",
      "DEBUG:root:3. probs.shape:(256, 3, 256, 256)\n",
      "DEBUG:root:probs rotate to axis\n",
      "DEBUG:root:4. probs.shape:(256, 256, 256, 3)\n",
      "DEBUG:root:_handle_pred_data_probs(), count,axis,rot:0,ZX,0, self.NN1_consistencyscore_outpath:./testCS.h5, self.NN1_volsegm_pred_path:None\n",
      "INFO:root:Saving data of shape (256, 256, 256, 3) to /tmp/tmpi30sm2ka/pred_0_ZX_0.h5 with kwargs {}.\n",
      "INFO:root:Saving data of shape (256, 256, 256) to /tmp/tmpi30sm2ka/pred_0_ZX_labels_0.h5 with kwargs {}.\n",
      "INFO:root:Predicting ZY slices:\n",
      "DEBUG:root:_predict_single_axis_all_probs() with axis:Axis.X\n",
      "DEBUG:root:rotate_array_to_axis()\n",
      "INFO:root:Free GPU memory is 31.66 GB. Batch size will be 4.\n",
      "INFO:root:Predicting segmentation for volume of shape (256, 256, 256).\n",
      "Prediction batch: 100%|██████████████████████████████| 64/64 [00:01<00:00, 47.28it/s]\n",
      "INFO:root:Completed prediction. Now manipulating result before returning.\n",
      "DEBUG:root:labels concatenate\n",
      "DEBUG:root:labels rotate to axis\n",
      "DEBUG:root:rotate_array_to_axis()\n",
      "DEBUG:root:probs concatenate\n",
      "DEBUG:root:3. probs.shape:(256, 3, 256, 256)\n",
      "DEBUG:root:probs rotate to axis\n",
      "DEBUG:root:4. probs.shape:(256, 256, 256, 3)\n",
      "DEBUG:root:_handle_pred_data_probs(), count,axis,rot:0,ZY,0, self.NN1_consistencyscore_outpath:./testCS.h5, self.NN1_volsegm_pred_path:None\n",
      "INFO:root:Saving data of shape (256, 256, 256, 3) to /tmp/tmpi30sm2ka/pred_0_ZY_0.h5 with kwargs {}.\n",
      "INFO:root:Saving data of shape (256, 256, 256) to /tmp/tmpi30sm2ka/pred_0_ZY_labels_0.h5 with kwargs {}.\n",
      "INFO:root:Volume to be rotated by 90 degrees\n",
      "INFO:root:Predicting YX slices:\n",
      "DEBUG:root:_predict_single_axis_all_probs() with axis:Axis.Z\n",
      "DEBUG:root:rotate_array_to_axis()\n",
      "INFO:root:Free GPU memory is 31.66 GB. Batch size will be 4.\n",
      "INFO:root:Predicting segmentation for volume of shape (256, 256, 256).\n",
      "Prediction batch: 100%|██████████████████████████████| 64/64 [00:01<00:00, 49.65it/s]\n",
      "INFO:root:Completed prediction. Now manipulating result before returning.\n",
      "DEBUG:root:labels concatenate\n",
      "DEBUG:root:labels rotate to axis\n",
      "DEBUG:root:rotate_array_to_axis()\n",
      "DEBUG:root:probs concatenate\n",
      "DEBUG:root:3. probs.shape:(256, 3, 256, 256)\n",
      "DEBUG:root:probs rotate to axis\n",
      "DEBUG:root:4. probs.shape:(256, 256, 256, 3)\n",
      "DEBUG:root:_handle_pred_data_probs(), count,axis,rot:0,YX,90, self.NN1_consistencyscore_outpath:./testCS.h5, self.NN1_volsegm_pred_path:None\n",
      "INFO:root:Saving data of shape (256, 256, 256, 3) to /tmp/tmpi30sm2ka/pred_0_YX_90.h5 with kwargs {}.\n",
      "INFO:root:Saving data of shape (256, 256, 256) to /tmp/tmpi30sm2ka/pred_0_YX_labels_90.h5 with kwargs {}.\n",
      "INFO:root:Predicting ZX slices:\n",
      "DEBUG:root:_predict_single_axis_all_probs() with axis:Axis.Y\n",
      "DEBUG:root:rotate_array_to_axis()\n",
      "INFO:root:Free GPU memory is 31.66 GB. Batch size will be 4.\n",
      "INFO:root:Predicting segmentation for volume of shape (256, 256, 256).\n",
      "Prediction batch: 100%|██████████████████████████████| 64/64 [00:01<00:00, 43.74it/s]\n",
      "INFO:root:Completed prediction. Now manipulating result before returning.\n",
      "DEBUG:root:labels concatenate\n",
      "DEBUG:root:labels rotate to axis\n",
      "DEBUG:root:rotate_array_to_axis()\n",
      "DEBUG:root:probs concatenate\n",
      "DEBUG:root:3. probs.shape:(256, 3, 256, 256)\n",
      "DEBUG:root:probs rotate to axis\n",
      "DEBUG:root:4. probs.shape:(256, 256, 256, 3)\n",
      "DEBUG:root:_handle_pred_data_probs(), count,axis,rot:0,ZX,90, self.NN1_consistencyscore_outpath:./testCS.h5, self.NN1_volsegm_pred_path:None\n",
      "INFO:root:Saving data of shape (256, 256, 256, 3) to /tmp/tmpi30sm2ka/pred_0_ZX_90.h5 with kwargs {}.\n",
      "INFO:root:Saving data of shape (256, 256, 256) to /tmp/tmpi30sm2ka/pred_0_ZX_labels_90.h5 with kwargs {}.\n",
      "INFO:root:Predicting ZY slices:\n",
      "DEBUG:root:_predict_single_axis_all_probs() with axis:Axis.X\n",
      "DEBUG:root:rotate_array_to_axis()\n",
      "INFO:root:Free GPU memory is 31.66 GB. Batch size will be 4.\n",
      "INFO:root:Predicting segmentation for volume of shape (256, 256, 256).\n",
      "Prediction batch: 100%|██████████████████████████████| 64/64 [00:01<00:00, 46.41it/s]\n",
      "INFO:root:Completed prediction. Now manipulating result before returning.\n",
      "DEBUG:root:labels concatenate\n",
      "DEBUG:root:labels rotate to axis\n",
      "DEBUG:root:rotate_array_to_axis()\n",
      "DEBUG:root:probs concatenate\n",
      "DEBUG:root:3. probs.shape:(256, 3, 256, 256)\n",
      "DEBUG:root:probs rotate to axis\n",
      "DEBUG:root:4. probs.shape:(256, 256, 256, 3)\n",
      "DEBUG:root:_handle_pred_data_probs(), count,axis,rot:0,ZY,90, self.NN1_consistencyscore_outpath:./testCS.h5, self.NN1_volsegm_pred_path:None\n",
      "INFO:root:Saving data of shape (256, 256, 256, 3) to /tmp/tmpi30sm2ka/pred_0_ZY_90.h5 with kwargs {}.\n",
      "INFO:root:Saving data of shape (256, 256, 256) to /tmp/tmpi30sm2ka/pred_0_ZY_labels_90.h5 with kwargs {}.\n",
      "INFO:root:Volume to be rotated by 180 degrees\n",
      "INFO:root:Predicting YX slices:\n",
      "DEBUG:root:_predict_single_axis_all_probs() with axis:Axis.Z\n",
      "DEBUG:root:rotate_array_to_axis()\n",
      "INFO:root:Free GPU memory is 31.66 GB. Batch size will be 4.\n",
      "INFO:root:Predicting segmentation for volume of shape (256, 256, 256).\n",
      "Prediction batch: 100%|██████████████████████████████| 64/64 [00:01<00:00, 46.95it/s]\n",
      "INFO:root:Completed prediction. Now manipulating result before returning.\n",
      "DEBUG:root:labels concatenate\n",
      "DEBUG:root:labels rotate to axis\n",
      "DEBUG:root:rotate_array_to_axis()\n",
      "DEBUG:root:probs concatenate\n",
      "DEBUG:root:3. probs.shape:(256, 3, 256, 256)\n",
      "DEBUG:root:probs rotate to axis\n",
      "DEBUG:root:4. probs.shape:(256, 256, 256, 3)\n",
      "DEBUG:root:_handle_pred_data_probs(), count,axis,rot:0,YX,180, self.NN1_consistencyscore_outpath:./testCS.h5, self.NN1_volsegm_pred_path:None\n",
      "INFO:root:Saving data of shape (256, 256, 256, 3) to /tmp/tmpi30sm2ka/pred_0_YX_180.h5 with kwargs {}.\n",
      "INFO:root:Saving data of shape (256, 256, 256) to /tmp/tmpi30sm2ka/pred_0_YX_labels_180.h5 with kwargs {}.\n",
      "INFO:root:Predicting ZX slices:\n",
      "DEBUG:root:_predict_single_axis_all_probs() with axis:Axis.Y\n",
      "DEBUG:root:rotate_array_to_axis()\n",
      "INFO:root:Free GPU memory is 31.66 GB. Batch size will be 4.\n",
      "INFO:root:Predicting segmentation for volume of shape (256, 256, 256).\n",
      "Prediction batch: 100%|██████████████████████████████| 64/64 [00:01<00:00, 53.77it/s]\n",
      "INFO:root:Completed prediction. Now manipulating result before returning.\n",
      "DEBUG:root:labels concatenate\n",
      "DEBUG:root:labels rotate to axis\n",
      "DEBUG:root:rotate_array_to_axis()\n",
      "DEBUG:root:probs concatenate\n",
      "DEBUG:root:3. probs.shape:(256, 3, 256, 256)\n",
      "DEBUG:root:probs rotate to axis\n",
      "DEBUG:root:4. probs.shape:(256, 256, 256, 3)\n",
      "DEBUG:root:_handle_pred_data_probs(), count,axis,rot:0,ZX,180, self.NN1_consistencyscore_outpath:./testCS.h5, self.NN1_volsegm_pred_path:None\n",
      "INFO:root:Saving data of shape (256, 256, 256, 3) to /tmp/tmpi30sm2ka/pred_0_ZX_180.h5 with kwargs {}.\n",
      "INFO:root:Saving data of shape (256, 256, 256) to /tmp/tmpi30sm2ka/pred_0_ZX_labels_180.h5 with kwargs {}.\n",
      "INFO:root:Predicting ZY slices:\n",
      "DEBUG:root:_predict_single_axis_all_probs() with axis:Axis.X\n",
      "DEBUG:root:rotate_array_to_axis()\n",
      "INFO:root:Free GPU memory is 31.66 GB. Batch size will be 4.\n",
      "INFO:root:Predicting segmentation for volume of shape (256, 256, 256).\n",
      "Prediction batch: 100%|██████████████████████████████| 64/64 [00:01<00:00, 46.00it/s]\n",
      "INFO:root:Completed prediction. Now manipulating result before returning.\n",
      "DEBUG:root:labels concatenate\n",
      "DEBUG:root:labels rotate to axis\n",
      "DEBUG:root:rotate_array_to_axis()\n",
      "DEBUG:root:probs concatenate\n",
      "DEBUG:root:3. probs.shape:(256, 3, 256, 256)\n",
      "DEBUG:root:probs rotate to axis\n",
      "DEBUG:root:4. probs.shape:(256, 256, 256, 3)\n",
      "DEBUG:root:_handle_pred_data_probs(), count,axis,rot:0,ZY,180, self.NN1_consistencyscore_outpath:./testCS.h5, self.NN1_volsegm_pred_path:None\n",
      "INFO:root:Saving data of shape (256, 256, 256, 3) to /tmp/tmpi30sm2ka/pred_0_ZY_180.h5 with kwargs {}.\n",
      "INFO:root:Saving data of shape (256, 256, 256) to /tmp/tmpi30sm2ka/pred_0_ZY_labels_180.h5 with kwargs {}.\n",
      "INFO:root:Volume to be rotated by 270 degrees\n",
      "INFO:root:Predicting YX slices:\n",
      "DEBUG:root:_predict_single_axis_all_probs() with axis:Axis.Z\n",
      "DEBUG:root:rotate_array_to_axis()\n",
      "INFO:root:Free GPU memory is 31.66 GB. Batch size will be 4.\n",
      "INFO:root:Predicting segmentation for volume of shape (256, 256, 256).\n",
      "Prediction batch: 100%|██████████████████████████████| 64/64 [00:01<00:00, 52.95it/s]\n",
      "INFO:root:Completed prediction. Now manipulating result before returning.\n",
      "DEBUG:root:labels concatenate\n",
      "DEBUG:root:labels rotate to axis\n",
      "DEBUG:root:rotate_array_to_axis()\n",
      "DEBUG:root:probs concatenate\n",
      "DEBUG:root:3. probs.shape:(256, 3, 256, 256)\n",
      "DEBUG:root:probs rotate to axis\n",
      "DEBUG:root:4. probs.shape:(256, 256, 256, 3)\n",
      "DEBUG:root:_handle_pred_data_probs(), count,axis,rot:0,YX,270, self.NN1_consistencyscore_outpath:./testCS.h5, self.NN1_volsegm_pred_path:None\n",
      "INFO:root:Saving data of shape (256, 256, 256, 3) to /tmp/tmpi30sm2ka/pred_0_YX_270.h5 with kwargs {}.\n",
      "INFO:root:Saving data of shape (256, 256, 256) to /tmp/tmpi30sm2ka/pred_0_YX_labels_270.h5 with kwargs {}.\n",
      "INFO:root:Predicting ZX slices:\n",
      "DEBUG:root:_predict_single_axis_all_probs() with axis:Axis.Y\n",
      "DEBUG:root:rotate_array_to_axis()\n",
      "INFO:root:Free GPU memory is 31.66 GB. Batch size will be 4.\n",
      "INFO:root:Predicting segmentation for volume of shape (256, 256, 256).\n",
      "Prediction batch: 100%|██████████████████████████████| 64/64 [00:01<00:00, 50.47it/s]\n",
      "INFO:root:Completed prediction. Now manipulating result before returning.\n",
      "DEBUG:root:labels concatenate\n",
      "DEBUG:root:labels rotate to axis\n",
      "DEBUG:root:rotate_array_to_axis()\n",
      "DEBUG:root:probs concatenate\n",
      "DEBUG:root:3. probs.shape:(256, 3, 256, 256)\n",
      "DEBUG:root:probs rotate to axis\n",
      "DEBUG:root:4. probs.shape:(256, 256, 256, 3)\n",
      "DEBUG:root:_handle_pred_data_probs(), count,axis,rot:0,ZX,270, self.NN1_consistencyscore_outpath:./testCS.h5, self.NN1_volsegm_pred_path:None\n",
      "INFO:root:Saving data of shape (256, 256, 256, 3) to /tmp/tmpi30sm2ka/pred_0_ZX_270.h5 with kwargs {}.\n",
      "INFO:root:Saving data of shape (256, 256, 256) to /tmp/tmpi30sm2ka/pred_0_ZX_labels_270.h5 with kwargs {}.\n",
      "INFO:root:Predicting ZY slices:\n",
      "DEBUG:root:_predict_single_axis_all_probs() with axis:Axis.X\n",
      "DEBUG:root:rotate_array_to_axis()\n",
      "INFO:root:Free GPU memory is 31.66 GB. Batch size will be 4.\n",
      "INFO:root:Predicting segmentation for volume of shape (256, 256, 256).\n",
      "Prediction batch: 100%|██████████████████████████████| 64/64 [00:01<00:00, 48.67it/s]\n",
      "INFO:root:Completed prediction. Now manipulating result before returning.\n",
      "DEBUG:root:labels concatenate\n",
      "DEBUG:root:labels rotate to axis\n",
      "DEBUG:root:rotate_array_to_axis()\n",
      "DEBUG:root:probs concatenate\n",
      "DEBUG:root:3. probs.shape:(256, 3, 256, 256)\n",
      "DEBUG:root:probs rotate to axis\n",
      "DEBUG:root:4. probs.shape:(256, 256, 256, 3)\n",
      "DEBUG:root:_handle_pred_data_probs(), count,axis,rot:0,ZY,270, self.NN1_consistencyscore_outpath:./testCS.h5, self.NN1_volsegm_pred_path:None\n",
      "INFO:root:Saving data of shape (256, 256, 256, 3) to /tmp/tmpi30sm2ka/pred_0_ZY_270.h5 with kwargs {}.\n",
      "INFO:root:Saving data of shape (256, 256, 256) to /tmp/tmpi30sm2ka/pred_0_ZY_labels_270.h5 with kwargs {}.\n",
      "DEBUG:root:Generating a DataFrame object with information about predictions\n",
      "DEBUG:root:getCScore(), count:12, Nc:3\n",
      "INFO:root:Saving data of shape (256, 256, 256) to ./testCS.h5 with kwargs {}.\n",
      "INFO:root:NN1 prediction, complete.\n",
      "INFO:root:all_pred_pd\n",
      "INFO:root:            pred_data_probs_filenames  \\\n",
      "0     /tmp/tmpi30sm2ka/pred_0_YX_0.h5   \n",
      "1     /tmp/tmpi30sm2ka/pred_0_ZX_0.h5   \n",
      "2     /tmp/tmpi30sm2ka/pred_0_ZY_0.h5   \n",
      "3    /tmp/tmpi30sm2ka/pred_0_YX_90.h5   \n",
      "4    /tmp/tmpi30sm2ka/pred_0_ZX_90.h5   \n",
      "5    /tmp/tmpi30sm2ka/pred_0_ZY_90.h5   \n",
      "6   /tmp/tmpi30sm2ka/pred_0_YX_180.h5   \n",
      "7   /tmp/tmpi30sm2ka/pred_0_ZX_180.h5   \n",
      "8   /tmp/tmpi30sm2ka/pred_0_ZY_180.h5   \n",
      "9   /tmp/tmpi30sm2ka/pred_0_YX_270.h5   \n",
      "10  /tmp/tmpi30sm2ka/pred_0_ZX_270.h5   \n",
      "11  /tmp/tmpi30sm2ka/pred_0_ZY_270.h5   \n",
      "\n",
      "                  pred_data_labels_filenames  pred_sets pred_planes  \\\n",
      "0     /tmp/tmpi30sm2ka/pred_0_YX_labels_0.h5          0          YX   \n",
      "1     /tmp/tmpi30sm2ka/pred_0_ZX_labels_0.h5          0          ZX   \n",
      "2     /tmp/tmpi30sm2ka/pred_0_ZY_labels_0.h5          0          ZY   \n",
      "3    /tmp/tmpi30sm2ka/pred_0_YX_labels_90.h5          0          YX   \n",
      "4    /tmp/tmpi30sm2ka/pred_0_ZX_labels_90.h5          0          ZX   \n",
      "5    /tmp/tmpi30sm2ka/pred_0_ZY_labels_90.h5          0          ZY   \n",
      "6   /tmp/tmpi30sm2ka/pred_0_YX_labels_180.h5          0          YX   \n",
      "7   /tmp/tmpi30sm2ka/pred_0_ZX_labels_180.h5          0          ZX   \n",
      "8   /tmp/tmpi30sm2ka/pred_0_ZY_labels_180.h5          0          ZY   \n",
      "9   /tmp/tmpi30sm2ka/pred_0_YX_labels_270.h5          0          YX   \n",
      "10  /tmp/tmpi30sm2ka/pred_0_ZX_labels_270.h5          0          ZX   \n",
      "11  /tmp/tmpi30sm2ka/pred_0_ZY_labels_270.h5          0          ZY   \n",
      "\n",
      "    pred_rots  pred_ipred      pred_shapes  \n",
      "0           0           0  (256, 256, 256)  \n",
      "1           0           1  (256, 256, 256)  \n",
      "2           0           2  (256, 256, 256)  \n",
      "3          90           3  (256, 256, 256)  \n",
      "4          90           4  (256, 256, 256)  \n",
      "5          90           5  (256, 256, 256)  \n",
      "6         180           6  (256, 256, 256)  \n",
      "7         180           7  (256, 256, 256)  \n",
      "8         180           8  (256, 256, 256)  \n",
      "9         270           9  (256, 256, 256)  \n",
      "10        270          10  (256, 256, 256)  \n",
      "11        270          11  (256, 256, 256)  \n",
      "DEBUG:root:aggregate_nn1_pred_data with use_dask:False\n",
      "INFO:root:Building large object containing all predictions.\n",
      "INFO:root:use_dask=False. Will try to aggregate data to a numpy.ndarray\n",
      "  0%|          | 0/12 [00:00<?, ?it/s]INFO:root:data0.shape:(256, 256, 256, 3)\n",
      "  0%|          | 0/12 [00:00<?, ?it/s]\n",
      "INFO:root:Allocation using numpy failed. Failsafe will use dask.\n",
      "INFO:root:Exception type:<class 'AttributeError'>\n",
      "INFO:root:use_dask=True. Will aggregate data to a dask.array object\n",
      "  0%|          | 0/12 [00:00<?, ?it/s]INFO:root:i:0, data0.shape:(256, 256, 256, 3), data0.chunksize:(256, 256, 256, 3) \n",
      "INFO:root:npredictions:12\n",
      "INFO:root:data_all shape:(12, 256, 256, 256, 3) chunks_shape:(12, 256, 256, 256, 3)\n",
      "100%|██████████| 12/12 [00:00<00:00, 371.89it/s]\n",
      "INFO:root:Setting up NN2 prediction\n",
      "DEBUG:root:NN2_predict()\n",
      "INFO:root:Data type is dask.core.Array\n"
     ]
    },
    {
     "name": "stdout",
     "output_type": "stream",
     "text": [
      "[########################################] | 100% Completed | 23.74 ss\n"
     ]
    },
    {
     "name": "stderr",
     "output_type": "stream",
     "text": [
      "INFO:root:NN2 prediction complete.\n"
     ]
    }
   ],
   "source": [
    "pred_labels = lgsegmentor0.predict(data_to_pred)"
   ]
  },
  {
   "cell_type": "markdown",
   "metadata": {},
   "source": [
    "# Visualise result"
   ]
  },
  {
   "cell_type": "code",
   "execution_count": null,
   "metadata": {},
   "outputs": [],
   "source": [
    "import napari\n",
    "NV=napari.Viewer()\n",
    "NV.add_image(data_to_pred)\n",
    "NV.add_labels(labels_to_compare)\n",
    "NV.add_labels(pred_labels, color={1:'green'})"
   ]
  },
  {
   "cell_type": "markdown",
   "metadata": {},
   "source": [
    "# Compare against ground truth\n",
    "\n",
    "Use leopardgecko metrics to get voxel-F1 (dice score)"
   ]
  },
  {
   "cell_type": "code",
   "execution_count": null,
   "metadata": {},
   "outputs": [],
   "source": [
    "import leopardgecko.metrics as lgm"
   ]
  },
  {
   "cell_type": "code",
   "execution_count": null,
   "metadata": {},
   "outputs": [],
   "source": [
    "lgm.MetricScoreOfVols_Dice(pred_labels,labels_to_compare)"
   ]
  },
  {
   "cell_type": "markdown",
   "metadata": {},
   "source": [
    "# Run the prediction in blocks and compare with previous result"
   ]
  },
  {
   "cell_type": "code",
   "execution_count": null,
   "metadata": {},
   "outputs": [],
   "source": [
    "import leopardgecko.utils as lgu"
   ]
  },
  {
   "cell_type": "code",
   "execution_count": null,
   "metadata": {},
   "outputs": [],
   "source": [
    "pred_labels_block = lgu.map_vol_function_by_blocking(lgsegmentor0.predict, data_to_pred, (120,120,120),(20,32,10))"
   ]
  },
  {
   "cell_type": "markdown",
   "metadata": {},
   "source": [
    "Compare predictions with and without blocking"
   ]
  },
  {
   "cell_type": "code",
   "execution_count": null,
   "metadata": {},
   "outputs": [],
   "source": [
    "import napari\n",
    "NV=napari.Viewer()\n",
    "NV.add_image(data_to_pred)\n",
    "NV.add_labels(labels_to_compare)\n",
    "NV.add_labels(pred_labels, color={1:'green'})\n",
    "NV.add_labels(pred_labels_block, color={1:'red'})"
   ]
  },
  {
   "cell_type": "markdown",
   "metadata": {},
   "source": [
    "Prediction with blocking algorithm is worse from the calculation without blocking so be careful when using it. Thre are other instances where it may work better"
   ]
  },
  {
   "cell_type": "markdown",
   "metadata": {},
   "source": [
    "Compare \"block\"-prediction with ground truth"
   ]
  },
  {
   "cell_type": "code",
   "execution_count": null,
   "metadata": {},
   "outputs": [],
   "source": [
    "lgm.MetricScoreOfVols_Dice(pred_labels_block,labels_to_compare)"
   ]
  },
  {
   "cell_type": "markdown",
   "metadata": {},
   "source": [
    "Compare \"block\"-prediction with whole prediction"
   ]
  },
  {
   "cell_type": "code",
   "execution_count": null,
   "metadata": {},
   "outputs": [],
   "source": [
    "lgm.MetricScoreOfVols_Dice(pred_labels_block,pred_labels)"
   ]
  }
 ],
 "metadata": {
  "kernelspec": {
   "display_name": "Python 3",
   "language": "python",
   "name": "python3"
  },
  "language_info": {
   "codemirror_mode": {
    "name": "ipython",
    "version": 3
   },
   "file_extension": ".py",
   "mimetype": "text/x-python",
   "name": "python",
   "nbconvert_exporter": "python",
   "pygments_lexer": "ipython3",
   "version": "3.9.18"
  },
  "orig_nbformat": 4
 },
 "nbformat": 4,
 "nbformat_minor": 2
}
