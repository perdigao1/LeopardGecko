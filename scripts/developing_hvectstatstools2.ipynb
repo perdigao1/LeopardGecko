{
 "cells": [
  {
   "cell_type": "code",
   "execution_count": 1,
   "metadata": {},
   "outputs": [],
   "source": [
    "import numpy as np\n",
    "import leopardgecko as lg"
   ]
  },
  {
   "cell_type": "code",
   "execution_count": 2,
   "metadata": {},
   "outputs": [
    {
     "data": {
      "text/plain": [
       "[(0, 0, 12),\n",
       " (0, 1, 11),\n",
       " (0, 2, 10),\n",
       " (0, 3, 9),\n",
       " (0, 4, 8),\n",
       " (0, 5, 7),\n",
       " (0, 6, 6),\n",
       " (0, 7, 5),\n",
       " (0, 8, 4),\n",
       " (0, 9, 3),\n",
       " (0, 10, 2),\n",
       " (0, 11, 1),\n",
       " (0, 12, 0),\n",
       " (1, 0, 11),\n",
       " (1, 1, 10),\n",
       " (1, 2, 9),\n",
       " (1, 3, 8),\n",
       " (1, 4, 7),\n",
       " (1, 5, 6),\n",
       " (1, 6, 5),\n",
       " (1, 7, 4),\n",
       " (1, 8, 3),\n",
       " (1, 9, 2),\n",
       " (1, 10, 1),\n",
       " (1, 11, 0),\n",
       " (2, 0, 10),\n",
       " (2, 1, 9),\n",
       " (2, 2, 8),\n",
       " (2, 3, 7),\n",
       " (2, 4, 6),\n",
       " (2, 5, 5),\n",
       " (2, 6, 4),\n",
       " (2, 7, 3),\n",
       " (2, 8, 2),\n",
       " (2, 9, 1),\n",
       " (2, 10, 0),\n",
       " (3, 0, 9),\n",
       " (3, 1, 8),\n",
       " (3, 2, 7),\n",
       " (3, 3, 6),\n",
       " (3, 4, 5),\n",
       " (3, 5, 4),\n",
       " (3, 6, 3),\n",
       " (3, 7, 2),\n",
       " (3, 8, 1),\n",
       " (3, 9, 0),\n",
       " (4, 0, 8),\n",
       " (4, 1, 7),\n",
       " (4, 2, 6),\n",
       " (4, 3, 5),\n",
       " (4, 4, 4),\n",
       " (4, 5, 3),\n",
       " (4, 6, 2),\n",
       " (4, 7, 1),\n",
       " (4, 8, 0),\n",
       " (5, 0, 7),\n",
       " (5, 1, 6),\n",
       " (5, 2, 5),\n",
       " (5, 3, 4),\n",
       " (5, 4, 3),\n",
       " (5, 5, 2),\n",
       " (5, 6, 1),\n",
       " (5, 7, 0),\n",
       " (6, 0, 6),\n",
       " (6, 1, 5),\n",
       " (6, 2, 4),\n",
       " (6, 3, 3),\n",
       " (6, 4, 2),\n",
       " (6, 5, 1),\n",
       " (6, 6, 0),\n",
       " (7, 0, 5),\n",
       " (7, 1, 4),\n",
       " (7, 2, 3),\n",
       " (7, 3, 2),\n",
       " (7, 4, 1),\n",
       " (7, 5, 0),\n",
       " (8, 0, 4),\n",
       " (8, 1, 3),\n",
       " (8, 2, 2),\n",
       " (8, 3, 1),\n",
       " (8, 4, 0),\n",
       " (9, 0, 3),\n",
       " (9, 1, 2),\n",
       " (9, 2, 1),\n",
       " (9, 3, 0),\n",
       " (10, 0, 2),\n",
       " (10, 1, 1),\n",
       " (10, 2, 0),\n",
       " (11, 0, 1),\n",
       " (11, 1, 0),\n",
       " (12, 0, 0)]"
      ]
     },
     "execution_count": 2,
     "metadata": {},
     "output_type": "execute_result"
    }
   ],
   "source": [
    "hvectors = lg.hvectstatstools.get_hvect_combinations(3,12)\n",
    "hvectors"
   ]
  },
  {
   "cell_type": "code",
   "execution_count": 3,
   "metadata": {},
   "outputs": [
    {
     "data": {
      "text/plain": [
       "91"
      ]
     },
     "execution_count": 3,
     "metadata": {},
     "output_type": "execute_result"
    }
   ],
   "source": [
    "len(hvectors)"
   ]
  },
  {
   "cell_type": "code",
   "execution_count": 4,
   "metadata": {},
   "outputs": [],
   "source": [
    "#Create random np array with number of predictions\n",
    "#rand_h = np.random.randint(0,len(hvectors),size=(128,128,128)) #\n",
    "rand_h = np.random.randint(0,len(hvectors)-2,size=(128,128,128)) #exclude the two last hvectors to test the 'masked' issue"
   ]
  },
  {
   "cell_type": "code",
   "execution_count": 5,
   "metadata": {},
   "outputs": [],
   "source": [
    "#data_all = np.zeros((3, 128,128,128), dtype=np.uint8)\n",
    "\n",
    "def get_h(i):\n",
    "    return np.array(hvectors[i])\n",
    "\n",
    "get_h_vect = np.vectorize(get_h, signature='()->(m)')\n",
    "\n",
    "data_all = get_h_vect(rand_h)"
   ]
  },
  {
   "cell_type": "code",
   "execution_count": 6,
   "metadata": {},
   "outputs": [
    {
     "data": {
      "text/plain": [
       "(128, 128, 128, 3)"
      ]
     },
     "execution_count": 6,
     "metadata": {},
     "output_type": "execute_result"
    }
   ],
   "source": [
    "data_all.shape"
   ]
  },
  {
   "cell_type": "code",
   "execution_count": 7,
   "metadata": {},
   "outputs": [],
   "source": [
    "data_all= np.transpose(data_all, (3,0,1,2))"
   ]
  },
  {
   "cell_type": "code",
   "execution_count": 8,
   "metadata": {},
   "outputs": [
    {
     "data": {
      "text/plain": [
       "(3, 128, 128, 128)"
      ]
     },
     "execution_count": 8,
     "metadata": {},
     "output_type": "execute_result"
    }
   ],
   "source": [
    "data_all.shape"
   ]
  },
  {
   "cell_type": "code",
   "execution_count": 9,
   "metadata": {},
   "outputs": [
    {
     "data": {
      "text/plain": [
       "array([3, 1, 8])"
      ]
     },
     "execution_count": 9,
     "metadata": {},
     "output_type": "execute_result"
    }
   ],
   "source": [
    "data_all[:,0,0,0]"
   ]
  },
  {
   "cell_type": "code",
   "execution_count": 10,
   "metadata": {},
   "outputs": [
    {
     "data": {
      "text/plain": [
       "array([[[0, 0, 1, ..., 1, 2, 1],\n",
       "        [1, 1, 1, ..., 0, 0, 1],\n",
       "        [0, 0, 1, ..., 2, 0, 0],\n",
       "        ...,\n",
       "        [0, 2, 0, ..., 1, 2, 1],\n",
       "        [0, 1, 0, ..., 2, 1, 2],\n",
       "        [1, 2, 2, ..., 2, 0, 2]],\n",
       "\n",
       "       [[2, 2, 0, ..., 1, 2, 2],\n",
       "        [0, 0, 1, ..., 2, 0, 0],\n",
       "        [2, 2, 1, ..., 0, 0, 0],\n",
       "        ...,\n",
       "        [2, 0, 0, ..., 2, 2, 0],\n",
       "        [2, 0, 1, ..., 0, 1, 1],\n",
       "        [0, 2, 1, ..., 2, 1, 0]],\n",
       "\n",
       "       [[1, 2, 1, ..., 1, 0, 2],\n",
       "        [2, 1, 1, ..., 1, 2, 1],\n",
       "        [0, 2, 1, ..., 1, 1, 0],\n",
       "        ...,\n",
       "        [0, 0, 2, ..., 0, 2, 2],\n",
       "        [0, 1, 0, ..., 0, 2, 1],\n",
       "        [2, 1, 1, ..., 0, 1, 1]],\n",
       "\n",
       "       ...,\n",
       "\n",
       "       [[0, 0, 0, ..., 2, 0, 0],\n",
       "        [1, 2, 0, ..., 2, 1, 1],\n",
       "        [1, 1, 2, ..., 2, 0, 1],\n",
       "        ...,\n",
       "        [2, 2, 1, ..., 2, 1, 1],\n",
       "        [2, 0, 0, ..., 2, 1, 0],\n",
       "        [1, 1, 1, ..., 1, 0, 2]],\n",
       "\n",
       "       [[2, 1, 0, ..., 0, 2, 1],\n",
       "        [2, 0, 2, ..., 0, 0, 0],\n",
       "        [0, 1, 0, ..., 0, 0, 1],\n",
       "        ...,\n",
       "        [0, 2, 1, ..., 0, 0, 0],\n",
       "        [0, 2, 2, ..., 1, 1, 2],\n",
       "        [1, 0, 1, ..., 1, 2, 1]],\n",
       "\n",
       "       [[0, 2, 2, ..., 0, 1, 2],\n",
       "        [1, 0, 0, ..., 0, 1, 0],\n",
       "        [2, 0, 2, ..., 2, 2, 2],\n",
       "        ...,\n",
       "        [0, 0, 1, ..., 1, 2, 1],\n",
       "        [2, 2, 2, ..., 1, 1, 0],\n",
       "        [2, 1, 1, ..., 0, 1, 1]]])"
      ]
     },
     "execution_count": 10,
     "metadata": {},
     "output_type": "execute_result"
    }
   ],
   "source": [
    "#Create random np array for ground truth\n",
    "data_gnd = np.random.randint(0,3,size=(128,128,128))\n",
    "data_gnd"
   ]
  },
  {
   "attachments": {},
   "cell_type": "markdown",
   "metadata": {},
   "source": [
    "## counting stats"
   ]
  },
  {
   "cell_type": "code",
   "execution_count": 11,
   "metadata": {},
   "outputs": [],
   "source": [
    "hvect_count_in_data0, hvect_count_in_data0_max = lg.hvectstatstools.hvect_count_in_data(data_all, hvectors)"
   ]
  },
  {
   "cell_type": "code",
   "execution_count": 12,
   "metadata": {},
   "outputs": [
    {
     "data": {
      "text/plain": [
       "{(0, 0, 12): 23412,\n",
       " (0, 1, 11): 23756,\n",
       " (0, 2, 10): 23429,\n",
       " (0, 3, 9): 23539,\n",
       " (0, 4, 8): 23397,\n",
       " (0, 5, 7): 23431,\n",
       " (0, 6, 6): 23435,\n",
       " (0, 7, 5): 23349,\n",
       " (0, 8, 4): 23299,\n",
       " (0, 9, 3): 23777,\n",
       " (0, 10, 2): 23663,\n",
       " (0, 11, 1): 23522,\n",
       " (0, 12, 0): 23298,\n",
       " (1, 0, 11): 23369,\n",
       " (1, 1, 10): 23772,\n",
       " (1, 2, 9): 23632,\n",
       " (1, 3, 8): 23615,\n",
       " (1, 4, 7): 23596,\n",
       " (1, 5, 6): 23533,\n",
       " (1, 6, 5): 23481,\n",
       " (1, 7, 4): 23431,\n",
       " (1, 8, 3): 23341,\n",
       " (1, 9, 2): 23894,\n",
       " (1, 10, 1): 23488,\n",
       " (1, 11, 0): 23575,\n",
       " (2, 0, 10): 23641,\n",
       " (2, 1, 9): 23799,\n",
       " (2, 2, 8): 23442,\n",
       " (2, 3, 7): 23689,\n",
       " (2, 4, 6): 23640,\n",
       " (2, 5, 5): 23517,\n",
       " (2, 6, 4): 23797,\n",
       " (2, 7, 3): 23526,\n",
       " (2, 8, 2): 23476,\n",
       " (2, 9, 1): 23483,\n",
       " (2, 10, 0): 23682,\n",
       " (3, 0, 9): 23265,\n",
       " (3, 1, 8): 23591,\n",
       " (3, 2, 7): 23411,\n",
       " (3, 3, 6): 23319,\n",
       " (3, 4, 5): 23624,\n",
       " (3, 5, 4): 23408,\n",
       " (3, 6, 3): 23811,\n",
       " (3, 7, 2): 23605,\n",
       " (3, 8, 1): 23622,\n",
       " (3, 9, 0): 23537,\n",
       " (4, 0, 8): 23244,\n",
       " (4, 1, 7): 23653,\n",
       " (4, 2, 6): 23407,\n",
       " (4, 3, 5): 23442,\n",
       " (4, 4, 4): 23702,\n",
       " (4, 5, 3): 23593,\n",
       " (4, 6, 2): 23322,\n",
       " (4, 7, 1): 23560,\n",
       " (4, 8, 0): 23506,\n",
       " (5, 0, 7): 23568,\n",
       " (5, 1, 6): 23595,\n",
       " (5, 2, 5): 23468,\n",
       " (5, 3, 4): 23894,\n",
       " (5, 4, 3): 23431,\n",
       " (5, 5, 2): 23758,\n",
       " (5, 6, 1): 23777,\n",
       " (5, 7, 0): 23499,\n",
       " (6, 0, 6): 23859,\n",
       " (6, 1, 5): 23611,\n",
       " (6, 2, 4): 23414,\n",
       " (6, 3, 3): 23550,\n",
       " (6, 4, 2): 23764,\n",
       " (6, 5, 1): 23563,\n",
       " (6, 6, 0): 23711,\n",
       " (7, 0, 5): 23692,\n",
       " (7, 1, 4): 23442,\n",
       " (7, 2, 3): 23469,\n",
       " (7, 3, 2): 23297,\n",
       " (7, 4, 1): 23413,\n",
       " (7, 5, 0): 23479,\n",
       " (8, 0, 4): 23573,\n",
       " (8, 1, 3): 23637,\n",
       " (8, 2, 2): 23777,\n",
       " (8, 3, 1): 23791,\n",
       " (8, 4, 0): 23465,\n",
       " (9, 0, 3): 23503,\n",
       " (9, 1, 2): 23742,\n",
       " (9, 2, 1): 23548,\n",
       " (9, 3, 0): 23765,\n",
       " (10, 0, 2): 23453,\n",
       " (10, 1, 1): 23922,\n",
       " (10, 2, 0): 23775,\n",
       " (11, 0, 1): 23599,\n",
       " (11, 1, 0): 0,\n",
       " (12, 0, 0): 0}"
      ]
     },
     "execution_count": 12,
     "metadata": {},
     "output_type": "execute_result"
    }
   ],
   "source": [
    "hvect_count_in_data0"
   ]
  },
  {
   "cell_type": "code",
   "execution_count": 13,
   "metadata": {},
   "outputs": [
    {
     "data": {
      "image/png": "[encoded data removed]",
      "text/plain": [
       "<Figure size 1000x1000 with 1 Axes>"
      ]
     },
     "metadata": {},
     "output_type": "display_data"
    }
   ],
   "source": [
    "lg.hvect_plot_3class.plot_hvect_count_3class(hvect_count_in_data0, hvect_count_in_data0_max)"
   ]
  },
  {
   "attachments": {},
   "cell_type": "markdown",
   "metadata": {},
   "source": [
    "## Compare with ground truth"
   ]
  },
  {
   "cell_type": "code",
   "execution_count": 14,
   "metadata": {},
   "outputs": [],
   "source": [
    "hvect_gndclass_count_in_data0 = lg.hvectstatstools.hvect_gndclass_counter(data_all, data_gnd, hvectors) #old version"
   ]
  },
  {
   "cell_type": "code",
   "execution_count": 15,
   "metadata": {},
   "outputs": [
    {
     "data": {
      "text/plain": [
       "{(0, 0, 12): [7800, 7817, 7795],\n",
       " (0, 1, 11): [7924, 7960, 7872],\n",
       " (0, 2, 10): [7748, 7811, 7870],\n",
       " (0, 3, 9): [7724, 8004, 7811],\n",
       " (0, 4, 8): [7826, 7681, 7890],\n",
       " (0, 5, 7): [7861, 7861, 7709],\n",
       " (0, 6, 6): [7920, 7739, 7776],\n",
       " (0, 7, 5): [7717, 7901, 7731],\n",
       " (0, 8, 4): [7928, 7750, 7621],\n",
       " (0, 9, 3): [7893, 7966, 7918],\n",
       " (0, 10, 2): [7957, 7864, 7842],\n",
       " (0, 11, 1): [7859, 7749, 7914],\n",
       " (0, 12, 0): [7806, 7800, 7692],\n",
       " (1, 0, 11): [7794, 7819, 7756],\n",
       " (1, 1, 10): [8015, 7841, 7916],\n",
       " (1, 2, 9): [7913, 7904, 7815],\n",
       " (1, 3, 8): [7921, 7764, 7930],\n",
       " (1, 4, 7): [7894, 7807, 7895],\n",
       " (1, 5, 6): [7862, 7830, 7841],\n",
       " (1, 6, 5): [7932, 7761, 7788],\n",
       " (1, 7, 4): [7725, 7741, 7965],\n",
       " (1, 8, 3): [7850, 7845, 7646],\n",
       " (1, 9, 2): [8004, 7882, 8008],\n",
       " (1, 10, 1): [7745, 7893, 7850],\n",
       " (1, 11, 0): [7845, 7872, 7858],\n",
       " (2, 0, 10): [7871, 7821, 7949],\n",
       " (2, 1, 9): [7953, 7934, 7912],\n",
       " (2, 2, 8): [7783, 7647, 8012],\n",
       " (2, 3, 7): [7931, 7909, 7849],\n",
       " (2, 4, 6): [7891, 7833, 7916],\n",
       " (2, 5, 5): [7903, 7787, 7827],\n",
       " (2, 6, 4): [8060, 7811, 7926],\n",
       " (2, 7, 3): [7730, 7849, 7947],\n",
       " (2, 8, 2): [7685, 8027, 7764],\n",
       " (2, 9, 1): [7770, 7855, 7858],\n",
       " (2, 10, 0): [7864, 7998, 7820],\n",
       " (3, 0, 9): [7660, 7810, 7795],\n",
       " (3, 1, 8): [7842, 7942, 7807],\n",
       " (3, 2, 7): [7717, 7832, 7862],\n",
       " (3, 3, 6): [7735, 7807, 7777],\n",
       " (3, 4, 5): [7860, 7866, 7898],\n",
       " (3, 5, 4): [7960, 7746, 7702],\n",
       " (3, 6, 3): [7903, 7932, 7976],\n",
       " (3, 7, 2): [7931, 7952, 7722],\n",
       " (3, 8, 1): [7808, 7844, 7970],\n",
       " (3, 9, 0): [7958, 7863, 7716],\n",
       " (4, 0, 8): [7735, 7661, 7848],\n",
       " (4, 1, 7): [7889, 8010, 7754],\n",
       " (4, 2, 6): [7810, 7814, 7783],\n",
       " (4, 3, 5): [7766, 7776, 7900],\n",
       " (4, 4, 4): [8008, 7948, 7746],\n",
       " (4, 5, 3): [7931, 7811, 7851],\n",
       " (4, 6, 2): [7787, 7801, 7734],\n",
       " (4, 7, 1): [7766, 7936, 7858],\n",
       " (4, 8, 0): [7879, 7869, 7758],\n",
       " (5, 0, 7): [7917, 7691, 7960],\n",
       " (5, 1, 6): [7788, 7846, 7961],\n",
       " (5, 2, 5): [7734, 7794, 7940],\n",
       " (5, 3, 4): [7990, 7850, 8054],\n",
       " (5, 4, 3): [7826, 7821, 7784],\n",
       " (5, 5, 2): [7899, 7894, 7965],\n",
       " (5, 6, 1): [7984, 7961, 7832],\n",
       " (5, 7, 0): [7796, 7838, 7865],\n",
       " (6, 0, 6): [7872, 7972, 8015],\n",
       " (6, 1, 5): [7860, 7895, 7856],\n",
       " (6, 2, 4): [7737, 7856, 7821],\n",
       " (6, 3, 3): [7893, 7869, 7788],\n",
       " (6, 4, 2): [7890, 7962, 7912],\n",
       " (6, 5, 1): [7799, 7848, 7916],\n",
       " (6, 6, 0): [7903, 7879, 7929],\n",
       " (7, 0, 5): [7839, 7886, 7967],\n",
       " (7, 1, 4): [7947, 7787, 7708],\n",
       " (7, 2, 3): [7814, 7857, 7798],\n",
       " (7, 3, 2): [7802, 7545, 7950],\n",
       " (7, 4, 1): [7649, 7787, 7977],\n",
       " (7, 5, 0): [7809, 7787, 7883],\n",
       " (8, 0, 4): [7715, 7946, 7912],\n",
       " (8, 1, 3): [7922, 7942, 7773],\n",
       " (8, 2, 2): [7949, 8009, 7819],\n",
       " (8, 3, 1): [7928, 7749, 8114],\n",
       " (8, 4, 0): [7873, 7640, 7952],\n",
       " (9, 0, 3): [7887, 7767, 7849],\n",
       " (9, 1, 2): [7980, 7853, 7909],\n",
       " (9, 2, 1): [7824, 7842, 7882],\n",
       " (9, 3, 0): [7972, 7995, 7798],\n",
       " (10, 0, 2): [7762, 7814, 7877],\n",
       " (10, 1, 1): [7899, 7933, 8090],\n",
       " (10, 2, 0): [7902, 7880, 7993],\n",
       " (11, 0, 1): [7944, 7704, 7951],\n",
       " (11, 1, 0): [0, 0, 0],\n",
       " (12, 0, 0): [0, 0, 0]}"
      ]
     },
     "execution_count": 15,
     "metadata": {},
     "output_type": "execute_result"
    }
   ],
   "source": [
    "hvect_gndclass_count_in_data0"
   ]
  },
  {
   "cell_type": "code",
   "execution_count": 16,
   "metadata": {},
   "outputs": [
    {
     "name": "stdout",
     "output_type": "stream",
     "text": [
      "hvector: (0, 0, 12)\n",
      "hvector: (0, 1, 11)\n",
      "hvector: (0, 2, 10)\n",
      "hvector: (0, 3, 9)\n",
      "hvector: (0, 4, 8)\n",
      "hvector: (0, 5, 7)\n",
      "hvector: (0, 6, 6)\n",
      "hvector: (0, 7, 5)\n",
      "hvector: (0, 8, 4)\n",
      "hvector: (0, 9, 3)\n",
      "hvector: (0, 10, 2)\n",
      "hvector: (0, 11, 1)\n",
      "hvector: (0, 12, 0)\n",
      "hvector: (1, 0, 11)\n",
      "hvector: (1, 1, 10)\n",
      "hvector: (1, 2, 9)\n",
      "hvector: (1, 3, 8)\n",
      "hvector: (1, 4, 7)\n",
      "hvector: (1, 5, 6)\n",
      "hvector: (1, 6, 5)\n",
      "hvector: (1, 7, 4)\n",
      "hvector: (1, 8, 3)\n",
      "hvector: (1, 9, 2)\n",
      "hvector: (1, 10, 1)\n",
      "hvector: (1, 11, 0)\n",
      "hvector: (2, 0, 10)\n",
      "hvector: (2, 1, 9)\n",
      "hvector: (2, 2, 8)\n",
      "hvector: (2, 3, 7)\n",
      "hvector: (2, 4, 6)\n",
      "hvector: (2, 5, 5)\n",
      "hvector: (2, 6, 4)\n",
      "hvector: (2, 7, 3)\n",
      "hvector: (2, 8, 2)\n",
      "hvector: (2, 9, 1)\n",
      "hvector: (2, 10, 0)\n",
      "hvector: (3, 0, 9)\n",
      "hvector: (3, 1, 8)\n",
      "hvector: (3, 2, 7)\n",
      "hvector: (3, 3, 6)\n",
      "hvector: (3, 4, 5)\n",
      "hvector: (3, 5, 4)\n",
      "hvector: (3, 6, 3)\n",
      "hvector: (3, 7, 2)\n",
      "hvector: (3, 8, 1)\n",
      "hvector: (3, 9, 0)\n",
      "hvector: (4, 0, 8)\n",
      "hvector: (4, 1, 7)\n",
      "hvector: (4, 2, 6)\n",
      "hvector: (4, 3, 5)\n",
      "hvector: (4, 4, 4)\n",
      "hvector: (4, 5, 3)\n",
      "hvector: (4, 6, 2)\n",
      "hvector: (4, 7, 1)\n",
      "hvector: (4, 8, 0)\n",
      "hvector: (5, 0, 7)\n",
      "hvector: (5, 1, 6)\n",
      "hvector: (5, 2, 5)\n",
      "hvector: (5, 3, 4)\n",
      "hvector: (5, 4, 3)\n",
      "hvector: (5, 5, 2)\n",
      "hvector: (5, 6, 1)\n",
      "hvector: (5, 7, 0)\n",
      "hvector: (6, 0, 6)\n",
      "hvector: (6, 1, 5)\n",
      "hvector: (6, 2, 4)\n",
      "hvector: (6, 3, 3)\n",
      "hvector: (6, 4, 2)\n",
      "hvector: (6, 5, 1)\n",
      "hvector: (6, 6, 0)\n",
      "hvector: (7, 0, 5)\n",
      "hvector: (7, 1, 4)\n",
      "hvector: (7, 2, 3)\n",
      "hvector: (7, 3, 2)\n",
      "hvector: (7, 4, 1)\n",
      "hvector: (7, 5, 0)\n",
      "hvector: (8, 0, 4)\n",
      "hvector: (8, 1, 3)\n",
      "hvector: (8, 2, 2)\n",
      "hvector: (8, 3, 1)\n",
      "hvector: (8, 4, 0)\n",
      "hvector: (9, 0, 3)\n",
      "hvector: (9, 1, 2)\n",
      "hvector: (9, 2, 1)\n",
      "hvector: (9, 3, 0)\n",
      "hvector: (10, 0, 2)\n",
      "hvector: (10, 1, 1)\n",
      "hvector: (10, 2, 0)\n",
      "hvector: (11, 0, 1)\n",
      "hvector: (11, 1, 0)\n",
      "hvector: (12, 0, 0)\n"
     ]
    },
    {
     "data": {
      "text/plain": [
       "{(0, 0, 12): [7800, 7817, 7795],\n",
       " (0, 1, 11): [7924, 7960, 7872],\n",
       " (0, 2, 10): [7748, 7811, 7870],\n",
       " (0, 3, 9): [7724, 8004, 7811],\n",
       " (0, 4, 8): [7826, 7681, 7890],\n",
       " (0, 5, 7): [7861, 7861, 7709],\n",
       " (0, 6, 6): [7920, 7739, 7776],\n",
       " (0, 7, 5): [7717, 7901, 7731],\n",
       " (0, 8, 4): [7928, 7750, 7621],\n",
       " (0, 9, 3): [7893, 7966, 7918],\n",
       " (0, 10, 2): [7957, 7864, 7842],\n",
       " (0, 11, 1): [7859, 7749, 7914],\n",
       " (0, 12, 0): [7806, 7800, 7692],\n",
       " (1, 0, 11): [7794, 7819, 7756],\n",
       " (1, 1, 10): [8015, 7841, 7916],\n",
       " (1, 2, 9): [7913, 7904, 7815],\n",
       " (1, 3, 8): [7921, 7764, 7930],\n",
       " (1, 4, 7): [7894, 7807, 7895],\n",
       " (1, 5, 6): [7862, 7830, 7841],\n",
       " (1, 6, 5): [7932, 7761, 7788],\n",
       " (1, 7, 4): [7725, 7741, 7965],\n",
       " (1, 8, 3): [7850, 7845, 7646],\n",
       " (1, 9, 2): [8004, 7882, 8008],\n",
       " (1, 10, 1): [7745, 7893, 7850],\n",
       " (1, 11, 0): [7845, 7872, 7858],\n",
       " (2, 0, 10): [7871, 7821, 7949],\n",
       " (2, 1, 9): [7953, 7934, 7912],\n",
       " (2, 2, 8): [7783, 7647, 8012],\n",
       " (2, 3, 7): [7931, 7909, 7849],\n",
       " (2, 4, 6): [7891, 7833, 7916],\n",
       " (2, 5, 5): [7903, 7787, 7827],\n",
       " (2, 6, 4): [8060, 7811, 7926],\n",
       " (2, 7, 3): [7730, 7849, 7947],\n",
       " (2, 8, 2): [7685, 8027, 7764],\n",
       " (2, 9, 1): [7770, 7855, 7858],\n",
       " (2, 10, 0): [7864, 7998, 7820],\n",
       " (3, 0, 9): [7660, 7810, 7795],\n",
       " (3, 1, 8): [7842, 7942, 7807],\n",
       " (3, 2, 7): [7717, 7832, 7862],\n",
       " (3, 3, 6): [7735, 7807, 7777],\n",
       " (3, 4, 5): [7860, 7866, 7898],\n",
       " (3, 5, 4): [7960, 7746, 7702],\n",
       " (3, 6, 3): [7903, 7932, 7976],\n",
       " (3, 7, 2): [7931, 7952, 7722],\n",
       " (3, 8, 1): [7808, 7844, 7970],\n",
       " (3, 9, 0): [7958, 7863, 7716],\n",
       " (4, 0, 8): [7735, 7661, 7848],\n",
       " (4, 1, 7): [7889, 8010, 7754],\n",
       " (4, 2, 6): [7810, 7814, 7783],\n",
       " (4, 3, 5): [7766, 7776, 7900],\n",
       " (4, 4, 4): [8008, 7948, 7746],\n",
       " (4, 5, 3): [7931, 7811, 7851],\n",
       " (4, 6, 2): [7787, 7801, 7734],\n",
       " (4, 7, 1): [7766, 7936, 7858],\n",
       " (4, 8, 0): [7879, 7869, 7758],\n",
       " (5, 0, 7): [7917, 7691, 7960],\n",
       " (5, 1, 6): [7788, 7846, 7961],\n",
       " (5, 2, 5): [7734, 7794, 7940],\n",
       " (5, 3, 4): [7990, 7850, 8054],\n",
       " (5, 4, 3): [7826, 7821, 7784],\n",
       " (5, 5, 2): [7899, 7894, 7965],\n",
       " (5, 6, 1): [7984, 7961, 7832],\n",
       " (5, 7, 0): [7796, 7838, 7865],\n",
       " (6, 0, 6): [7872, 7972, 8015],\n",
       " (6, 1, 5): [7860, 7895, 7856],\n",
       " (6, 2, 4): [7737, 7856, 7821],\n",
       " (6, 3, 3): [7893, 7869, 7788],\n",
       " (6, 4, 2): [7890, 7962, 7912],\n",
       " (6, 5, 1): [7799, 7848, 7916],\n",
       " (6, 6, 0): [7903, 7879, 7929],\n",
       " (7, 0, 5): [7839, 7886, 7967],\n",
       " (7, 1, 4): [7947, 7787, 7708],\n",
       " (7, 2, 3): [7814, 7857, 7798],\n",
       " (7, 3, 2): [7802, 7545, 7950],\n",
       " (7, 4, 1): [7649, 7787, 7977],\n",
       " (7, 5, 0): [7809, 7787, 7883],\n",
       " (8, 0, 4): [7715, 7946, 7912],\n",
       " (8, 1, 3): [7922, 7942, 7773],\n",
       " (8, 2, 2): [7949, 8009, 7819],\n",
       " (8, 3, 1): [7928, 7749, 8114],\n",
       " (8, 4, 0): [7873, 7640, 7952],\n",
       " (9, 0, 3): [7887, 7767, 7849],\n",
       " (9, 1, 2): [7980, 7853, 7909],\n",
       " (9, 2, 1): [7824, 7842, 7882],\n",
       " (9, 3, 0): [7972, 7995, 7798],\n",
       " (10, 0, 2): [7762, 7814, 7877],\n",
       " (10, 1, 1): [7899, 7933, 8090],\n",
       " (10, 2, 0): [7902, 7880, 7993],\n",
       " (11, 0, 1): [7944, 7704, 7951],\n",
       " (11, 1, 0): [0, 0, 0],\n",
       " (12, 0, 0): [0, 0, 0]}"
      ]
     },
     "execution_count": 16,
     "metadata": {},
     "output_type": "execute_result"
    }
   ],
   "source": [
    "#Try the new version\n",
    "hvect_gndclass_count_in_data1 = lg.hvectstatstools.hvect_gndclass_counter1(data_all, data_gnd, hvectors)\n",
    "hvect_gndclass_count_in_data1"
   ]
  },
  {
   "attachments": {},
   "cell_type": "markdown",
   "metadata": {},
   "source": [
    "Working OK"
   ]
  },
  {
   "cell_type": "code",
   "execution_count": null,
   "metadata": {},
   "outputs": [],
   "source": []
  },
  {
   "cell_type": "code",
   "execution_count": null,
   "metadata": {},
   "outputs": [],
   "source": []
  },
  {
   "cell_type": "code",
   "execution_count": null,
   "metadata": {},
   "outputs": [],
   "source": []
  },
  {
   "cell_type": "code",
   "execution_count": null,
   "metadata": {},
   "outputs": [],
   "source": []
  },
  {
   "attachments": {},
   "cell_type": "markdown",
   "metadata": {},
   "source": [
    "## old stuff"
   ]
  },
  {
   "cell_type": "markdown",
   "metadata": {},
   "source": [
    "\n",
    "Try line-by-line"
   ]
  },
  {
   "cell_type": "code",
   "execution_count": 17,
   "metadata": {},
   "outputs": [
    {
     "data": {
      "text/plain": [
       "(0, 4, 8)"
      ]
     },
     "execution_count": 17,
     "metadata": {},
     "output_type": "execute_result"
    }
   ],
   "source": [
    "h0= hvectors[4]\n",
    "h0"
   ]
  },
  {
   "cell_type": "code",
   "execution_count": null,
   "metadata": {},
   "outputs": [],
   "source": [
    "d_h0_locs=None\n",
    "for i, h0_el in enumerate(h0):\n",
    "    if i==0: # initialise for the first class\n",
    "        d_h0_locs = (data_all[i,:,:,:]==h0_el)\n",
    "    else:\n",
    "        d_h0_locs = ( ( data_all[i,:,:,:]==h0_el) & d_h0_locs )"
   ]
  },
  {
   "cell_type": "code",
   "execution_count": null,
   "metadata": {},
   "outputs": [],
   "source": [
    "d_h0_locs"
   ]
  },
  {
   "cell_type": "code",
   "execution_count": null,
   "metadata": {},
   "outputs": [],
   "source": [
    "np.sum(d_h0_locs)"
   ]
  },
  {
   "cell_type": "code",
   "execution_count": null,
   "metadata": {},
   "outputs": [],
   "source": [
    "masked_gnd = np.ma.masked_where(np.logical_not(d_h0_locs), data_gnd)"
   ]
  },
  {
   "cell_type": "code",
   "execution_count": null,
   "metadata": {},
   "outputs": [],
   "source": [
    "masked_gnd"
   ]
  },
  {
   "cell_type": "code",
   "execution_count": null,
   "metadata": {},
   "outputs": [],
   "source": [
    "nclasses=3\n",
    "hvect_gndclass_counter1 = {}\n",
    "for h0i in hvectors:\n",
    "    d0= []\n",
    "    for c0 in range(nclasses):\n",
    "        d0.append(0)\n",
    "    hvect_gndclass_counter1[ h0i ] = d0\n",
    "\n",
    "for cl0 in range(3):\n",
    "    count_in_gnd_for_cls = np.ma.sum(np.ma.where(masked_gnd==cl0,1,0))\n",
    "    hvect_gndclass_counter1[ h0 ][cl0] += count_in_gnd_for_cls"
   ]
  },
  {
   "cell_type": "code",
   "execution_count": null,
   "metadata": {},
   "outputs": [],
   "source": [
    "hvect_gndclass_counter1"
   ]
  },
  {
   "attachments": {},
   "cell_type": "markdown",
   "metadata": {},
   "source": [
    "OK"
   ]
  }
 ],
 "metadata": {
  "kernelspec": {
   "display_name": "Python 3",
   "language": "python",
   "name": "python3"
  },
  "language_info": {
   "codemirror_mode": {
    "name": "ipython",
    "version": 3
   },
   "file_extension": ".py",
   "mimetype": "text/x-python",
   "name": "python",
   "nbconvert_exporter": "python",
   "pygments_lexer": "ipython3",
   "version": "3.9.16"
  },
  "orig_nbformat": 4
 },
 "nbformat": 4,
 "nbformat_minor": 2
}
