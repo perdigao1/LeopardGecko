{
 "cells": [
  {
   "cell_type": "markdown",
   "id": "contained-information",
   "metadata": {},
   "source": [
    "# Analyse Average Pooling Results obtained from consistency data\n",
    "This notebook is used to help analyse and visulise data processed from the notebook **AvgPooling3DConsistencyData.ipynb** .\n",
    "Typically tasks demonstrated here are:\n",
    "- plotting of score histogram\n",
    "- print locations that match a consistency score criteria\n",
    "- show locations in a volume that match a consistency score criteria."
   ]
  },
  {
   "cell_type": "markdown",
   "id": "first-cement",
   "metadata": {},
   "source": [
    "## Imports and helper functions "
   ]
  },
  {
   "cell_type": "code",
   "execution_count": 2,
   "id": "quick-administrator",
   "metadata": {},
   "outputs": [],
   "source": [
    "#%matplotlib notebook\n",
    "#Enables 3D plots to be interactive (rotation enabled)\n",
    "#Comment this line if this is not required. Notebook (kernel) must also be restarted\n",
    "\n",
    "import numpy as np\n",
    "import matplotlib.pyplot as plt\n",
    "import time\n",
    "#import dask.array as da\n",
    "import h5py\n",
    "from mpl_toolkits.mplot3d import Axes3D #3D plotting\n",
    "\n",
    "from ipywidgets import interact\n",
    "import ipywidgets as widgets"
   ]
  },
  {
   "cell_type": "code",
   "execution_count": 3,
   "id": "aquatic-israeli",
   "metadata": {},
   "outputs": [],
   "source": [
    "def PadOriginalData(origdata, padindexes):\n",
    "#Pads the original data by the number of indexes given\n",
    "    newdatahdf5 = origdata[0][ padindexes:-padindexes , padindexes:-padindexes , padindexes:-padindexes]\n",
    "    newZ= origdata[1][ padindexes:-padindexes , padindexes:-padindexes , padindexes:-padindexes]\n",
    "    newY= origdata[2][ padindexes:-padindexes , padindexes:-padindexes , padindexes:-padindexes]\n",
    "    newX= origdata[3][ padindexes:-padindexes , padindexes:-padindexes , padindexes:-padindexes]\n",
    "    \n",
    "    return (newdatahdf5 , newZ, newY, newX)"
   ]
  },
  {
   "cell_type": "code",
   "execution_count": 4,
   "id": "invalid-problem",
   "metadata": {},
   "outputs": [],
   "source": [
    "def GetIndicesFromOrigDataWithConsistencyScoreBetween(datatuple, cscore_low, cscore_high):\n",
    "    ''' Get indices of original data where the consistency score is betwen cscore_low and cscore_high\n",
    "    datatuple must be in format\n",
    "        datatuple[0] : array with the results of the average pooling\n",
    "        datatuple[1] , [2], [3] : Z,Y,X coordinates of the original data from where the average pooling was performed (corner?)\n",
    "    '''\n",
    "    \n",
    "    #This is needed to prevent errors when using slider (native Python float values to numpy.float)\n",
    "    cscore_low_np = np.float64(cscore_low)\n",
    "    cscore_high_np = np.float64(cscore_high)\n",
    "    \n",
    "    data = datatuple[0]\n",
    "\n",
    "    indexes = np.where( (data >= cscore_low_np) & (data <= cscore_high_np ) )\n",
    "    #Values will be in format (example)\n",
    "    # (array([52, 53, 54, 55, 56]), array([0, 0, 0, 0, 0]), array([283, 283, 283, 283, 283]))\n",
    "    \n",
    "    #Convert these indices to the original data indices\n",
    "    i_zip = list(zip(indexes[0],indexes[1],indexes[2]))\n",
    "    #This will convert to format (example)\n",
    "    # [(52, 0, 283), (53, 0, 283), (54, 0, 283), (55, 0, 283), (56, 0, 283)]\n",
    "    \n",
    "    #print (i_zip)\n",
    "    i_conv=[]\n",
    "    c_score = []\n",
    "    #Convert indices to the ones from original data\n",
    "    for e1 in i_zip:\n",
    "        #print (e1)\n",
    "        iz = datatuple[1][ e1[0] , e1[1] , e1[2] ]\n",
    "        iy = datatuple[2][ e1[0] , e1[1] , e1[2] ]\n",
    "        ix = datatuple[3][ e1[0] , e1[1] , e1[2] ]\n",
    "\n",
    "        i_conv.append( (iz,iy,ix))\n",
    "        c_score.append( data[ e1[0] , e1[1] , e1[2] ] ) #The actual cons-score is also returned\n",
    "    \n",
    "    \n",
    "    return i_conv, c_score\n",
    "\n",
    "def GetIndicesFromOrigDataWithConsistencyScoreNear(datatuple, cscore, cwidth= 0.1):\n",
    "    ''' Get indices of original data where the consistency score is between\n",
    "    cscore-cwidth and and cscore-cwidth\n",
    "    datatuple must be in format\n",
    "        datatuple[0] : array with the results of the average pooling\n",
    "        datatuple[1] , [2], [3] : Z,Y,X coordinates of the original data from where the average pooling was performed (corner?)\n",
    "    '''\n",
    "    cscore_low = cscore-cwidth/2\n",
    "    cscore_high = cscore+cwidth/2\n",
    "    \n",
    "    return GetIndicesFromOrigDataWithConsistencyScoreBetween(datatuple, cscore_low, cscore_high)"
   ]
  },
  {
   "cell_type": "code",
   "execution_count": 5,
   "id": "exposed-penalty",
   "metadata": {},
   "outputs": [],
   "source": [
    "def PlotZYXPointFromList(points3Dlist):\n",
    "    #Function to visualise location 3D points from a list of coordinates given\n",
    "    \n",
    "    fig = plt.figure(figsize=(4,3))\n",
    "    ax = fig.add_subplot(111, projection='3d')\n",
    "    \n",
    "    for p0 in points3Dlist:\n",
    "        ax.scatter(p0[2], p0[1], p0[0], marker = ',', color='blue')\n",
    "    ax.set_xlabel('X index')\n",
    "    ax.set_ylabel('Y index')\n",
    "    ax.set_zlabel('Z index')"
   ]
  },
  {
   "cell_type": "code",
   "execution_count": 6,
   "id": "romance-patent",
   "metadata": {},
   "outputs": [],
   "source": [
    "def PlotRegionsWhereRelatScoreConsistencyIs(relvalue0to1 , relwidth=0.1 , bPrintIndexes=False):\n",
    "    ''' Plots 3D locations in a volume, where the Relative score consistency is between\n",
    "    relvalue0to1-relwidth and relvalue0to1-relwidth\n",
    "    \n",
    "    bPrintIndexes: prints 3D locations found within the score region\n",
    "    \n",
    "    This function is designed to be used with interactivity in plots.\n",
    "    Global variables origdata, minValue and maxValue must be predefined\n",
    "    '''\n",
    "    \n",
    "    abs_value = minValue + relvalue0to1*(maxValue-minValue)\n",
    "    abs_precis_width = relwidth *(maxValue-minValue)\n",
    "    print (\"abs_value =\", abs_value , \", abs_precis_width=\", abs_precis_width)\n",
    "    listofindexes , _ = GetIndicesFromOrigDataWithConsistencyScoreNear(origdata, abs_value, abs_precis_width )\n",
    "    PlotZYXPointFromList(listofindexes)\n",
    "    if bPrintIndexes:\n",
    "        print (listofindexes)\n",
    "    \n",
    "def PlotRegionsWhereScoreConsistencyIsBetween(value_low , value_high, bPrintIndexes=False):\n",
    "    ''' Plots 3D locations in a volume, where the score consistency is between\n",
    "    value_low and value_high\n",
    "    \n",
    "    bPrintIndexes: prints 3D locations found within the score region\n",
    "    \n",
    "    This function is designed to be used with interactivity in plots.\n",
    "    Global variables origdata, minValue and maxValue must be predefined\n",
    "    '''\n",
    "    listofindexes, _ = GetIndicesFromOrigDataWithConsistencyScoreBetween(origdata, value_low, value_high )\n",
    "    PlotZYXPointFromList(listofindexes)\n",
    "    if bPrintIndexes:\n",
    "        print (listofindexes)"
   ]
  },
  {
   "cell_type": "markdown",
   "id": "gentle-roads",
   "metadata": {},
   "source": [
    "## Loading data"
   ]
  },
  {
   "cell_type": "code",
   "execution_count": 7,
   "id": "cosmetic-faith",
   "metadata": {},
   "outputs": [
    {
     "name": "stdout",
     "output_type": "stream",
     "text": [
      "file details\n"
     ]
    },
    {
     "data": {
      "text/plain": [
       "['X', 'Y', 'Z', 'data']"
      ]
     },
     "execution_count": 7,
     "metadata": {},
     "output_type": "execute_result"
    }
   ],
   "source": [
    "#Type the correct filename here\n",
    "f = h5py.File('2020-04-09_final_4_volumes_combined_VolAvg_k256_s128.h5','r')\n",
    "print (\"file details\")\n",
    "list (f.keys())"
   ]
  },
  {
   "cell_type": "code",
   "execution_count": 8,
   "id": "willing-labor",
   "metadata": {},
   "outputs": [
    {
     "data": {
      "text/plain": [
       "<KeysViewHDF5 ['X', 'Y', 'Z', 'data']>"
      ]
     },
     "execution_count": 8,
     "metadata": {},
     "output_type": "execute_result"
    }
   ],
   "source": [
    "f.keys()"
   ]
  },
  {
   "cell_type": "code",
   "execution_count": 7,
   "id": "nasty-handling",
   "metadata": {},
   "outputs": [
    {
     "name": "stdout",
     "output_type": "stream",
     "text": [
      "(15, 18, 18)\n"
     ]
    }
   ],
   "source": [
    "datahdf5 =  f['data']\n",
    "print (datahdf5.shape)\n",
    "X = f['X']\n",
    "Y = f['Y']\n",
    "Z = f['Z']\n",
    "origdata= (datahdf5, Z , Y, X) #Keep average pooling data and corresponding indexes together in this tuple"
   ]
  },
  {
   "cell_type": "code",
   "execution_count": 8,
   "id": "little-disclaimer",
   "metadata": {},
   "outputs": [
    {
     "name": "stdout",
     "output_type": "stream",
     "text": [
      "minValue= 15.479485034942627\n",
      "maxValue= 35.796614587306976\n"
     ]
    }
   ],
   "source": [
    "#Find minimum and maximum score values\n",
    "#These values will be useful later\n",
    "minValue = np.amin(datahdf5)\n",
    "maxValue = np.amax(datahdf5)\n",
    "print(\"minValue=\", minValue)\n",
    "print(\"maxValue=\", maxValue)"
   ]
  },
  {
   "cell_type": "markdown",
   "id": "disabled-circulation",
   "metadata": {},
   "source": [
    "## Analysis"
   ]
  },
  {
   "cell_type": "markdown",
   "id": "crude-minutes",
   "metadata": {},
   "source": [
    "### Histogram of consistency scores"
   ]
  },
  {
   "cell_type": "code",
   "execution_count": 9,
   "id": "hourly-weekend",
   "metadata": {},
   "outputs": [],
   "source": [
    "#histogram of intensities\n",
    "datahdf5_hist, binsedge = np.histogram(datahdf5 , bins='auto')"
   ]
  },
  {
   "cell_type": "code",
   "execution_count": 10,
   "id": "growing-playback",
   "metadata": {},
   "outputs": [
    {
     "data": {
      "text/plain": [
       "Text(0, 0.5, 'Counts')"
      ]
     },
     "execution_count": 10,
     "metadata": {},
     "output_type": "execute_result"
    },
    {
     "data": {
      "image/png": "[encoded data removed]",
      "text/plain": [
       "<Figure size 432x288 with 1 Axes>"
      ]
     },
     "metadata": {
      "needs_background": "light"
     },
     "output_type": "display_data"
    }
   ],
   "source": [
    "datahdf5_hist_x = binsedge[:-1]\n",
    "plt.plot(datahdf5_hist_x , datahdf5_hist)\n",
    "plt.xlabel('Consistency score')\n",
    "plt.ylabel('Counts')"
   ]
  },
  {
   "cell_type": "markdown",
   "id": "funded-barcelona",
   "metadata": {},
   "source": [
    "### Padding data example"
   ]
  },
  {
   "cell_type": "code",
   "execution_count": 11,
   "id": "subjective-guitar",
   "metadata": {},
   "outputs": [],
   "source": [
    "paddeddata = PadOriginalData(origdata,2) # pad data by n indexes, to avoid borders"
   ]
  },
  {
   "cell_type": "code",
   "execution_count": 12,
   "id": "southern-integrity",
   "metadata": {},
   "outputs": [],
   "source": [
    "#histogram of intensities\n",
    "paddeddata_hist, binsedge = np.histogram(datahdf5 , bins='auto')"
   ]
  },
  {
   "cell_type": "code",
   "execution_count": 13,
   "id": "acute-verse",
   "metadata": {
    "scrolled": true
   },
   "outputs": [
    {
     "data": {
      "text/plain": [
       "Text(0, 0.5, 'Counts')"
      ]
     },
     "execution_count": 13,
     "metadata": {},
     "output_type": "execute_result"
    },
    {
     "data": {
      "image/png": "[encoded data removed]",
      "text/plain": [
       "<Figure size 432x288 with 1 Axes>"
      ]
     },
     "metadata": {
      "needs_background": "light"
     },
     "output_type": "display_data"
    }
   ],
   "source": [
    "plt.plot(binsedge[:-1],paddeddata_hist)\n",
    "plt.xlabel('Consistency score')\n",
    "plt.ylabel('Counts')"
   ]
  },
  {
   "cell_type": "code",
   "execution_count": 14,
   "id": "planned-terry",
   "metadata": {},
   "outputs": [
    {
     "name": "stdout",
     "output_type": "stream",
     "text": [
      "minValuePad= 15.479485034942627\n",
      "maxValuePad= 35.796614587306976\n"
     ]
    }
   ],
   "source": [
    "#Find minimum and maximum values indices\n",
    "minValuePad = np.amin(paddeddata[0])\n",
    "maxValuePad = np.amax(paddeddata[0])\n",
    "print(\"minValuePad=\", minValue)\n",
    "print(\"maxValuePad=\", maxValue)"
   ]
  },
  {
   "cell_type": "markdown",
   "id": "dense-script",
   "metadata": {},
   "source": [
    "### Extracting indexes (text)"
   ]
  },
  {
   "cell_type": "code",
   "execution_count": 15,
   "id": "expressed-flexibility",
   "metadata": {
    "scrolled": true
   },
   "outputs": [
    {
     "name": "stdout",
     "output_type": "stream",
     "text": [
      "Indices at minimum value\n",
      "([(512, 128, 2304)], [15.479485034942627])\n"
     ]
    }
   ],
   "source": [
    "print(\"Indices at minimum value\")\n",
    "print(GetIndicesFromOrigDataWithConsistencyScoreNear(origdata, minValue))"
   ]
  },
  {
   "cell_type": "code",
   "execution_count": 16,
   "id": "silver-dutch",
   "metadata": {},
   "outputs": [
    {
     "name": "stdout",
     "output_type": "stream",
     "text": [
      "Indices at 1/4 score value =  20.558767423033714\n",
      "[(1920, 1664, 256)]\n"
     ]
    }
   ],
   "source": [
    "print(\"Indices at 1/4 score value = \", str((maxValue-minValue)*0.25+minValue )  )\n",
    "listof_IndexQuarters , _ = GetIndicesFromOrigDataWithConsistencyScoreNear(origdata, (maxValue-minValue)*0.25+minValue,0.1 )\n",
    "print( listof_IndexQuarters )"
   ]
  },
  {
   "cell_type": "markdown",
   "id": "toxic-winter",
   "metadata": {},
   "source": [
    "### 3D plots of score indexes locations"
   ]
  },
  {
   "cell_type": "code",
   "execution_count": 17,
   "id": "novel-accounting",
   "metadata": {
    "scrolled": false
   },
   "outputs": [
    {
     "data": {
      "image/png": "[encoded data removed]",
      "text/plain": [
       "<Figure size 288x216 with 1 Axes>"
      ]
     },
     "metadata": {
      "needs_background": "light"
     },
     "output_type": "display_data"
    }
   ],
   "source": [
    "PlotZYXPointFromList(listof_IndexQuarters)"
   ]
  },
  {
   "cell_type": "code",
   "execution_count": 18,
   "id": "valid-sucking",
   "metadata": {},
   "outputs": [
    {
     "data": {
      "image/png": "[encoded data removed]",
      "text/plain": [
       "<Figure size 288x216 with 1 Axes>"
      ]
     },
     "metadata": {
      "needs_background": "light"
     },
     "output_type": "display_data"
    }
   ],
   "source": [
    "listof_IndexHalfs , _ = GetIndicesFromOrigDataWithConsistencyScoreNear(origdata, (maxValue-minValue)*0.5+minValue ,0.1)\n",
    "PlotZYXPointFromList(listof_IndexHalfs)"
   ]
  },
  {
   "cell_type": "markdown",
   "id": "defined-destiny",
   "metadata": {},
   "source": [
    "Plot with slider"
   ]
  },
  {
   "cell_type": "code",
   "execution_count": 19,
   "id": "checked-commodity",
   "metadata": {},
   "outputs": [
    {
     "name": "stdout",
     "output_type": "stream",
     "text": [
      "abs_value = 17.511197990179063 , abs_precis_width= 2.031712955236435\n"
     ]
    },
    {
     "data": {
      "image/png": "[encoded data removed]",
      "text/plain": [
       "<Figure size 288x216 with 1 Axes>"
      ]
     },
     "metadata": {
      "needs_background": "light"
     },
     "output_type": "display_data"
    }
   ],
   "source": [
    "PlotRegionsWhereRelatScoreConsistencyIs(0.1)"
   ]
  },
  {
   "cell_type": "code",
   "execution_count": 20,
   "id": "southern-placement",
   "metadata": {
    "scrolled": false
   },
   "outputs": [
    {
     "name": "stdout",
     "output_type": "stream",
     "text": [
      "abs_value = 25.6380498111248 , abs_precis_width= 2.031712955236435\n"
     ]
    },
    {
     "data": {
      "image/png": "[encoded data removed]",
      "text/plain": [
       "<Figure size 288x216 with 1 Axes>"
      ]
     },
     "metadata": {
      "needs_background": "light"
     },
     "output_type": "display_data"
    }
   ],
   "source": [
    "PlotRegionsWhereRelatScoreConsistencyIs(0.5)"
   ]
  },
  {
   "cell_type": "code",
   "execution_count": 21,
   "id": "other-screening",
   "metadata": {
    "scrolled": true
   },
   "outputs": [
    {
     "name": "stdout",
     "output_type": "stream",
     "text": [
      "abs_value = 31.733188676834107 , abs_precis_width= 2.031712955236435\n"
     ]
    },
    {
     "data": {
      "image/png": "[encoded data removed]",
      "text/plain": [
       "<Figure size 288x216 with 1 Axes>"
      ]
     },
     "metadata": {
      "needs_background": "light"
     },
     "output_type": "display_data"
    }
   ],
   "source": [
    "PlotRegionsWhereRelatScoreConsistencyIs(0.8)"
   ]
  },
  {
   "cell_type": "code",
   "execution_count": 22,
   "id": "quick-mexico",
   "metadata": {
    "scrolled": true
   },
   "outputs": [
    {
     "data": {
      "image/png": "[encoded data removed]",
      "text/plain": [
       "<Figure size 288x216 with 1 Axes>"
      ]
     },
     "metadata": {
      "needs_background": "light"
     },
     "output_type": "display_data"
    }
   ],
   "source": [
    "PlotRegionsWhereScoreConsistencyIsBetween(minValue , minValue+2.0)"
   ]
  },
  {
   "cell_type": "markdown",
   "id": "outdoor-withdrawal",
   "metadata": {},
   "source": [
    "### Interactive 3D plots of score indexes locations"
   ]
  },
  {
   "cell_type": "code",
   "execution_count": 23,
   "id": "molecular-alpha",
   "metadata": {},
   "outputs": [
    {
     "data": {
      "application/vnd.jupyter.widget-view+json": {
       "model_id": "04af1d4dcf164019a055c0f10bdd1e78",
       "version_major": 2,
       "version_minor": 0
      },
      "text/plain": [
       "interactive(children=(FloatSlider(value=15.479485034942627, continuous_update=False, description='value_low', …"
      ]
     },
     "metadata": {},
     "output_type": "display_data"
    },
    {
     "data": {
      "text/plain": [
       "<function __main__.PlotRegionsWhereScoreConsistencyIsBetween(value_low, value_high, bPrintIndexes=False)>"
      ]
     },
     "execution_count": 23,
     "metadata": {},
     "output_type": "execute_result"
    }
   ],
   "source": [
    "interact(PlotRegionsWhereScoreConsistencyIsBetween, \\\n",
    "         value_low = widgets.FloatSlider(value=minValue, min=minValue, max=maxValue , continuous_update=False ) , \\\n",
    "         value_high = widgets.FloatSlider(value= (minValue+0.1), min=minValue, max=maxValue , continuous_update=False )\n",
    "        )"
   ]
  },
  {
   "cell_type": "code",
   "execution_count": 24,
   "id": "aboriginal-sydney",
   "metadata": {
    "scrolled": true
   },
   "outputs": [
    {
     "data": {
      "application/vnd.jupyter.widget-view+json": {
       "model_id": "120b9eab767246f8bdd832c6e67c0a39",
       "version_major": 2,
       "version_minor": 0
      },
      "text/plain": [
       "interactive(children=(FloatSlider(value=0.0, continuous_update=False, description='relvalue0to1', max=1.0, ste…"
      ]
     },
     "metadata": {},
     "output_type": "display_data"
    },
    {
     "data": {
      "text/plain": [
       "<function __main__.PlotRegionsWhereRelatScoreConsistencyIs(relvalue0to1, relwidth=0.1, bPrintIndexes=False)>"
      ]
     },
     "execution_count": 24,
     "metadata": {},
     "output_type": "execute_result"
    }
   ],
   "source": [
    "interact(PlotRegionsWhereRelatScoreConsistencyIs, \\\n",
    "         relvalue0to1 = widgets.FloatSlider(value=0.0, min=0.0, max=1.0, step=0.01 , continuous_update=False ) , \\\n",
    "         relwidth = widgets.FloatSlider(value= 0.1, min=0.0, max=0.5,step=0.025, continuous_update=False )\n",
    "        )"
   ]
  },
  {
   "cell_type": "markdown",
   "id": "accredited-positive",
   "metadata": {},
   "source": [
    "## Select regions automatically and generate report\n",
    "TODO: Identify regions within the histogram that would be good to segment.\n",
    "1. Region near leftmost edge of histogram\n",
    "2. Regions between leftmost edge and peak\n",
    "2. Regions between leftmost edge and peak\n",
    "4. Region on the rising slope of the histogram.\n",
    "5. Top of histogram\n"
   ]
  },
  {
   "cell_type": "code",
   "execution_count": 25,
   "id": "adolescent-supplement",
   "metadata": {},
   "outputs": [],
   "source": [
    "#get x-consistency score where histogram is maximum\n",
    "hist_vmax = np.amax(datahdf5_hist)"
   ]
  },
  {
   "cell_type": "code",
   "execution_count": 26,
   "id": "worth-separation",
   "metadata": {},
   "outputs": [
    {
     "name": "stdout",
     "output_type": "stream",
     "text": [
      "[33.25697339]\n"
     ]
    }
   ],
   "source": [
    "hist_x_vmax = datahdf5_hist_x[ np.where(datahdf5_hist == hist_vmax)[0] ]\n",
    "print(hist_x_vmax)\n",
    "#Choose regions based in the histogram shape"
   ]
  },
  {
   "cell_type": "code",
   "execution_count": 27,
   "id": "rational-malpractice",
   "metadata": {},
   "outputs": [
    {
     "name": "stdout",
     "output_type": "stream",
     "text": [
      "15.479485034942627 35.627305174370605\n"
     ]
    }
   ],
   "source": [
    "hist_xmin = np.min(datahdf5_hist_x)\n",
    "hist_xmax = np.max(datahdf5_hist_x)\n",
    "print(hist_xmin , hist_xmax)"
   ]
  },
  {
   "cell_type": "code",
   "execution_count": 48,
   "id": "ongoing-nickname",
   "metadata": {},
   "outputs": [],
   "source": [
    "from scipy import optimize\n",
    "\n",
    "#Approximate peak with gaussian\n",
    "def fgaussian(x, amplitude, mean, stddev):\n",
    "    return amplitude * np.exp( -0.5 * ((x - mean) / stddev)**2 )\n",
    "\n",
    "aguess= np.max(datahdf5_hist)\n",
    "mguess = hist_x_vmax[0]\n",
    "popt, pcov = optimize.curve_fit(fgaussian, datahdf5_hist_x , datahdf5_hist, [aguess, mguess, 1.0])"
   ]
  },
  {
   "cell_type": "code",
   "execution_count": 49,
   "id": "theoretical-dispatch",
   "metadata": {},
   "outputs": [
    {
     "name": "stdout",
     "output_type": "stream",
     "text": [
      "[336.99165969  33.27826868   0.84213205]\n"
     ]
    }
   ],
   "source": [
    "#popt will contain the estimated values as follows\n",
    "# [0] amplitude , [1] mean, [2] stdev\n",
    "# the mean should be similar to hist_x_vmax calculated earlier\n",
    "print(popt)"
   ]
  },
  {
   "cell_type": "code",
   "execution_count": 50,
   "id": "valid-brazilian",
   "metadata": {
    "scrolled": true
   },
   "outputs": [
    {
     "data": {
      "text/plain": [
       "[<matplotlib.lines.Line2D at 0x7f31d1341310>]"
      ]
     },
     "execution_count": 50,
     "metadata": {},
     "output_type": "execute_result"
    },
    {
     "data": {
      "image/png": "[encoded data removed]",
      "text/plain": [
       "<Figure size 432x288 with 1 Axes>"
      ]
     },
     "metadata": {
      "needs_background": "light"
     },
     "output_type": "display_data"
    }
   ],
   "source": [
    "#Check fitting visually\n",
    "xgauss=np.linspace(15,36, 100)\n",
    "ygauss = fgaussian( xgauss , popt[0], popt[1],popt[2])\n",
    "\n",
    "plt.plot(datahdf5_hist_x,datahdf5_hist)\n",
    "plt.plot(xgauss, ygauss , color='r')\n"
   ]
  },
  {
   "cell_type": "markdown",
   "id": "judicial-fifth",
   "metadata": {},
   "source": [
    "### Consistency auto-locations"
   ]
  },
  {
   "cell_type": "code",
   "execution_count": 66,
   "id": "specialized-sixth",
   "metadata": {},
   "outputs": [],
   "source": [
    "# Automatically find volumes (their centers) which have consistency scores near a value hx\n",
    "# hx values are chosen based in the shape of theconsistency score histogram and peak location\n",
    "# Peak is fitted to a gaussian.\n",
    "\n",
    "#Commonest consistency\n",
    "hx5 = popt[1]\n",
    "\n",
    "#At FWHM going up\n",
    "hx4 = popt[1] - popt[2]*2.35482 /2 # FHWM = 2.35482*stdev \n",
    "\n",
    "#At mean - 3*stdev (3 sigma)\n",
    "hx3 = popt[1] - 3* popt[2]\n",
    "\n",
    "#Somewhere halfway between max and min\n",
    "hx2 = (hist_xmax + hist_xmin)/2.0\n",
    "\n",
    "hx1 = (hist_xmax - hist_xmin)/4 + hist_xmin"
   ]
  },
  {
   "cell_type": "code",
   "execution_count": 67,
   "id": "joined-bikini",
   "metadata": {},
   "outputs": [],
   "source": [
    "import math\n",
    "def getClosestlVoxelFromListOfIndices(listindices_c, Zc,Yc,Xc):\n",
    "    #From the list of voxel indices, get the closest voxel to point (Xc, Yc, Zc)\n",
    "    listindices = listindices_c[0]\n",
    "    listcscores = listindices_c[1]\n",
    "    \n",
    "    #First element sets the return result (default)\n",
    "    if len(listindices) >0:\n",
    "        voxelresult = listindices[0]\n",
    "        voxelresult_dist = (voxelresult[0]-Zc)**2 + (voxelresult[1]-Yc)**2 + (voxelresult[2] - Xc)**2\n",
    "        voxel_cscore = listcscores[0]\n",
    "        \n",
    "        if len(listindices)>1:\n",
    "            for j0 in range(1, len(listindices)):\n",
    "                i0 =  listindices[j0]\n",
    "                #print( \"i0= \" , i0)\n",
    "                thisdist = math.sqrt( (i0[0]-Zc)**2 + (i0[1]-Yc)**2 + (i0[2] - Xc)**2 )\n",
    "                if thisdist<voxelresult_dist:\n",
    "                    voxelresult = i0\n",
    "                    voxelresult_dist = thisdist\n",
    "                    voxel_cscore = listcscores[j0]\n",
    "        \n",
    "        #print (\"Closest voxel is \", voxelresult , \" with distance \", voxelresult_dist)\n",
    "        return voxelresult, voxelresult_dist, voxel_cscore"
   ]
  },
  {
   "cell_type": "code",
   "execution_count": 68,
   "id": "legislative-custom",
   "metadata": {},
   "outputs": [],
   "source": [
    "Zcenter = int( (np.amax(Z) - np.amin(Z)) /2 )\n",
    "Ycenter = int( (np.amax(Y) - np.amin(Y)) /2 )\n",
    "Xcenter = int( (np.amax(X) - np.amin(X)) /2 )"
   ]
  },
  {
   "cell_type": "code",
   "execution_count": 69,
   "id": "temporal-juvenile",
   "metadata": {},
   "outputs": [],
   "source": [
    "point5 = getClosestlVoxelFromListOfIndices ( \\\n",
    "    GetIndicesFromOrigDataWithConsistencyScoreNear(origdata, hx5, popt[2] / 4 ), \\\n",
    "    Zcenter , Ycenter, Xcenter)"
   ]
  },
  {
   "cell_type": "code",
   "execution_count": 70,
   "id": "gorgeous-supervisor",
   "metadata": {},
   "outputs": [],
   "source": [
    "point4 = getClosestlVoxelFromListOfIndices ( \\\n",
    "    GetIndicesFromOrigDataWithConsistencyScoreNear(origdata, hx4, popt[2] / 4 ), \\\n",
    "    Zcenter , Ycenter, Xcenter)"
   ]
  },
  {
   "cell_type": "code",
   "execution_count": 71,
   "id": "frequent-painting",
   "metadata": {},
   "outputs": [],
   "source": [
    "point3 = getClosestlVoxelFromListOfIndices ( \\\n",
    "    GetIndicesFromOrigDataWithConsistencyScoreNear(origdata, hx3, popt[2] / 4 ), \\\n",
    "    Zcenter , Ycenter, Xcenter)"
   ]
  },
  {
   "cell_type": "code",
   "execution_count": 72,
   "id": "supreme-clothing",
   "metadata": {},
   "outputs": [],
   "source": [
    "point2 = getClosestlVoxelFromListOfIndices ( \\\n",
    "    GetIndicesFromOrigDataWithConsistencyScoreNear(origdata, hx2, popt[2] / 4 ), \\\n",
    "    Zcenter , Ycenter, Xcenter)"
   ]
  },
  {
   "cell_type": "code",
   "execution_count": 73,
   "id": "hidden-connectivity",
   "metadata": {},
   "outputs": [],
   "source": [
    "point1 = getClosestlVoxelFromListOfIndices ( \\\n",
    "    GetIndicesFromOrigDataWithConsistencyScoreNear(origdata, hx1, popt[2] / 4 ), \\\n",
    "    Zcenter , Ycenter, Xcenter)"
   ]
  },
  {
   "cell_type": "markdown",
   "id": "french-communication",
   "metadata": {},
   "source": [
    "Regions of interest are the 256x256x256 with centres at the following locations"
   ]
  },
  {
   "cell_type": "code",
   "execution_count": 74,
   "id": "killing-underground",
   "metadata": {},
   "outputs": [
    {
     "name": "stdout",
     "output_type": "stream",
     "text": [
      "Center location with bad consistency  (1920, 1664, 256)\n",
      "Center location with bad-mid consistency  (640, 256, 128)\n",
      "Center location with mid consistency  (768, 768, 1152)\n",
      "Center location with half-commonest consistency  (768, 1280, 1152)\n",
      "Center location with commonest consistency  (896, 1024, 1152)\n"
     ]
    }
   ],
   "source": [
    "print (\"Center location with bad consistency \" , point1[0])\n",
    "print (\"Center location with bad-mid consistency \" , point2[0])\n",
    "print (\"Center location with mid consistency \" , point3[0])\n",
    "print (\"Center location with half-commonest consistency \" , point4[0])\n",
    "print (\"Center location with commonest consistency \" , point5[0])"
   ]
  },
  {
   "cell_type": "code",
   "execution_count": 75,
   "id": "tribal-locking",
   "metadata": {},
   "outputs": [],
   "source": [
    "def point_ReportResultAs_Vol_Center_CScore(p3d , width):\n",
    "    w2 = int(width/2)\n",
    "    \n",
    "    p = p3d[0] #First element is the voxel coordinates\n",
    "    point_dist = p3d[1] #Second element is the distance to...\n",
    "    point_cscore = p3d[2] #Second element is the consistency score\n",
    "    \n",
    "    s = \"[ \" + str(p[0]-w2) + \":\" + str(p[0]+w2) + \" , \" + \\\n",
    "        str(p[1]-w2) + \":\" + str(p[1]+w2) + \" , \" + \\\n",
    "        str(p[2]-w2) + \":\" + str(p[2]+w2) + \\\n",
    "        \" ]\"\n",
    "    s +=  \" centered at \" + str(p)\n",
    "    s += \" cscore=\" + str(point_cscore)\n",
    "    return s"
   ]
  },
  {
   "cell_type": "code",
   "execution_count": 76,
   "id": "informed-composite",
   "metadata": {},
   "outputs": [
    {
     "name": "stdout",
     "output_type": "stream",
     "text": [
      "Volume region with bad consistency  [ 1792:2048 , 1536:1792 , 128:384 ] centered at (1920, 1664, 256) cscore=20.512474536895752\n",
      "Volume region with bad-mid consistency  [ 512:768 , 128:384 , 0:256 ] centered at (640, 256, 128) cscore=25.529066383838654\n",
      "Volume region with mid consistency  [ 640:896 , 640:896 , 1024:1280 ] centered at (768, 768, 1152) cscore=30.682079195976257\n",
      "Volume region with half-commonest consistency  [ 640:896 , 1152:1408 , 1024:1280 ] centered at (768, 1280, 1152) cscore=32.287492752075195\n",
      "Volume region with commonest consistency  [ 768:1024 , 896:1152 , 1024:1280 ] centered at (896, 1024, 1152) cscore=33.244472205638885\n"
     ]
    }
   ],
   "source": [
    "print (\"Volume region with bad consistency \" , point_ReportResultAs_Vol_Center_CScore(point1, 256) )\n",
    "print (\"Volume region with bad-mid consistency \" , point_ReportResultAs_Vol_Center_CScore(point2, 256) ) \n",
    "print (\"Volume region with mid consistency \" , point_ReportResultAs_Vol_Center_CScore(point3, 256) )\n",
    "print (\"Volume region with half-commonest consistency \" , point_ReportResultAs_Vol_Center_CScore(point4, 256) )\n",
    "print (\"Volume region with commonest consistency \" , point_ReportResultAs_Vol_Center_CScore(point5, 256) )"
   ]
  },
  {
   "cell_type": "markdown",
   "id": "proof-filing",
   "metadata": {},
   "source": [
    "### Plot histogram with relevant points highlighted"
   ]
  },
  {
   "cell_type": "code",
   "execution_count": 77,
   "id": "tracked-raise",
   "metadata": {},
   "outputs": [
    {
     "data": {
      "text/plain": [
       "<matplotlib.lines.Line2D at 0x7f31d1990a90>"
      ]
     },
     "execution_count": 77,
     "metadata": {},
     "output_type": "execute_result"
    },
    {
     "data": {
      "image/png": "[encoded data removed]",
      "text/plain": [
       "<Figure size 432x288 with 1 Axes>"
      ]
     },
     "metadata": {
      "needs_background": "light"
     },
     "output_type": "display_data"
    }
   ],
   "source": [
    "plt.plot(binsedge[:-1],paddeddata_hist)\n",
    "plt.xlabel('Consistency score')\n",
    "plt.ylabel('Counts')\n",
    "plt.axvline(point1[2], label='point1', color='red')\n",
    "plt.axvline(point2[2], label='point2', color='red')\n",
    "plt.axvline(point3[2], label='point3', color='red')\n",
    "plt.axvline(point4[2], label='point4', color='red')\n",
    "plt.axvline(point5[2], label='point5', color='red')"
   ]
  },
  {
   "cell_type": "code",
   "execution_count": null,
   "id": "favorite-louis",
   "metadata": {},
   "outputs": [],
   "source": []
  }
 ],
 "metadata": {
  "kernelspec": {
   "display_name": "Python 3",
   "language": "python",
   "name": "python3"
  },
  "language_info": {
   "codemirror_mode": {
    "name": "ipython",
    "version": 3
   },
   "file_extension": ".py",
   "mimetype": "text/x-python",
   "name": "python",
   "nbconvert_exporter": "python",
   "pygments_lexer": "ipython3",
   "version": "3.8.6"
  }
 },
 "nbformat": 4,
 "nbformat_minor": 5
}
